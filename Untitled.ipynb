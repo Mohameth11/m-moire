{
 "cells": [
  {
   "cell_type": "code",
   "execution_count": 5,
   "id": "42f29ff0-50a7-4d6f-a4be-5fabc4a1eeae",
   "metadata": {},
   "outputs": [],
   "source": [
    "countries = [\"France\", \"Spain\", \"United State\", \"Canada\", \"Australia\", \"Argentina\"]"
   ]
  },
  {
   "cell_type": "code",
   "execution_count": 6,
   "id": "564e03ee-4d29-48de-8d79-e929486d5043",
   "metadata": {},
   "outputs": [],
   "source": [
    "temperatures = [122.5, 124.0, 134.1, 105.2, 112.5, 128.3]"
   ]
  },
  {
   "cell_type": "code",
   "execution_count": 7,
   "id": "481706d3-82fd-491f-a1d1-77cf64fe70c4",
   "metadata": {},
   "outputs": [
    {
     "name": "stdout",
     "output_type": "stream",
     "text": [
      "['France', 'Spain', 'United State']\n"
     ]
    }
   ],
   "source": [
    "countries_slice = countries[0:3]\n",
    "print(countries_slice)"
   ]
  },
  {
   "cell_type": "code",
   "execution_count": 8,
   "id": "233948ff-57b7-42a3-9209-23bddf4105a0",
   "metadata": {},
   "outputs": [],
   "source": [
    "temperatures_slice = temperatures[2:]"
   ]
  },
  {
   "cell_type": "code",
   "execution_count": 9,
   "id": "42b3d9bd-4cb7-4c9a-a84c-4ec6ba1c4ba0",
   "metadata": {},
   "outputs": [
    {
     "name": "stdout",
     "output_type": "stream",
     "text": [
      "[134.1, 105.2, 112.5, 128.3]\n"
     ]
    }
   ],
   "source": [
    "print(temperatures_slice)"
   ]
  },
  {
   "cell_type": "code",
   "execution_count": 4,
   "id": "26aca1e8-6cf3-4cf8-a0b7-a02b9ac33312",
   "metadata": {},
   "outputs": [
    {
     "data": {
      "text/plain": [
       "<_io.TextIOWrapper name='python.txt' mode='r' encoding='cp1252'>"
      ]
     },
     "execution_count": 4,
     "metadata": {},
     "output_type": "execute_result"
    }
   ],
   "source": [
    "open(\"python.txt\", \"r\")"
   ]
  },
  {
   "cell_type": "code",
   "execution_count": 5,
   "id": "b758dc81-d20c-4d53-ac5b-58fec027dce2",
   "metadata": {},
   "outputs": [],
   "source": [
    "f=open(\"python.txt\", \"r\")"
   ]
  },
  {
   "cell_type": "code",
   "execution_count": 6,
   "id": "b16257a0-9cdc-4fbe-b343-638033e8f319",
   "metadata": {},
   "outputs": [
    {
     "name": "stdout",
     "output_type": "stream",
     "text": [
      "<_io.TextIOWrapper name='python.txt' mode='r' encoding='cp1252'>\n"
     ]
    }
   ],
   "source": [
    "print(f)"
   ]
  },
  {
   "cell_type": "code",
   "execution_count": 7,
   "id": "34dfba0a-473c-4798-a394-bd3a23b89051",
   "metadata": {},
   "outputs": [],
   "source": [
    "g=f.read()"
   ]
  },
  {
   "cell_type": "code",
   "execution_count": 8,
   "id": "17abd484-96de-46bb-96f0-f04a300521a2",
   "metadata": {},
   "outputs": [
    {
     "name": "stdout",
     "output_type": "stream",
     "text": [
      "Je lis mon premier fichier !!!\n"
     ]
    }
   ],
   "source": [
    "print(g)"
   ]
  },
  {
   "cell_type": "markdown",
   "id": "62181aed-1a11-45d4-96b5-cbb12a836fa1",
   "metadata": {},
   "source": [
    "Training"
   ]
  },
  {
   "cell_type": "code",
   "execution_count": 11,
   "id": "a8a01fea-9519-44a3-8265-c94fb0a6228a",
   "metadata": {},
   "outputs": [],
   "source": [
    "f = open(\"departements_fr.csv\", \"r\")\n",
    "         "
   ]
  },
  {
   "cell_type": "code",
   "execution_count": 12,
   "id": "012bdc0e-232a-4677-ac3d-a8b1a54c7fff",
   "metadata": {},
   "outputs": [],
   "source": [
    "g=f.read()"
   ]
  },
  {
   "cell_type": "code",
   "execution_count": 13,
   "id": "00ca4b17-666c-4f98-acc2-a38cbbb3790f",
   "metadata": {},
   "outputs": [
    {
     "name": "stdout",
     "output_type": "stream",
     "text": [
      "Ain,643309\n",
      "Aisne,554040\n",
      "Allier,353262\n",
      "Alpes-de-Haute-Provence,166298\n",
      "Alpes-Maritimes,1098785\n",
      "Ardèche,332051\n",
      "Ardennes,287775\n",
      "Ariège,158076\n",
      "Aube,316098\n",
      "Aude,375065\n",
      "Aveyron,289901\n",
      "Bas-Rhin,1131812\n",
      "Bouches-du-Rhône,2035475\n",
      "Calvados,708407\n",
      "Cantal,152400\n",
      "Charente,366787\n",
      "Charente-Maritime,656046\n",
      "Cher,318590\n",
      "Corrèze,249684\n",
      "Corse-du-Sud,154100\n",
      "Côte-d'Or,545001\n",
      "Côtes-d'Armor,617413\n",
      "Creuse,124948\n",
      "Deux-Sèvres,384655\n",
      "Dordogne,428651\n",
      "Doubs,549155\n",
      "Drôme,514104\n",
      "Essonne,1286908\n",
      "Eure,616076\n",
      "Eure-et-Loir,445083\n",
      "Finistère,935393\n",
      "Gard,752382\n",
      "Gers,197988\n",
      "Gironde,1556663\n",
      "Guadeloupe,406706\n",
      "Guyane,254845\n",
      "Haute-Corse,175499\n",
      "Haute-Garonne,1344579\n",
      "Haute-Loire,234078\n",
      "Haute-Marne,186698\n",
      "Hautes-Alpes,145213\n",
      "Haute-Saône,246022\n",
      "Haute-Savoie,806447\n",
      "Hautes-Pyrénées,236577\n",
      "Haute-Vienne,384708\n",
      "Haut-Rhin,775941\n",
      "Hauts-de-Seine,1617484\n",
      "Hérault,1127333\n",
      "Ille-et-Vilaine,1060051\n",
      "Indre,232802\n",
      "Indre-et-Loire,619004\n",
      "Isère,1271938\n",
      "Jura,270826\n",
      "La Réunion,541487\n",
      "Landes,414090\n",
      "Loire,774262\n",
      "Loire-Atlantique,1382766\n",
      "Loiret,688098\n",
      "Loir-et-Cher,344121\n",
      "Lot,180016\n",
      "Lot-et-Garonne,343198\n",
      "Lozère,80423\n",
      "Maine-et-Loire,829156\n",
      "Manche,518322\n",
      "Marne,584297\n",
      "Martinique,390252\n",
      "Mayenne,317716\n",
      "Meurthe-et-Moselle,746687\n",
      "Meuse,197763\n",
      "Morbihan,764338\n",
      "Moselle,1065894\n",
      "Nièvre,221048\n",
      "Nord,2640622\n",
      "Oise,838646\n",
      "Orne,297109\n",
      "Paris,2243739\n",
      "Pas-de-Calais,1497668\n",
      "Puy-de-Dôme,661248\n",
      "Pyrénées-Atlantiques,688451\n",
      "Pyrénées-Orientales,474842\n",
      "Rhône,1833002\n",
      "Saône-et-Loire,574229\n",
      "Sarthe,583961\n",
      "Savoie,440777\n",
      "Seine-et-Marne,1400477\n",
      "Seine-Maritime,1284107\n",
      "Seine-Saint-Denis,1582139\n",
      "Somme,583641\n",
      "Tarn,396341\n",
      "Tarn-et-Garonne,258696\n",
      "Territoire de Belfort,147647\n",
      "Val-de-Marne,1377511\n",
      "Val-d'Oise,1221946\n",
      "Var,1055745\n",
      "Vaucluse,566592\n",
      "Vendée,681469\n",
      "Vienne,444347\n",
      "Vosges,386978\n",
      "Yonne,352433\n",
      "Yvelines,1449398\n"
     ]
    }
   ],
   "source": [
    "print(g)"
   ]
  },
  {
   "cell_type": "code",
   "execution_count": 31,
   "id": "9412ee13-d3c1-4401-a0e6-79e92d264c75",
   "metadata": {},
   "outputs": [],
   "source": [
    "f=open(\"departements_fr.csv\", \"r\")\n",
    "data= f.read()\n",
    "rows = data.split('\\n')\n",
    "\n",
    "departments = []\n",
    "int_dep_populations = []\n",
    "\n",
    "for row in rows :\n",
    "    value = row.split (',')\n",
    "    int_dep_populations.append(int(value[1]))\n",
    "    departments.append(value[0])"
   ]
  },
  {
   "cell_type": "code",
   "execution_count": 32,
   "id": "2fa118d9-b306-4119-8914-1b614d08de04",
   "metadata": {},
   "outputs": [
    {
     "name": "stdout",
     "output_type": "stream",
     "text": [
      "['Ain', 'Aisne', 'Allier', 'Alpes-de-Haute-Provence', 'Alpes-Maritimes', 'Ardèche', 'Ardennes', 'Ariège', 'Aube', 'Aude', 'Aveyron', 'Bas-Rhin', 'Bouches-du-Rhône', 'Calvados', 'Cantal', 'Charente', 'Charente-Maritime', 'Cher', 'Corrèze', 'Corse-du-Sud', \"Côte-d'Or\", \"Côtes-d'Armor\", 'Creuse', 'Deux-Sèvres', 'Dordogne', 'Doubs', 'Drôme', 'Essonne', 'Eure', 'Eure-et-Loir', 'Finistère', 'Gard', 'Gers', 'Gironde', 'Guadeloupe', 'Guyane', 'Haute-Corse', 'Haute-Garonne', 'Haute-Loire', 'Haute-Marne', 'Hautes-Alpes', 'Haute-Saône', 'Haute-Savoie', 'Hautes-Pyrénées', 'Haute-Vienne', 'Haut-Rhin', 'Hauts-de-Seine', 'Hérault', 'Ille-et-Vilaine', 'Indre', 'Indre-et-Loire', 'Isère', 'Jura', 'La Réunion', 'Landes', 'Loire', 'Loire-Atlantique', 'Loiret', 'Loir-et-Cher', 'Lot', 'Lot-et-Garonne', 'Lozère', 'Maine-et-Loire', 'Manche', 'Marne', 'Martinique', 'Mayenne', 'Meurthe-et-Moselle', 'Meuse', 'Morbihan', 'Moselle', 'Nièvre', 'Nord', 'Oise', 'Orne', 'Paris', 'Pas-de-Calais', 'Puy-de-Dôme', 'Pyrénées-Atlantiques', 'Pyrénées-Orientales', 'Rhône', 'Saône-et-Loire', 'Sarthe', 'Savoie', 'Seine-et-Marne', 'Seine-Maritime', 'Seine-Saint-Denis', 'Somme', 'Tarn', 'Tarn-et-Garonne', 'Territoire de Belfort', 'Val-de-Marne', \"Val-d'Oise\", 'Var', 'Vaucluse', 'Vendée', 'Vienne', 'Vosges', 'Yonne', 'Yvelines']\n"
     ]
    }
   ],
   "source": [
    "print(departments)"
   ]
  },
  {
   "cell_type": "code",
   "execution_count": 33,
   "id": "5f89289f-edca-421b-81da-43373cf919f4",
   "metadata": {},
   "outputs": [
    {
     "name": "stdout",
     "output_type": "stream",
     "text": [
      "[643309, 554040, 353262, 166298, 1098785, 332051, 287775, 158076, 316098, 375065, 289901, 1131812, 2035475, 708407, 152400, 366787, 656046, 318590, 249684, 154100, 545001, 617413, 124948, 384655, 428651, 549155, 514104, 1286908, 616076, 445083, 935393, 752382, 197988, 1556663, 406706, 254845, 175499, 1344579, 234078, 186698, 145213, 246022, 806447, 236577, 384708, 775941, 1617484, 1127333, 1060051, 232802, 619004, 1271938, 270826, 541487, 414090, 774262, 1382766, 688098, 344121, 180016, 343198, 80423, 829156, 518322, 584297, 390252, 317716, 746687, 197763, 764338, 1065894, 221048, 2640622, 838646, 297109, 2243739, 1497668, 661248, 688451, 474842, 1833002, 574229, 583961, 440777, 1400477, 1284107, 1582139, 583641, 396341, 258696, 147647, 1377511, 1221946, 1055745, 566592, 681469, 444347, 386978, 352433, 1449398]\n"
     ]
    }
   ],
   "source": [
    "print(int_dep_populations)"
   ]
  },
  {
   "cell_type": "markdown",
   "id": "e7e57925-6ed4-46c6-bbcf-8bf8e294f93e",
   "metadata": {},
   "source": [
    "###TRAINING"
   ]
  },
  {
   "cell_type": "code",
   "execution_count": 39,
   "id": "196e87c4-8c83-4fff-b478-18fefae336c5",
   "metadata": {},
   "outputs": [],
   "source": [
    "first_ain = (departments[0]== \"Ain\")\n",
    "second_ain = (departments[1]== \"Ain\")\n",
    "first_last = (departments[0]== departments[len(departments)-1])"
   ]
  },
  {
   "cell_type": "code",
   "execution_count": 40,
   "id": "3eaf268e-c0ba-4a31-8f25-a56bef24dae0",
   "metadata": {},
   "outputs": [
    {
     "name": "stdout",
     "output_type": "stream",
     "text": [
      "True\n",
      "False\n",
      "False\n"
     ]
    }
   ],
   "source": [
    "print(first_ain)\n",
    "print(second_ain)\n",
    "print(first_last)\n"
   ]
  },
  {
   "cell_type": "markdown",
   "id": "0253fdba-b487-4452-930e-5b11ee2e2f68",
   "metadata": {},
   "source": [
    "##Training 2"
   ]
  },
  {
   "cell_type": "code",
   "execution_count": 43,
   "id": "d38cb5fd-f79d-4ff9-b094-0bb96a385556",
   "metadata": {},
   "outputs": [],
   "source": [
    "first_500000 = (int_dep_populations[0]> 500000)\n",
    "first_650000 = (int_dep_populations[0]> 650000)\n",
    "first_last = (int_dep_populations[0]>= int_dep_populations[len(int_dep_populations) - 1])"
   ]
  },
  {
   "cell_type": "code",
   "execution_count": 44,
   "id": "1fc3100d-9387-4de6-938a-8009f4fe4814",
   "metadata": {},
   "outputs": [
    {
     "name": "stdout",
     "output_type": "stream",
     "text": [
      "True\n",
      "False\n",
      "False\n"
     ]
    }
   ],
   "source": [
    "print(first_500000)\n",
    "print(first_650000)\n",
    "print(first_last)\n",
    "\n"
   ]
  },
  {
   "cell_type": "code",
   "execution_count": 1,
   "id": "f3e96110-09d4-4fb4-becf-4d1217be3789",
   "metadata": {},
   "outputs": [],
   "source": [
    "weather_data = []\n",
    "f = open(\"madrid_weather_2016.csv\", \"r\")\n",
    "data = f.read()\n"
   ]
  },
  {
   "cell_type": "code",
   "execution_count": 2,
   "id": "de0111c6-2dad-468d-983a-c36e7a4f59b7",
   "metadata": {},
   "outputs": [
    {
     "name": "stdout",
     "output_type": "stream",
     "text": [
      "Jour,Climat\n",
      "1,Soleil\n",
      "2,Soleil\n",
      "3,Soleil\n",
      "4,Soleil\n",
      "5,Soleil\n",
      "6,Pluie\n",
      "7,Soleil\n",
      "8,Soleil\n",
      "9,Nuage\n",
      "10,Pluie\n",
      "11,Soleil\n",
      "12,Soleil\n",
      "13,Soleil\n",
      "14,Soleil\n",
      "15,Soleil\n",
      "16,Nuage\n",
      "17,Soleil\n",
      "18,Soleil\n",
      "19,Soleil\n",
      "20,Soleil\n",
      "21,Soleil\n",
      "22,Soleil\n",
      "23,Pluie\n",
      "24,Nuage-Pluie\n",
      "25,Pluie\n",
      "26,Nuage-Pluie\n",
      "27,Pluie\n",
      "28,Soleil\n",
      "29,Soleil\n",
      "30,Soleil\n",
      "31,Soleil\n",
      "32,Soleil\n",
      "33,Pluie\n",
      "34,Soleil\n",
      "35,Nuage\n",
      "36,Nuage\n",
      "37,Soleil\n",
      "38,Soleil\n",
      "39,Pluie\n",
      "40,Soleil\n",
      "41,Soleil\n",
      "42,Soleil\n",
      "43,Soleil\n",
      "44,Soleil\n",
      "45,Nuage\n",
      "46,Soleil\n",
      "47,Soleil\n",
      "48,Nuage\n",
      "49,Soleil\n",
      "50,Pluie\n",
      "51,Soleil\n",
      "52,Soleil\n",
      "53,Soleil\n",
      "54,Soleil\n",
      "55,Soleil\n",
      "56,Soleil\n",
      "57,Soleil\n",
      "58,Soleil\n",
      "59,Soleil\n",
      "60,Soleil\n",
      "61,Soleil\n",
      "62,Pluie\n",
      "63,Nuage\n",
      "64,Nuage\n",
      "65,Soleil\n",
      "66,Pluie\n",
      "67,Pluie\n",
      "68,Soleil\n",
      "69,Soleil\n",
      "70,Soleil\n",
      "71,Nuage\n",
      "72,Nuage\n",
      "73,Nuage\n",
      "74,Nuage\n",
      "75,Nuage\n",
      "76,Soleil\n",
      "77,Soleil\n",
      "78,Soleil\n",
      "79,Soleil\n",
      "80,Soleil\n",
      "81,Nuage\n",
      "82,Soleil\n",
      "83,Soleil\n",
      "84,Nuage\n",
      "85,Soleil\n",
      "86,Nuage\n",
      "87,Nuage\n",
      "88,Nuage\n",
      "89,Nuage\n",
      "90,Pluie\n",
      "91,Soleil\n",
      "92,Nuage\n",
      "93,Nuage\n",
      "94,Nuage\n",
      "95,Soleil\n",
      "96,Soleil\n",
      "97,Soleil\n",
      "98,Soleil\n",
      "99,Nuage\n",
      "100,Soleil\n",
      "101,Soleil\n",
      "102,Soleil\n",
      "103,Soleil\n",
      "104,Soleil\n",
      "105,Pluie\n",
      "106,Soleil\n",
      "107,Soleil\n",
      "108,Soleil\n",
      "109,Soleil\n",
      "110,Nuage\n",
      "111,Nuage\n",
      "112,Nuage\n",
      "113,Soleil\n",
      "114,Pluie\n",
      "115,Soleil\n",
      "116,Soleil\n",
      "117,Soleil\n",
      "118,Nuage\n",
      "119,Nuage\n",
      "120,Soleil\n",
      "121,Soleil\n",
      "122,Nuage\n",
      "123,Soleil\n",
      "124,Soleil\n",
      "125,Pluie\n",
      "126,Pluie\n",
      "127,Pluie\n",
      "128,Soleil\n",
      "129,Orage\n",
      "130,Nuage\n",
      "131,Soleil\n",
      "132,Nuage\n",
      "133,Soleil\n",
      "134,Nuage\n",
      "135,Nuage\n",
      "136,Soleil\n",
      "137,Soleil\n",
      "138,Soleil\n",
      "139,Soleil\n",
      "140,Nuage\n",
      "141,Nuage\n",
      "142,Soleil\n",
      "143,Soleil\n",
      "144,Soleil\n",
      "145,Soleil\n",
      "146,Soleil\n",
      "147,Soleil\n",
      "148,Soleil\n",
      "149,Nuage\n",
      "150,Nuage\n",
      "151,Soleil\n",
      "152,Soleil\n",
      "153,Soleil\n",
      "154,Soleil\n",
      "155,Soleil\n",
      "156,Soleil\n",
      "157,Nuage\n",
      "158,Nuage\n",
      "159,Soleil\n",
      "160,Soleil\n",
      "161,Soleil\n",
      "162,Soleil\n",
      "163,Nuage\n",
      "164,Nuage\n",
      "165,Nuage\n",
      "166,Soleil\n",
      "167,Soleil\n",
      "168,Nuage\n",
      "169,Nuage\n",
      "170,Nuage\n",
      "171,Soleil\n",
      "172,Soleil\n",
      "173,Soleil\n",
      "174,Soleil\n",
      "175,Soleil\n",
      "176,Nuage\n",
      "177,Nuage\n",
      "178,Nuage\n",
      "179,Nuage\n",
      "180,Nuage\n",
      "181,Soleil\n",
      "182,Nuage\n",
      "183,Nuage\n",
      "184,Nuage\n",
      "185,Nuage\n",
      "186,Soleil\n",
      "187,Soleil\n",
      "188,Soleil\n",
      "189,Soleil\n",
      "190,Nuage\n",
      "191,Soleil\n",
      "192,Nuage-Pluie\n",
      "193,Nuage\n",
      "194,Nuage\n",
      "195,Soleil\n",
      "196,Nuage\n",
      "197,Soleil\n",
      "198,Nuage\n",
      "199,Nuage\n",
      "200,Nuage\n",
      "201,Soleil\n",
      "202,Pluie\n",
      "203,Nuage\n",
      "204,Nuage\n",
      "205,Nuage\n",
      "206,Nuage\n",
      "207,Nuage-Pluie\n",
      "208,Soleil\n",
      "209,Soleil\n",
      "210,Nuage\n",
      "211,Soleil\n",
      "212,Soleil\n",
      "213,Nuage\n",
      "214,Nuage\n",
      "215,Soleil\n",
      "216,Soleil\n",
      "217,Nuage\n",
      "218,Nuage\n",
      "219,Nuage\n",
      "220,Soleil\n",
      "221,Soleil\n",
      "222,Soleil\n",
      "223,Soleil\n",
      "224,Nuage\n",
      "225,Nuage\n",
      "226,Nuage\n",
      "227,Nuage\n",
      "228,Nuage\n",
      "229,Nuage\n",
      "230,Nuage\n",
      "231,Nuage\n",
      "232,Nuage\n",
      "233,Nuage\n",
      "234,Soleil\n",
      "235,Nuage\n",
      "236,Nuage\n",
      "237,Nuage\n",
      "238,Nuage\n",
      "239,Soleil\n",
      "240,Nuage\n",
      "241,Nuage\n",
      "242,Nuage\n",
      "243,Soleil\n",
      "244,Soleil\n",
      "245,Nuage\n",
      "246,Soleil\n",
      "247,Nuage\n",
      "248,Nuage\n",
      "249,Soleil\n",
      "250,Soleil\n",
      "251,Nuage\n",
      "252,Nuage\n",
      "253,Nuage\n",
      "254,Soleil\n",
      "255,Soleil\n",
      "256,Nuage\n",
      "257,Nuage\n",
      "258,Soleil\n",
      "259,Nuage\n",
      "260,Nuage\n",
      "261,Nuage\n",
      "262,Nuage\n",
      "263,Nuage\n",
      "264,Soleil\n",
      "265,Soleil\n",
      "266,Soleil\n",
      "267,Nuage\n",
      "268,Soleil\n",
      "269,Soleil\n",
      "270,Soleil\n",
      "271,Soleil\n",
      "272,Soleil\n",
      "273,Soleil\n",
      "274,Nuage\n",
      "275,Soleil\n",
      "276,Nuage\n",
      "277,Soleil\n",
      "278,Soleil\n",
      "279,Soleil\n",
      "280,Soleil\n",
      "281,Nuage\n",
      "282,Pluie\n",
      "283,Soleil\n",
      "284,Soleil\n",
      "285,Soleil\n",
      "286,Soleil\n",
      "287,Soleil\n",
      "288,Soleil\n",
      "289,Soleil\n",
      "290,Soleil\n",
      "291,Soleil\n",
      "292,Nuage\n",
      "293,Nuage\n",
      "294,Nuage\n",
      "295,Nuage\n",
      "296,Soleil\n",
      "297,Soleil\n",
      "298,Nuage\n",
      "299,Nuage\n",
      "300,Nuage\n",
      "301,Soleil\n",
      "302,Soleil\n",
      "303,Soleil\n",
      "304,Soleil\n",
      "305,Soleil\n",
      "306,Soleil\n",
      "307,Soleil\n",
      "308,Soleil\n",
      "309,Nuage\n",
      "310,Soleil\n",
      "311,Soleil\n",
      "312,Nuage\n",
      "313,Nuage\n",
      "314,Soleil\n",
      "315,Nuage\n",
      "316,Nuage\n",
      "317,Soleil\n",
      "318,Soleil\n",
      "319,Nuage\n",
      "320,Soleil\n",
      "321,Soleil\n",
      "322,Nuage\n",
      "323,Soleil\n",
      "324,Pluie\n",
      "325,Pluie\n",
      "326,Pluie\n",
      "327,Soleil\n",
      "328,Soleil\n",
      "329,Soleil\n",
      "330,Soleil\n",
      "331,Soleil\n",
      "332,Soleil\n",
      "333,Pluie\n",
      "334,Soleil\n",
      "335,Soleil\n",
      "336,Soleil\n",
      "337,Soleil\n",
      "338,Soleil\n",
      "339,Soleil\n",
      "340,Soleil\n",
      "341,Pluie\n",
      "342,Soleil\n",
      "343,Soleil\n",
      "344,Soleil\n",
      "345,Soleil\n",
      "346,Nuage\n",
      "347,Nuage\n",
      "348,Soleil\n",
      "349,Soleil\n",
      "350,Soleil\n",
      "351,Soleil\n",
      "352,Soleil\n",
      "353,Pluie\n",
      "354,Soleil\n",
      "355,Soleil\n",
      "356,Soleil\n",
      "357,Nuage\n",
      "358,Soleil\n",
      "359,Soleil\n",
      "360,Soleil\n",
      "361,Soleil\n",
      "362,Soleil\n",
      "363,Nuage\n",
      "364,Nuage\n",
      "365,Nuage\n"
     ]
    }
   ],
   "source": [
    "print(data)"
   ]
  },
  {
   "cell_type": "code",
   "execution_count": 4,
   "id": "95a02008-376d-4f39-96f4-80f33389cafa",
   "metadata": {},
   "outputs": [
    {
     "name": "stdout",
     "output_type": "stream",
     "text": [
      "['Jour,Climat', '1,Soleil', '2,Soleil', '3,Soleil', '4,Soleil', '5,Soleil', '6,Pluie', '7,Soleil', '8,Soleil', '9,Nuage', '10,Pluie', '11,Soleil', '12,Soleil', '13,Soleil', '14,Soleil', '15,Soleil', '16,Nuage', '17,Soleil', '18,Soleil', '19,Soleil', '20,Soleil', '21,Soleil', '22,Soleil', '23,Pluie', '24,Nuage-Pluie', '25,Pluie', '26,Nuage-Pluie', '27,Pluie', '28,Soleil', '29,Soleil', '30,Soleil', '31,Soleil', '32,Soleil', '33,Pluie', '34,Soleil', '35,Nuage', '36,Nuage', '37,Soleil', '38,Soleil', '39,Pluie', '40,Soleil', '41,Soleil', '42,Soleil', '43,Soleil', '44,Soleil', '45,Nuage', '46,Soleil', '47,Soleil', '48,Nuage', '49,Soleil', '50,Pluie', '51,Soleil', '52,Soleil', '53,Soleil', '54,Soleil', '55,Soleil', '56,Soleil', '57,Soleil', '58,Soleil', '59,Soleil', '60,Soleil', '61,Soleil', '62,Pluie', '63,Nuage', '64,Nuage', '65,Soleil', '66,Pluie', '67,Pluie', '68,Soleil', '69,Soleil', '70,Soleil', '71,Nuage', '72,Nuage', '73,Nuage', '74,Nuage', '75,Nuage', '76,Soleil', '77,Soleil', '78,Soleil', '79,Soleil', '80,Soleil', '81,Nuage', '82,Soleil', '83,Soleil', '84,Nuage', '85,Soleil', '86,Nuage', '87,Nuage', '88,Nuage', '89,Nuage', '90,Pluie', '91,Soleil', '92,Nuage', '93,Nuage', '94,Nuage', '95,Soleil', '96,Soleil', '97,Soleil', '98,Soleil', '99,Nuage', '100,Soleil', '101,Soleil', '102,Soleil', '103,Soleil', '104,Soleil', '105,Pluie', '106,Soleil', '107,Soleil', '108,Soleil', '109,Soleil', '110,Nuage', '111,Nuage', '112,Nuage', '113,Soleil', '114,Pluie', '115,Soleil', '116,Soleil', '117,Soleil', '118,Nuage', '119,Nuage', '120,Soleil', '121,Soleil', '122,Nuage', '123,Soleil', '124,Soleil', '125,Pluie', '126,Pluie', '127,Pluie', '128,Soleil', '129,Orage', '130,Nuage', '131,Soleil', '132,Nuage', '133,Soleil', '134,Nuage', '135,Nuage', '136,Soleil', '137,Soleil', '138,Soleil', '139,Soleil', '140,Nuage', '141,Nuage', '142,Soleil', '143,Soleil', '144,Soleil', '145,Soleil', '146,Soleil', '147,Soleil', '148,Soleil', '149,Nuage', '150,Nuage', '151,Soleil', '152,Soleil', '153,Soleil', '154,Soleil', '155,Soleil', '156,Soleil', '157,Nuage', '158,Nuage', '159,Soleil', '160,Soleil', '161,Soleil', '162,Soleil', '163,Nuage', '164,Nuage', '165,Nuage', '166,Soleil', '167,Soleil', '168,Nuage', '169,Nuage', '170,Nuage', '171,Soleil', '172,Soleil', '173,Soleil', '174,Soleil', '175,Soleil', '176,Nuage', '177,Nuage', '178,Nuage', '179,Nuage', '180,Nuage', '181,Soleil', '182,Nuage', '183,Nuage', '184,Nuage', '185,Nuage', '186,Soleil', '187,Soleil', '188,Soleil', '189,Soleil', '190,Nuage', '191,Soleil', '192,Nuage-Pluie', '193,Nuage', '194,Nuage', '195,Soleil', '196,Nuage', '197,Soleil', '198,Nuage', '199,Nuage', '200,Nuage', '201,Soleil', '202,Pluie', '203,Nuage', '204,Nuage', '205,Nuage', '206,Nuage', '207,Nuage-Pluie', '208,Soleil', '209,Soleil', '210,Nuage', '211,Soleil', '212,Soleil', '213,Nuage', '214,Nuage', '215,Soleil', '216,Soleil', '217,Nuage', '218,Nuage', '219,Nuage', '220,Soleil', '221,Soleil', '222,Soleil', '223,Soleil', '224,Nuage', '225,Nuage', '226,Nuage', '227,Nuage', '228,Nuage', '229,Nuage', '230,Nuage', '231,Nuage', '232,Nuage', '233,Nuage', '234,Soleil', '235,Nuage', '236,Nuage', '237,Nuage', '238,Nuage', '239,Soleil', '240,Nuage', '241,Nuage', '242,Nuage', '243,Soleil', '244,Soleil', '245,Nuage', '246,Soleil', '247,Nuage', '248,Nuage', '249,Soleil', '250,Soleil', '251,Nuage', '252,Nuage', '253,Nuage', '254,Soleil', '255,Soleil', '256,Nuage', '257,Nuage', '258,Soleil', '259,Nuage', '260,Nuage', '261,Nuage', '262,Nuage', '263,Nuage', '264,Soleil', '265,Soleil', '266,Soleil', '267,Nuage', '268,Soleil', '269,Soleil', '270,Soleil', '271,Soleil', '272,Soleil', '273,Soleil', '274,Nuage', '275,Soleil', '276,Nuage', '277,Soleil', '278,Soleil', '279,Soleil', '280,Soleil', '281,Nuage', '282,Pluie', '283,Soleil', '284,Soleil', '285,Soleil', '286,Soleil', '287,Soleil', '288,Soleil', '289,Soleil', '290,Soleil', '291,Soleil', '292,Nuage', '293,Nuage', '294,Nuage', '295,Nuage', '296,Soleil', '297,Soleil', '298,Nuage', '299,Nuage', '300,Nuage', '301,Soleil', '302,Soleil', '303,Soleil', '304,Soleil', '305,Soleil', '306,Soleil', '307,Soleil', '308,Soleil', '309,Nuage', '310,Soleil', '311,Soleil', '312,Nuage', '313,Nuage', '314,Soleil', '315,Nuage', '316,Nuage', '317,Soleil', '318,Soleil', '319,Nuage', '320,Soleil', '321,Soleil', '322,Nuage', '323,Soleil', '324,Pluie', '325,Pluie', '326,Pluie', '327,Soleil', '328,Soleil', '329,Soleil', '330,Soleil', '331,Soleil', '332,Soleil', '333,Pluie', '334,Soleil', '335,Soleil', '336,Soleil', '337,Soleil', '338,Soleil', '339,Soleil', '340,Soleil', '341,Pluie', '342,Soleil', '343,Soleil', '344,Soleil', '345,Soleil', '346,Nuage', '347,Nuage', '348,Soleil', '349,Soleil', '350,Soleil', '351,Soleil', '352,Soleil', '353,Pluie', '354,Soleil', '355,Soleil', '356,Soleil', '357,Nuage', '358,Soleil', '359,Soleil', '360,Soleil', '361,Soleil', '362,Soleil', '363,Nuage', '364,Nuage', '365,Nuage']\n"
     ]
    }
   ],
   "source": [
    "rows = data.split('\\n')\n",
    "print(rows)"
   ]
  },
  {
   "cell_type": "code",
   "execution_count": 5,
   "id": "6683a126-6f78-4c60-a4c6-22146fe75cfb",
   "metadata": {},
   "outputs": [
    {
     "name": "stdout",
     "output_type": "stream",
     "text": [
      "[['Jour', 'Climat'], ['1', 'Soleil'], ['2', 'Soleil'], ['3', 'Soleil'], ['4', 'Soleil']]\n"
     ]
    }
   ],
   "source": [
    "for row in rows:\n",
    "    split_row = row.split(',')\n",
    "    weather_data.append(split_row)\n",
    "print(weather_data[0:5])    \n",
    "    "
   ]
  },
  {
   "cell_type": "code",
   "execution_count": 6,
   "id": "4ceda054-abf0-4fac-8da1-33ca83795d98",
   "metadata": {},
   "outputs": [
    {
     "name": "stdout",
     "output_type": "stream",
     "text": [
      "366\n"
     ]
    }
   ],
   "source": [
    "count = 0\n",
    "for a in weather_data:\n",
    "    count = count + 1\n",
    "print(count)"
   ]
  },
  {
   "cell_type": "markdown",
   "id": "889ade68-1360-44a9-841a-066ff429f4e7",
   "metadata": {},
   "source": [
    "Supprimer l'entête"
   ]
  },
  {
   "cell_type": "code",
   "execution_count": 7,
   "id": "fbe662c6-3a63-40d5-99e9-901faacbe7ba",
   "metadata": {},
   "outputs": [
    {
     "name": "stdout",
     "output_type": "stream",
     "text": [
      "[['1', 'Soleil'], ['2', 'Soleil'], ['3', 'Soleil'], ['4', 'Soleil'], ['5', 'Soleil'], ['6', 'Pluie'], ['7', 'Soleil'], ['8', 'Soleil'], ['9', 'Nuage'], ['10', 'Pluie'], ['11', 'Soleil'], ['12', 'Soleil'], ['13', 'Soleil'], ['14', 'Soleil'], ['15', 'Soleil'], ['16', 'Nuage'], ['17', 'Soleil'], ['18', 'Soleil'], ['19', 'Soleil'], ['20', 'Soleil'], ['21', 'Soleil'], ['22', 'Soleil'], ['23', 'Pluie'], ['24', 'Nuage-Pluie'], ['25', 'Pluie'], ['26', 'Nuage-Pluie'], ['27', 'Pluie'], ['28', 'Soleil'], ['29', 'Soleil'], ['30', 'Soleil'], ['31', 'Soleil'], ['32', 'Soleil'], ['33', 'Pluie'], ['34', 'Soleil'], ['35', 'Nuage'], ['36', 'Nuage'], ['37', 'Soleil'], ['38', 'Soleil'], ['39', 'Pluie'], ['40', 'Soleil'], ['41', 'Soleil'], ['42', 'Soleil'], ['43', 'Soleil'], ['44', 'Soleil'], ['45', 'Nuage'], ['46', 'Soleil'], ['47', 'Soleil'], ['48', 'Nuage'], ['49', 'Soleil'], ['50', 'Pluie'], ['51', 'Soleil'], ['52', 'Soleil'], ['53', 'Soleil'], ['54', 'Soleil'], ['55', 'Soleil'], ['56', 'Soleil'], ['57', 'Soleil'], ['58', 'Soleil'], ['59', 'Soleil'], ['60', 'Soleil'], ['61', 'Soleil'], ['62', 'Pluie'], ['63', 'Nuage'], ['64', 'Nuage'], ['65', 'Soleil'], ['66', 'Pluie'], ['67', 'Pluie'], ['68', 'Soleil'], ['69', 'Soleil'], ['70', 'Soleil'], ['71', 'Nuage'], ['72', 'Nuage'], ['73', 'Nuage'], ['74', 'Nuage'], ['75', 'Nuage'], ['76', 'Soleil'], ['77', 'Soleil'], ['78', 'Soleil'], ['79', 'Soleil'], ['80', 'Soleil'], ['81', 'Nuage'], ['82', 'Soleil'], ['83', 'Soleil'], ['84', 'Nuage'], ['85', 'Soleil'], ['86', 'Nuage'], ['87', 'Nuage'], ['88', 'Nuage'], ['89', 'Nuage'], ['90', 'Pluie'], ['91', 'Soleil'], ['92', 'Nuage'], ['93', 'Nuage'], ['94', 'Nuage'], ['95', 'Soleil'], ['96', 'Soleil'], ['97', 'Soleil'], ['98', 'Soleil'], ['99', 'Nuage'], ['100', 'Soleil'], ['101', 'Soleil'], ['102', 'Soleil'], ['103', 'Soleil'], ['104', 'Soleil'], ['105', 'Pluie'], ['106', 'Soleil'], ['107', 'Soleil'], ['108', 'Soleil'], ['109', 'Soleil'], ['110', 'Nuage'], ['111', 'Nuage'], ['112', 'Nuage'], ['113', 'Soleil'], ['114', 'Pluie'], ['115', 'Soleil'], ['116', 'Soleil'], ['117', 'Soleil'], ['118', 'Nuage'], ['119', 'Nuage'], ['120', 'Soleil'], ['121', 'Soleil'], ['122', 'Nuage'], ['123', 'Soleil'], ['124', 'Soleil'], ['125', 'Pluie'], ['126', 'Pluie'], ['127', 'Pluie'], ['128', 'Soleil'], ['129', 'Orage'], ['130', 'Nuage'], ['131', 'Soleil'], ['132', 'Nuage'], ['133', 'Soleil'], ['134', 'Nuage'], ['135', 'Nuage'], ['136', 'Soleil'], ['137', 'Soleil'], ['138', 'Soleil'], ['139', 'Soleil'], ['140', 'Nuage'], ['141', 'Nuage'], ['142', 'Soleil'], ['143', 'Soleil'], ['144', 'Soleil'], ['145', 'Soleil'], ['146', 'Soleil'], ['147', 'Soleil'], ['148', 'Soleil'], ['149', 'Nuage'], ['150', 'Nuage'], ['151', 'Soleil'], ['152', 'Soleil'], ['153', 'Soleil'], ['154', 'Soleil'], ['155', 'Soleil'], ['156', 'Soleil'], ['157', 'Nuage'], ['158', 'Nuage'], ['159', 'Soleil'], ['160', 'Soleil'], ['161', 'Soleil'], ['162', 'Soleil'], ['163', 'Nuage'], ['164', 'Nuage'], ['165', 'Nuage'], ['166', 'Soleil'], ['167', 'Soleil'], ['168', 'Nuage'], ['169', 'Nuage'], ['170', 'Nuage'], ['171', 'Soleil'], ['172', 'Soleil'], ['173', 'Soleil'], ['174', 'Soleil'], ['175', 'Soleil'], ['176', 'Nuage'], ['177', 'Nuage'], ['178', 'Nuage'], ['179', 'Nuage'], ['180', 'Nuage'], ['181', 'Soleil'], ['182', 'Nuage'], ['183', 'Nuage'], ['184', 'Nuage'], ['185', 'Nuage'], ['186', 'Soleil'], ['187', 'Soleil'], ['188', 'Soleil'], ['189', 'Soleil'], ['190', 'Nuage'], ['191', 'Soleil'], ['192', 'Nuage-Pluie'], ['193', 'Nuage'], ['194', 'Nuage'], ['195', 'Soleil'], ['196', 'Nuage'], ['197', 'Soleil'], ['198', 'Nuage'], ['199', 'Nuage'], ['200', 'Nuage'], ['201', 'Soleil'], ['202', 'Pluie'], ['203', 'Nuage'], ['204', 'Nuage'], ['205', 'Nuage'], ['206', 'Nuage'], ['207', 'Nuage-Pluie'], ['208', 'Soleil'], ['209', 'Soleil'], ['210', 'Nuage'], ['211', 'Soleil'], ['212', 'Soleil'], ['213', 'Nuage'], ['214', 'Nuage'], ['215', 'Soleil'], ['216', 'Soleil'], ['217', 'Nuage'], ['218', 'Nuage'], ['219', 'Nuage'], ['220', 'Soleil'], ['221', 'Soleil'], ['222', 'Soleil'], ['223', 'Soleil'], ['224', 'Nuage'], ['225', 'Nuage'], ['226', 'Nuage'], ['227', 'Nuage'], ['228', 'Nuage'], ['229', 'Nuage'], ['230', 'Nuage'], ['231', 'Nuage'], ['232', 'Nuage'], ['233', 'Nuage'], ['234', 'Soleil'], ['235', 'Nuage'], ['236', 'Nuage'], ['237', 'Nuage'], ['238', 'Nuage'], ['239', 'Soleil'], ['240', 'Nuage'], ['241', 'Nuage'], ['242', 'Nuage'], ['243', 'Soleil'], ['244', 'Soleil'], ['245', 'Nuage'], ['246', 'Soleil'], ['247', 'Nuage'], ['248', 'Nuage'], ['249', 'Soleil'], ['250', 'Soleil'], ['251', 'Nuage'], ['252', 'Nuage'], ['253', 'Nuage'], ['254', 'Soleil'], ['255', 'Soleil'], ['256', 'Nuage'], ['257', 'Nuage'], ['258', 'Soleil'], ['259', 'Nuage'], ['260', 'Nuage'], ['261', 'Nuage'], ['262', 'Nuage'], ['263', 'Nuage'], ['264', 'Soleil'], ['265', 'Soleil'], ['266', 'Soleil'], ['267', 'Nuage'], ['268', 'Soleil'], ['269', 'Soleil'], ['270', 'Soleil'], ['271', 'Soleil'], ['272', 'Soleil'], ['273', 'Soleil'], ['274', 'Nuage'], ['275', 'Soleil'], ['276', 'Nuage'], ['277', 'Soleil'], ['278', 'Soleil'], ['279', 'Soleil'], ['280', 'Soleil'], ['281', 'Nuage'], ['282', 'Pluie'], ['283', 'Soleil'], ['284', 'Soleil'], ['285', 'Soleil'], ['286', 'Soleil'], ['287', 'Soleil'], ['288', 'Soleil'], ['289', 'Soleil'], ['290', 'Soleil'], ['291', 'Soleil'], ['292', 'Nuage'], ['293', 'Nuage'], ['294', 'Nuage'], ['295', 'Nuage'], ['296', 'Soleil'], ['297', 'Soleil'], ['298', 'Nuage'], ['299', 'Nuage'], ['300', 'Nuage'], ['301', 'Soleil'], ['302', 'Soleil'], ['303', 'Soleil'], ['304', 'Soleil'], ['305', 'Soleil'], ['306', 'Soleil'], ['307', 'Soleil'], ['308', 'Soleil'], ['309', 'Nuage'], ['310', 'Soleil'], ['311', 'Soleil'], ['312', 'Nuage'], ['313', 'Nuage'], ['314', 'Soleil'], ['315', 'Nuage'], ['316', 'Nuage'], ['317', 'Soleil'], ['318', 'Soleil'], ['319', 'Nuage'], ['320', 'Soleil'], ['321', 'Soleil'], ['322', 'Nuage'], ['323', 'Soleil'], ['324', 'Pluie'], ['325', 'Pluie'], ['326', 'Pluie'], ['327', 'Soleil'], ['328', 'Soleil'], ['329', 'Soleil'], ['330', 'Soleil'], ['331', 'Soleil'], ['332', 'Soleil'], ['333', 'Pluie'], ['334', 'Soleil'], ['335', 'Soleil'], ['336', 'Soleil'], ['337', 'Soleil'], ['338', 'Soleil'], ['339', 'Soleil'], ['340', 'Soleil'], ['341', 'Pluie'], ['342', 'Soleil'], ['343', 'Soleil'], ['344', 'Soleil'], ['345', 'Soleil'], ['346', 'Nuage'], ['347', 'Nuage'], ['348', 'Soleil'], ['349', 'Soleil'], ['350', 'Soleil'], ['351', 'Soleil'], ['352', 'Soleil'], ['353', 'Pluie'], ['354', 'Soleil'], ['355', 'Soleil'], ['356', 'Soleil'], ['357', 'Nuage'], ['358', 'Soleil'], ['359', 'Soleil'], ['360', 'Soleil'], ['361', 'Soleil'], ['362', 'Soleil'], ['363', 'Nuage'], ['364', 'Nuage'], ['365', 'Nuage']]\n"
     ]
    }
   ],
   "source": [
    "new_weather = weather_data[1:366]\n",
    "print(new_weather)"
   ]
  },
  {
   "cell_type": "markdown",
   "id": "b98b9d8f-a326-4a52-a553-a6f31885f8ac",
   "metadata": {},
   "source": [
    "On veut vérifier la note de de Sara"
   ]
  },
  {
   "cell_type": "code",
   "execution_count": 7,
   "id": "f86a5e7a-460b-4ec0-8dcf-af18358fb976",
   "metadata": {},
   "outputs": [
    {
     "name": "stdout",
     "output_type": "stream",
     "text": [
      "15\n"
     ]
    }
   ],
   "source": [
    "students = [\"Ali\", \"Sara\", \"Ly\", \"Mor\"]\n",
    "notes = [12, 15, 18, 19]\n",
    "item = [0, 1, 2, 3]\n",
    "name = \"Sara\"\n",
    "for i in item:\n",
    "    if students[i] == name:\n",
    "       note = notes[i]\n",
    "print(note)    \n"
   ]
  },
  {
   "cell_type": "markdown",
   "id": "c8f29483-b891-4a5b-939c-a0993d4c5af2",
   "metadata": {},
   "source": [
    "Création de dictionnaire"
   ]
  },
  {
   "cell_type": "code",
   "execution_count": 5,
   "id": "6bddf3fd-6f31-4db2-8718-bb82166af4e8",
   "metadata": {},
   "outputs": [
    {
     "data": {
      "text/plain": [
       "{'matt': 15, 'Nina': 14, 'Sarah': 17, 'Tomas': 16}"
      ]
     },
     "execution_count": 5,
     "metadata": {},
     "output_type": "execute_result"
    }
   ],
   "source": [
    "scores = {\"matt\": 15, \"Nina\": 14, \"Sarah\": 17, \"Tomas\": 16}\n",
    "scores"
   ]
  },
  {
   "cell_type": "code",
   "execution_count": 6,
   "id": "03d81dbb-7cbb-41f6-8b67-24dbfa9f46ae",
   "metadata": {},
   "outputs": [
    {
     "data": {
      "text/plain": [
       "{'matt': 15, 'Nina': 14, 'Sarah': 17, 'Tomas': 16, 'Marie': 15}"
      ]
     },
     "execution_count": 6,
     "metadata": {},
     "output_type": "execute_result"
    }
   ],
   "source": [
    "scores[\"Marie\"]=15\n",
    "scores"
   ]
  },
  {
   "cell_type": "code",
   "execution_count": 9,
   "id": "9bbe2248-a2f5-4001-9e3a-aa280ced9983",
   "metadata": {},
   "outputs": [
    {
     "data": {
      "text/plain": [
       "{'matt': 15, 'Nina': 16, 'Sarah': 17, 'Tomas': 16, 'Marie': 15}"
      ]
     },
     "execution_count": 9,
     "metadata": {},
     "output_type": "execute_result"
    }
   ],
   "source": [
    "scores[\"Nina\"]= scores[\"Nina\"]+ 2\n",
    "scores"
   ]
  },
  {
   "cell_type": "code",
   "execution_count": 10,
   "id": "dcf852d1-0481-4a50-b22a-64fe540af22d",
   "metadata": {},
   "outputs": [
    {
     "data": {
      "text/plain": [
       "{'matt': 15, 'Nina': 16, 'Sarah': 17, 'Tomas': 10, 'Marie': 15}"
      ]
     },
     "execution_count": 10,
     "metadata": {},
     "output_type": "execute_result"
    }
   ],
   "source": [
    "scores[\"Tomas\"]=10\n",
    "scores"
   ]
  },
  {
   "cell_type": "code",
   "execution_count": 13,
   "id": "4d100f36-fbd6-4487-a682-58f82240a10d",
   "metadata": {},
   "outputs": [
    {
     "name": "stdout",
     "output_type": "stream",
     "text": [
      "True\n",
      "False\n"
     ]
    }
   ],
   "source": [
    "Matt_found = \"matt\" in scores\n",
    "TOM_found = \"TOM\" in scores\n",
    "print(Matt_found)\n",
    "print(TOM_found)"
   ]
  },
  {
   "cell_type": "markdown",
   "id": "09084a5b-b510-4791-a21d-8d2481debbd5",
   "metadata": {},
   "source": [
    "La condition if/else dans le dictionnaire"
   ]
  },
  {
   "cell_type": "code",
   "execution_count": 14,
   "id": "4627a1ad-4076-4f32-94b5-c2d045673d32",
   "metadata": {},
   "outputs": [
    {
     "name": "stdout",
     "output_type": "stream",
     "text": [
      "[50]\n",
      "[20, 10, 35]\n"
     ]
    }
   ],
   "source": [
    "temperatures = [50, 20, 10, 35]\n",
    "high_temperatures = []\n",
    "low_temperatures = []\n",
    "for temperature in temperatures:\n",
    "    if temperature>40:\n",
    "        high_temperatures.append(temperature)\n",
    "    else:\n",
    "        low_temperatures.append(temperature)\n",
    "print(high_temperatures)\n",
    "print(low_temperatures)"
   ]
  },
  {
   "cell_type": "markdown",
   "id": "9a18b70b-3424-4c18-9ed7-5777cf03a69b",
   "metadata": {},
   "source": [
    "Training"
   ]
  },
  {
   "cell_type": "code",
   "execution_count": 16,
   "id": "a84b5388-102a-450a-909e-86d7639be92e",
   "metadata": {},
   "outputs": [
    {
     "name": "stdout",
     "output_type": "stream",
     "text": [
      "['Mercure', 'Jupiter', 'Saturne', 'Neptune', 'Uranus']\n"
     ]
    }
   ],
   "source": [
    "planet_names = [\"Mercure\", \"Venus\", \"Terre\", \"Mars\", \"Jupiter\", \"Saturne\", \"Neptune\", \"Uranus\"]\n",
    "long_names = []\n",
    "short_names = []\n",
    "for planet in planet_names:\n",
    "    if len(planet) > 5:\n",
    "        long_names.append(planet)\n",
    "    else:\n",
    "        short_names.append(planet)\n",
    "print(long_names)        \n",
    "        \n",
    "        "
   ]
  },
  {
   "cell_type": "code",
   "execution_count": 17,
   "id": "3a81eb38-97b3-475e-8037-3f0c34791208",
   "metadata": {},
   "outputs": [
    {
     "name": "stdout",
     "output_type": "stream",
     "text": [
      "['Venus', 'Terre', 'Mars']\n"
     ]
    }
   ],
   "source": [
    "print(short_names)"
   ]
  },
  {
   "cell_type": "markdown",
   "id": "4c2ae0fd-afd5-4288-8749-3b7bf8fd3e95",
   "metadata": {},
   "source": [
    "Compter les éléments d'une liste et présenter les résultats dans un dictionnaire"
   ]
  },
  {
   "cell_type": "code",
   "execution_count": 21,
   "id": "b521ab3a-c2c2-4bdc-a089-428aa02e0740",
   "metadata": {},
   "outputs": [
    {
     "name": "stdout",
     "output_type": "stream",
     "text": [
      "{'Citron': 1, 'Banane': 3, 'Pomme': 4}\n"
     ]
    }
   ],
   "source": [
    "fruits = [\"Citron\", \"Banane\", \"Pomme\", \"Pomme\", \"Pomme\", \"Banane\", \"Banane\", \"Pomme\"]\n",
    "fruits_count = {}\n",
    "for item in fruits:\n",
    "    if item in fruits_count:\n",
    "       fruits_count[item] =  fruits_count[item] + 1\n",
    "    else:\n",
    "        fruits_count[item] = 1\n",
    "print(fruits_count)    "
   ]
  },
  {
   "cell_type": "markdown",
   "id": "a998877b-26b2-432b-9b29-65d3e656bb8f",
   "metadata": {},
   "source": [
    "Training"
   ]
  },
  {
   "cell_type": "code",
   "execution_count": 32,
   "id": "065a949f-05a5-4979-bee4-75711a7670ac",
   "metadata": {},
   "outputs": [],
   "source": [
    "weather_data = []\n",
    "f = open(\"madrid_weather_2016.csv\", \"r\")\n",
    "data = f.read()\n",
    "rows = data.split('\\n')\n",
    "for row in rows:\n",
    "    split_row = row.split(',')\n",
    "    weather_data.append(split_row)\n",
    "    new_weather = weather_data[1:366]\n",
    "    weather = []\n",
    "    for row in new_weather:\n",
    "        weather.append(row[1])\n",
    "    "
   ]
  },
  {
   "cell_type": "code",
   "execution_count": 34,
   "id": "5d0b7e72-fe6e-4168-aa82-9a58730096e9",
   "metadata": {},
   "outputs": [
    {
     "name": "stdout",
     "output_type": "stream",
     "text": [
      "{'Soleil': 210, 'Pluie': 25, 'Nuage': 125, 'Nuage-Pluie': 4, 'Orage': 1}\n"
     ]
    }
   ],
   "source": [
    "weather_counts = {}\n",
    "for item in weather:\n",
    "    if item in weather_counts:\n",
    "       weather_counts[item] += 1\n",
    "    else:\n",
    "       weather_counts[item] = 1\n",
    "print(weather_counts)\n",
    "    \n",
    "    "
   ]
  },
  {
   "cell_type": "markdown",
   "id": "8f229296-31ea-4e5f-a482-5325314dbf06",
   "metadata": {},
   "source": [
    "Introduction des fonctions\n",
    "Tokenization du dictionnaire"
   ]
  },
  {
   "cell_type": "code",
   "execution_count": 2,
   "id": "2567e8f6-2a05-4cc4-9837-13e3a0aee688",
   "metadata": {},
   "outputs": [],
   "source": [
    "vocabulary = open(\"dictionnaire.txt\", \"r\", encoding=\"utf- 8\")"
   ]
  },
  {
   "cell_type": "code",
   "execution_count": 3,
   "id": "0c2bf1f1-b2c5-4268-8ff9-fa55d288a8e2",
   "metadata": {},
   "outputs": [
    {
     "data": {
      "text/plain": [
       "'à afin autant automatique automatisées autres aux bien calcul ces comme complexes compression connaissance considérée danalyse dans de den densembles des dincertitude discipline disjointes domaines données elle emploie en est et extraire formes généralement généraux haute informations informatique intéressantes la lanalytique lapprentissage larges le les lextraction limitée linformation lingénierie masse mathématiques méthodes modèles modélisation moins ne notamment objectif ou particulièrement pas performance plus plusieurs possible potentiellement premier principalement probabilistes produire programmation prophétique que qui reconnaissance sadaptent science signal soit sont source sources statistique stockage techniques technologie termes théorie théories tirées traitement tri utiles visualisation wikipédia'"
      ]
     },
     "execution_count": 3,
     "metadata": {},
     "output_type": "execute_result"
    }
   ],
   "source": [
    "vocabulary.read()"
   ]
  },
  {
   "cell_type": "code",
   "execution_count": 21,
   "id": "290700e4-b233-4d28-aac2-fd0ffa809a22",
   "metadata": {},
   "outputs": [
    {
     "name": "stdout",
     "output_type": "stream",
     "text": [
      "En termes généraux, la scence des données est l'extraction de conaissance d'ensembles de données.   \n",
      " \n",
      "Elle emploie des techniques et des théories tirées de plusieurs autres domaines plus larges des mathématiques, la statistique principalement, la téorie de l'information et la technologie de l'information, notamment le traitement de signal, des modèles probabilistes, l'apprentissage automatique, l'apprentissage statistiqe, la programmation informatique, l'ingénierie de données, la reconnaissance de formes et l'apprentissage, la visualisation, l'analytique prophétique, la modélisation d'incertitude, le stokage de données, la compression de données et le calcul à haute performance. \n",
      " \n",
      "Les méthodes qui s'adaptent aux données de masse sont particulièrement intéressantes dans la science des données, bien que la dicipline ne soit généralement pas considérée come limitée à ces données.   \n",
      " \n",
      "Le premier objectif est de produire des méthodes automatisées, autant que possible de tri et d'analyse de données de masse et de sources plus ou moins complexes ou disjointes de données, afin d'en extraire des informations utiles ou potentiellement utiles. Source Wikipédia\n"
     ]
    }
   ],
   "source": [
    "f = open(\"texte.txt\", \"r\", encoding=\"utf-8\")\n",
    "text_string = f.read()\n",
    "print(text_string)\n"
   ]
  },
  {
   "cell_type": "markdown",
   "id": "0e4f8199-2186-4695-9d09-0d9fbf522a7f",
   "metadata": {},
   "source": [
    "# replace"
   ]
  },
  {
   "cell_type": "code",
   "execution_count": 19,
   "id": "081000ec-efd7-4773-aa05-c9e9d1cdd93a",
   "metadata": {},
   "outputs": [
    {
     "name": "stdout",
     "output_type": "stream",
     "text": [
      "python est cool\n"
     ]
    }
   ],
   "source": [
    "text = \"python,est,cool\"\n",
    "text = text.replace(\",\", \" \")\n",
    "print(text)"
   ]
  },
  {
   "cell_type": "markdown",
   "id": "d4696455-ea48-46c6-bc53-ffabfa850672",
   "metadata": {},
   "source": [
    "# Training"
   ]
  },
  {
   "cell_type": "code",
   "execution_count": 22,
   "id": "812c7226-0482-4c34-a493-5f1ebb3777a7",
   "metadata": {},
   "outputs": [
    {
     "name": "stdout",
     "output_type": "stream",
     "text": [
      "En termes généraux la scence des données est lextraction de conaissance densembles de données    Elle emploie des techniques et des théories tirées de plusieurs autres domaines plus larges des mathématiques la statistique principalement la téorie de linformation et la technologie de linformation notamment le traitement de signal des modèles probabilistes lapprentissage automatique lapprentissage statistiqe la programmation informatique lingénierie de données la reconnaissance de formes et lapprentissage la visualisation lanalytique prophétique la modélisation dincertitude le stokage de données la compression de données et le calcul à haute performance  Les méthodes qui sadaptent aux données de masse sont particulièrement intéressantes dans la science des données bien que la dicipline ne soit généralement pas considérée come limitée à ces données    Le premier objectif est de produire des méthodes automatisées autant que possible de tri et danalyse de données de masse et de sources plus ou moins complexes ou disjointes de données afin den extraire des informations utiles ou potentiellement utiles Source Wikipédia\n"
     ]
    }
   ],
   "source": [
    "text_string = text_string.replace(\",\",\"\")\n",
    "text_string = text_string.replace(\".\",\"\")\n",
    "text_string = text_string.replace(\"'\",\"\")\n",
    "text_string = text_string.replace(\"\\n\",\"\")\n",
    "print(text_string)"
   ]
  },
  {
   "cell_type": "markdown",
   "id": "7a5c163f-e8b6-44af-bbe4-aa0a97349da7",
   "metadata": {},
   "source": [
    "## Fonction"
   ]
  },
  {
   "cell_type": "code",
   "execution_count": 24,
   "id": "617b1c19-6352-4e43-84eb-63cf8f0be12b",
   "metadata": {},
   "outputs": [
    {
     "data": {
      "text/plain": [
       "'Python est géniale'"
      ]
     },
     "execution_count": 24,
     "metadata": {},
     "output_type": "execute_result"
    }
   ],
   "source": [
    "def clean_text(string_value):\n",
    "    cleaned_value = string_value.replace(\",\", \" \")\n",
    "    return(cleaned_value)\n",
    "sentence = \"Python,est,géniale\"\n",
    "sentence = clean_text(sentence)\n",
    "sentence"
   ]
  },
  {
   "cell_type": "code",
   "execution_count": 25,
   "id": "66d6e6fc-f6e1-42a8-b28c-ea2ad8da2cfb",
   "metadata": {},
   "outputs": [
    {
     "data": {
      "text/plain": [
       "'En termes généraux la scence des données est lextraction de conaissance densembles de données    Elle emploie des techniques et des théories tirées de plusieurs autres domaines plus larges des mathématiques la statistique principalement la téorie de linformation et la technologie de linformation notamment le traitement de signal des modèles probabilistes lapprentissage automatique lapprentissage statistiqe la programmation informatique lingénierie de données la reconnaissance de formes et lapprentissage la visualisation lanalytique prophétique la modélisation dincertitude le stokage de données la compression de données et le calcul à haute performance  Les méthodes qui sadaptent aux données de masse sont particulièrement intéressantes dans la science des données bien que la dicipline ne soit généralement pas considérée come limitée à ces données    Le premier objectif est de produire des méthodes automatisées autant que possible de tri et danalyse de données de masse et de sources plus ou moins complexes ou disjointes de données afin den extraire des informations utiles ou potentiellement utiles Source Wikipédia'"
      ]
     },
     "execution_count": 25,
     "metadata": {},
     "output_type": "execute_result"
    }
   ],
   "source": [
    "def clean_text(ponctuat):\n",
    "    ponct_text = ponctuat.replace(\",\", \"\")\n",
    "    ponct_text = ponctuat.replace(\"'\", \"\")\n",
    "    ponct_text = ponctuat.replace(\".\", \"\")\n",
    "    ponct_text = ponctuat.replace(\"\\n\", \"\")\n",
    "    return(ponct_text)\n",
    "\n",
    "ponct_text = clean_text(text_string)  \n",
    "ponct_text\n",
    "\n",
    "\n",
    "\n"
   ]
  },
  {
   "cell_type": "markdown",
   "id": "1ee6ea0a-24df-4bcf-a815-55a8834a7859",
   "metadata": {},
   "source": [
    "# lower: transformer les majuscules en minuscules"
   ]
  },
  {
   "cell_type": "code",
   "execution_count": 27,
   "id": "b3deeab4-5bee-446c-9c40-c2c4e9dd5a8e",
   "metadata": {},
   "outputs": [
    {
     "name": "stdout",
     "output_type": "stream",
     "text": [
      "zidadine zidane est français\n"
     ]
    }
   ],
   "source": [
    "words = \"Zidadine Zidane est Français\"\n",
    "lower_word = words.lower()\n",
    "print(lower_word)"
   ]
  },
  {
   "cell_type": "code",
   "execution_count": 1,
   "id": "79be076a-dac0-4f6d-ac34-463c776b4120",
   "metadata": {},
   "outputs": [],
   "source": [
    "##PROJET"
   ]
  },
  {
   "cell_type": "code",
   "execution_count": 6,
   "id": "15421d2f-c8d7-45cf-ac54-ed26818485cd",
   "metadata": {},
   "outputs": [
    {
     "name": "stdout",
     "output_type": "stream",
     "text": [
      "['year,month,date_of_month,day_of_week,births', '2000,1,1,6,9083', '2000,1,2,7,8006', '2000,1,3,1,11363', '2000,1,4,2,13032', '2000,1,5,3,12558', '2000,1,6,4,12466', '2000,1,7,5,12516', '2000,1,8,6,8934', '2000,1,9,7,7949']\n"
     ]
    }
   ],
   "source": [
    "f = open(\"US_births_2000-2014.csv\", \"r\")\n",
    "US_births = f.read()\n",
    "##print(US_births)\n",
    "births_split = US_births.split(\"\\n\")\n",
    "print(births_split[0:10])"
   ]
  },
  {
   "cell_type": "code",
   "execution_count": null,
   "id": "2724e1f5-c585-4514-9fe8-c31cbda2a57b",
   "metadata": {},
   "outputs": [],
   "source": [
    "##Convertir la data en liste de listes"
   ]
  },
  {
   "cell_type": "code",
   "execution_count": 14,
   "id": "5ca0cf20-2a90-49c7-86ff-615e3981192f",
   "metadata": {},
   "outputs": [
    {
     "name": "stdout",
     "output_type": "stream",
     "text": [
      "[[2000, 1, 1, 6, 9083], [2000, 1, 1, 6, 9083], [2000, 1, 1, 6, 9083], [2000, 1, 1, 6, 9083], [2000, 1, 1, 6, 9083], [2000, 1, 2, 7, 8006], [2000, 1, 2, 7, 8006], [2000, 1, 2, 7, 8006], [2000, 1, 2, 7, 8006], [2000, 1, 2, 7, 8006]]\n"
     ]
    }
   ],
   "source": [
    "def read_csv(file):\n",
    "    f = open(file, 'r')\n",
    "    string_list = f.read()\n",
    "    string_list =  string_list.split('\\n')\n",
    "    string_list = string_list[1:]\n",
    "    final_list = []\n",
    "    for row in string_list:\n",
    "        int_fields = []\n",
    "        string_fields = row.split(',')\n",
    "        for row in string_fields:\n",
    "            int_fields.append(int(row))\n",
    "            final_list.append(int_fields)\n",
    "    return(final_list)\n",
    "\n",
    "us_births_list = read_csv('US_births_2000-2014.csv')\n",
    "print(us_births_list[0:10])    \n",
    "        \n",
    " "
   ]
  },
  {
   "cell_type": "code",
   "execution_count": null,
   "id": "a171cf5a-f826-44cb-b4f2-168fd8d6001b",
   "metadata": {},
   "outputs": [],
   "source": [
    "###Calcul le nombre de naissance par mois"
   ]
  },
  {
   "cell_type": "code",
   "execution_count": 18,
   "id": "b06a22d4-c4e2-4277-8133-52d7681c6d63",
   "metadata": {},
   "outputs": [
    {
     "name": "stdout",
     "output_type": "stream",
     "text": [
      "{1: 25362940, 2: 23628465, 3: 25864805, 4: 24803750, 5: 25977225, 6: 25816800, 7: 27252090, 8: 27700850, 9: 26997960, 10: 26514325, 11: 25043750, 12: 25972160}\n"
     ]
    }
   ],
   "source": [
    "def month_births(list):\n",
    "    births_per_months = {}\n",
    "    for li in list:\n",
    "        months = li[1]\n",
    "        births = li[4]\n",
    "        if months in births_per_months:\n",
    "            births_per_months[months]+= births\n",
    "        else:\n",
    "             births_per_months[months]= births\n",
    "    return( births_per_months)\n",
    "\n",
    "us_births_months = month_births(us_births_list)\n",
    "print(us_births_months)\n",
    "            \n",
    "    "
   ]
  },
  {
   "cell_type": "code",
   "execution_count": null,
   "id": "e69a403b-58a0-47b2-8d69-2a15272e76eb",
   "metadata": {},
   "outputs": [],
   "source": [
    "#### Calculer le nombre de naissance par jour de la semaine"
   ]
  },
  {
   "cell_type": "code",
   "execution_count": 20,
   "id": "beab74f3-3266-4ec5-9a36-40ddf6615660",
   "metadata": {},
   "outputs": [
    {
     "name": "stdout",
     "output_type": "stream",
     "text": [
      "{6: 33522475, 7: 29434445, 1: 46580005, 2: 51374370, 3: 50545650, 4: 50227180, 5: 49250995}\n"
     ]
    }
   ],
   "source": [
    "def day_births(list):\n",
    "    births_per_days = {}\n",
    "    for li in list:\n",
    "        days = li[3]\n",
    "        births = li[4]\n",
    "        if days in births_per_days:\n",
    "            births_per_days[days]+= births\n",
    "        else:\n",
    "            births_per_days[days]= births\n",
    "    return( births_per_days)\n",
    "us_days_births = day_births(us_births_list)\n",
    "print(us_days_births)\n",
    "            \n",
    "            "
   ]
  },
  {
   "cell_type": "code",
   "execution_count": null,
   "id": "37c41f15-a90d-4625-8118-d9d976f54a5e",
   "metadata": {},
   "outputs": [],
   "source": [
    "####Créer une Fonction plus"
   ]
  },
  {
   "cell_type": "code",
   "execution_count": 28,
   "id": "ec409eeb-9015-4f33-b4d5-a1e4812958b5",
   "metadata": {},
   "outputs": [
    {
     "name": "stdout",
     "output_type": "stream",
     "text": [
      "{2000: 20747990, 2001: 20554815, 2002: 20496565, 2003: 20815300, 2004: 20934315, 2005: 21059705, 2006: 21675770, 2007: 21903920, 2008: 21553685, 2009: 20954955, 2010: 20279875, 2011: 20034540, 2012: 20004340, 2013: 19866685, 2014: 20052660}\n"
     ]
    }
   ],
   "source": [
    "def calc_counts(list, colum):\n",
    "    births_per_col = {}\n",
    "    \n",
    "    for li in list:\n",
    "        key = li[colum]\n",
    "        births = li[4]\n",
    "        if key in births_per_col:\n",
    "            births_per_col[key]+= births\n",
    "        else:\n",
    "            births_per_col[key]= births\n",
    "    return(births_per_col)\n",
    "\n",
    "us_years_births = calc_counts(us_births_list, 0)\n",
    "print(us_years_births)\n",
    "            \n",
    "            \n",
    "\n",
    "    "
   ]
  },
  {
   "cell_type": "code",
   "execution_count": 2,
   "id": "aa999cf5-4664-4f9c-9d92-3a6c1ebd471c",
   "metadata": {},
   "outputs": [
    {
     "name": "stdout",
     "output_type": "stream",
     "text": [
      "Ain,643309\n",
      "Aisne,554040\n",
      "Allier,353262\n",
      "Alpes-de-Haute-Provence,166298\n",
      "Alpes-Maritimes,1098785\n",
      "Ardèche,332051\n",
      "Ardennes,287775\n",
      "Ariège,158076\n",
      "Aube,316098\n",
      "Aude,375065\n",
      "Aveyron,289901\n",
      "Bas-Rhin,1131812\n",
      "Bouches-du-Rhône,2035475\n",
      "Calvados,708407\n",
      "Cantal,152400\n",
      "Charente,366787\n",
      "Charente-Maritime,656046\n",
      "Cher,318590\n",
      "Corrèze,249684\n",
      "Corse-du-Sud,154100\n",
      "Côte-d'Or,545001\n",
      "Côtes-d'Armor,617413\n",
      "Creuse,124948\n",
      "Deux-Sèvres,384655\n",
      "Dordogne,428651\n",
      "Doubs,549155\n",
      "Drôme,514104\n",
      "Essonne,1286908\n",
      "Eure,616076\n",
      "Eure-et-Loir,445083\n",
      "Finistère,935393\n",
      "Gard,752382\n",
      "Gers,197988\n",
      "Gironde,1556663\n",
      "Guadeloupe,406706\n",
      "Guyane,254845\n",
      "Haute-Corse,175499\n",
      "Haute-Garonne,1344579\n",
      "Haute-Loire,234078\n",
      "Haute-Marne,186698\n",
      "Hautes-Alpes,145213\n",
      "Haute-Saône,246022\n",
      "Haute-Savoie,806447\n",
      "Hautes-Pyrénées,236577\n",
      "Haute-Vienne,384708\n",
      "Haut-Rhin,775941\n",
      "Hauts-de-Seine,1617484\n",
      "Hérault,1127333\n",
      "Ille-et-Vilaine,1060051\n",
      "Indre,232802\n",
      "Indre-et-Loire,619004\n",
      "Isère,1271938\n",
      "Jura,270826\n",
      "La Réunion,541487\n",
      "Landes,414090\n",
      "Loire,774262\n",
      "Loire-Atlantique,1382766\n",
      "Loiret,688098\n",
      "Loir-et-Cher,344121\n",
      "Lot,180016\n",
      "Lot-et-Garonne,343198\n",
      "Lozère,80423\n",
      "Maine-et-Loire,829156\n",
      "Manche,518322\n",
      "Marne,584297\n",
      "Martinique,390252\n",
      "Mayenne,317716\n",
      "Meurthe-et-Moselle,746687\n",
      "Meuse,197763\n",
      "Morbihan,764338\n",
      "Moselle,1065894\n",
      "Nièvre,221048\n",
      "Nord,2640622\n",
      "Oise,838646\n",
      "Orne,297109\n",
      "Paris,2243739\n",
      "Pas-de-Calais,1497668\n",
      "Puy-de-Dôme,661248\n",
      "Pyrénées-Atlantiques,688451\n",
      "Pyrénées-Orientales,474842\n",
      "Rhône,1833002\n",
      "Saône-et-Loire,574229\n",
      "Sarthe,583961\n",
      "Savoie,440777\n",
      "Seine-et-Marne,1400477\n",
      "Seine-Maritime,1284107\n",
      "Seine-Saint-Denis,1582139\n",
      "Somme,583641\n",
      "Tarn,396341\n",
      "Tarn-et-Garonne,258696\n",
      "Territoire de Belfort,147647\n",
      "Val-de-Marne,1377511\n",
      "Val-d'Oise,1221946\n",
      "Var,1055745\n",
      "Vaucluse,566592\n",
      "Vendée,681469\n",
      "Vienne,444347\n",
      "Vosges,386978\n",
      "Yonne,352433\n",
      "Yvelines,1449398\n"
     ]
    }
   ],
   "source": [
    "f= open(\"departements_fr.csv\", \"r\")\n",
    "data = f.read()\n",
    "print(data)"
   ]
  },
  {
   "cell_type": "code",
   "execution_count": 3,
   "id": "cf46bfd3-3e3a-4e60-b786-2f630897f578",
   "metadata": {},
   "outputs": [
    {
     "name": "stdout",
     "output_type": "stream",
     "text": [
      "['Ain,643309', 'Aisne,554040', 'Allier,353262']\n"
     ]
    }
   ],
   "source": [
    "rows = data.split('\\n')\n",
    "print(rows[:3])"
   ]
  },
  {
   "cell_type": "code",
   "execution_count": 7,
   "id": "3597ccb1-75e9-4405-8ebc-a2796aece7d3",
   "metadata": {},
   "outputs": [
    {
     "name": "stdout",
     "output_type": "stream",
     "text": [
      "Ain,643309\n",
      "Aisne,554040\n",
      "Allier,353262\n",
      "Alpes-de-Haute-Provence,166298\n",
      "Alpes-Maritimes,1098785\n",
      "Ardèche,332051\n",
      "Ardennes,287775\n",
      "Ariège,158076\n",
      "Aube,316098\n",
      "Aude,375065\n"
     ]
    }
   ],
   "source": [
    "ten_rows = rows[:10]\n",
    "for row in ten_rows:\n",
    "    \n",
    "  print(row)    "
   ]
  },
  {
   "cell_type": "code",
   "execution_count": 9,
   "id": "cb44eb67-6c5f-4902-a9aa-30e59f788bf7",
   "metadata": {},
   "outputs": [
    {
     "name": "stdout",
     "output_type": "stream",
     "text": [
      "[['Ain', '643309'], ['Aisne', '554040'], ['Allier', '353262'], ['Alpes-de-Haute-Provence', '166298'], ['Alpes-Maritimes', '1098785']]\n"
     ]
    }
   ],
   "source": [
    "final_data = []\n",
    "for lis in rows:\n",
    "    split_li = lis.split(',')\n",
    "    final_data.append(split_li)\n",
    "\n",
    "print(final_data[0:5])\n",
    "    \n",
    "\n"
   ]
  },
  {
   "cell_type": "code",
   "execution_count": 10,
   "id": "a182a66f-512a-4b7c-906c-4f23452f54d4",
   "metadata": {},
   "outputs": [
    {
     "name": "stdout",
     "output_type": "stream",
     "text": [
      "['Ain', 'Aisne', 'Allier', 'Alpes-de-Haute-Provence', 'Alpes-Maritimes', 'Ardèche', 'Ardennes', 'Ariège', 'Aube', 'Aude', 'Aveyron', 'Bas-Rhin', 'Bouches-du-Rhône', 'Calvados', 'Cantal', 'Charente', 'Charente-Maritime', 'Cher', 'Corrèze', 'Corse-du-Sud', \"Côte-d'Or\", \"Côtes-d'Armor\", 'Creuse', 'Deux-Sèvres', 'Dordogne', 'Doubs', 'Drôme', 'Essonne', 'Eure', 'Eure-et-Loir', 'Finistère', 'Gard', 'Gers', 'Gironde', 'Guadeloupe', 'Guyane', 'Haute-Corse', 'Haute-Garonne', 'Haute-Loire', 'Haute-Marne', 'Hautes-Alpes', 'Haute-Saône', 'Haute-Savoie', 'Hautes-Pyrénées', 'Haute-Vienne', 'Haut-Rhin', 'Hauts-de-Seine', 'Hérault', 'Ille-et-Vilaine', 'Indre', 'Indre-et-Loire', 'Isère', 'Jura', 'La Réunion', 'Landes', 'Loire', 'Loire-Atlantique', 'Loiret', 'Loir-et-Cher', 'Lot', 'Lot-et-Garonne', 'Lozère', 'Maine-et-Loire', 'Manche', 'Marne', 'Martinique', 'Mayenne', 'Meurthe-et-Moselle', 'Meuse', 'Morbihan', 'Moselle', 'Nièvre', 'Nord', 'Oise', 'Orne', 'Paris', 'Pas-de-Calais', 'Puy-de-Dôme', 'Pyrénées-Atlantiques', 'Pyrénées-Orientales', 'Rhône', 'Saône-et-Loire', 'Sarthe', 'Savoie', 'Seine-et-Marne', 'Seine-Maritime', 'Seine-Saint-Denis', 'Somme', 'Tarn', 'Tarn-et-Garonne', 'Territoire de Belfort', 'Val-de-Marne', \"Val-d'Oise\", 'Var', 'Vaucluse', 'Vendée', 'Vienne', 'Vosges', 'Yonne', 'Yvelines']\n"
     ]
    }
   ],
   "source": [
    "departments_list = []\n",
    "for lit in final_data:\n",
    "    split_row = lit[0]\n",
    "    departments_list.append(split_row)\n",
    "\n",
    "print(departments_list)"
   ]
  },
  {
   "cell_type": "code",
   "execution_count": 24,
   "id": "8181fe24-9aa0-48d8-a195-3f5637ed2c44",
   "metadata": {},
   "outputs": [
    {
     "ename": "TypeError",
     "evalue": "type 'int' is not subscriptable",
     "output_type": "error",
     "traceback": [
      "\u001b[1;31m---------------------------------------------------------------------------\u001b[0m",
      "\u001b[1;31mTypeError\u001b[0m                                 Traceback (most recent call last)",
      "Cell \u001b[1;32mIn[24], line 7\u001b[0m\n\u001b[0;32m      5\u001b[0m \u001b[38;5;28;01mfor\u001b[39;00m row \u001b[38;5;129;01min\u001b[39;00m rows:\n\u001b[0;32m      6\u001b[0m     values \u001b[38;5;241m=\u001b[39m row\u001b[38;5;241m.\u001b[39msplit(\u001b[38;5;124m'\u001b[39m\u001b[38;5;124m,\u001b[39m\u001b[38;5;124m'\u001b[39m)\n\u001b[1;32m----> 7\u001b[0m     dep \u001b[38;5;241m=\u001b[39m \u001b[38;5;28mint\u001b[39m[values]\n\u001b[0;32m      8\u001b[0m     dep\u001b[38;5;241m.\u001b[39mappend(dep)\n\u001b[0;32m     10\u001b[0m \u001b[38;5;28mprint\u001b[39m(dep)\n",
      "\u001b[1;31mTypeError\u001b[0m: type 'int' is not subscriptable"
     ]
    }
   ],
   "source": [
    "f= open(\"departements_fr.csv\", \"r\")\n",
    "data = f.read()\n",
    "rows = data.split('\\n')\n",
    "dep = []\n",
    "for row in rows:\n",
    "    values = row.split(',')\n",
    "    dep = int[values]\n",
    "    dep.append(dep)\n",
    "\n",
    "print(dep)"
   ]
  },
  {
   "cell_type": "code",
   "execution_count": 30,
   "id": "82aff893-6405-4104-aef8-2186a9fbb06e",
   "metadata": {},
   "outputs": [
    {
     "ename": "SyntaxError",
     "evalue": "expected ':' (518520479.py, line 7)",
     "output_type": "error",
     "traceback": [
      "\u001b[1;36m  Cell \u001b[1;32mIn[30], line 7\u001b[1;36m\u001b[0m\n\u001b[1;33m    if found\u001b[0m\n\u001b[1;37m            ^\u001b[0m\n\u001b[1;31mSyntaxError\u001b[0m\u001b[1;31m:\u001b[0m expected ':'\n"
     ]
    }
   ],
   "source": [
    "found = false\n",
    "\n",
    "for dep in departments:\n",
    "    if dep == 'Paris':\n",
    "       found = true\n",
    "\n",
    "if found\n",
    "  print(found)"
   ]
  },
  {
   "cell_type": "code",
   "execution_count": 2,
   "id": "74976c47-53db-41ac-b506-a051bfc21ab5",
   "metadata": {},
   "outputs": [
    {
     "name": "stdout",
     "output_type": "stream",
     "text": [
      "['Casey,176544.328149', 'Riley,154860.665173', 'Jessie,136381.830656', 'Jackie,132928.78874', 'Avery,121797.419516', 'Jaime,109870.18729', 'Peyton,94896.395216', 'Kerry,88963.92625', 'Jody,80400.519199', 'Kendall,79210.873961']\n"
     ]
    }
   ],
   "source": [
    "f = open(\"unisex_names.csv\", \"r\")\n",
    "names = f.read()\n",
    "names_list = names.split('\\n')\n",
    "print(names_list[:10])"
   ]
  },
  {
   "cell_type": "code",
   "execution_count": 5,
   "id": "bf57be8c-8e38-4c7d-a90c-8368ddf637ac",
   "metadata": {},
   "outputs": [
    {
     "name": "stdout",
     "output_type": "stream",
     "text": [
      "[['Casey', '176544.328149'], ['Riley', '154860.665173'], ['Jessie', '136381.830656'], ['Jackie', '132928.78874'], ['Avery', '121797.419516']]\n"
     ]
    }
   ],
   "source": [
    "name_data = []\n",
    "for row in names_list:\n",
    "    dep = row.split(',')\n",
    "    name_data.append(dep)\n",
    "\n",
    "print(name_data[0:5])"
   ]
  },
  {
   "cell_type": "code",
   "execution_count": 9,
   "id": "78a40c20-dbe8-4d9a-a55b-d8486cff31fb",
   "metadata": {},
   "outputs": [
    {
     "name": "stdout",
     "output_type": "stream",
     "text": [
      "[['Casey', 176544.328149], ['Riley', 154860.665173], ['Jessie', 136381.830656], ['Jackie', 132928.78874], ['Avery', 121797.419516]]\n"
     ]
    }
   ],
   "source": [
    "numerical_list = []\n",
    "for row in name_data:\n",
    "    name = row[0]\n",
    "    count = float(row[1])\n",
    "    new_list = [name, count]\n",
    "    numerical_list.append(new_list)\n",
    "\n",
    "print( numerical_list[:5])"
   ]
  },
  {
   "cell_type": "code",
   "execution_count": 11,
   "id": "e08c8f5d-f0bc-400b-8c79-9f17370193b7",
   "metadata": {},
   "outputs": [
    {
     "name": "stdout",
     "output_type": "stream",
     "text": [
      "['Riley', 'Jessie', 'Jackie', 'Avery', 'Jaime', 'Peyton', 'Kerry', 'Jody', 'Kendall']\n"
     ]
    }
   ],
   "source": [
    "final_list = []\n",
    "for row in numerical_list:\n",
    "    dep = row[0]\n",
    "    population = row[1]\n",
    "    if population >= 1000:\n",
    "        final_list.append(dep)\n",
    "\n",
    "print(final_list[1:10])"
   ]
  },
  {
   "cell_type": "code",
   "execution_count": 12,
   "id": "713ecd2b-2773-4cf5-b59a-3da9295f21fa",
   "metadata": {},
   "outputs": [
    {
     "name": "stdout",
     "output_type": "stream",
     "text": [
      "[['1', 'Soleil'], ['2', 'Soleil'], ['3', 'Soleil'], ['4', 'Soleil']]\n"
     ]
    }
   ],
   "source": [
    "weather_data = []\n",
    "f = open(\"madrid_weather_2016.csv\", \"r\")\n",
    "data = f.read()\n",
    "rows = data.split('\\n')\n",
    "for row in rows:\n",
    "    spliit_row = row.split(',')\n",
    "    weather_data.append(spliit_row)\n",
    "\n",
    "print(weather_data[1:5])"
   ]
  },
  {
   "cell_type": "code",
   "execution_count": 14,
   "id": "91efa5b3-0bf6-40d0-9721-664949122b5d",
   "metadata": {},
   "outputs": [
    {
     "name": "stdout",
     "output_type": "stream",
     "text": [
      "366\n"
     ]
    }
   ],
   "source": [
    "i = 0\n",
    "for k in weather_data:\n",
    "    i = i+1\n",
    "\n",
    "print(i)"
   ]
  },
  {
   "cell_type": "code",
   "execution_count": 16,
   "id": "21c3a106-ab7c-49af-a695-2be28d588dc7",
   "metadata": {},
   "outputs": [
    {
     "data": {
      "text/plain": [
       "['1', 'Soleil']"
      ]
     },
     "execution_count": 16,
     "metadata": {},
     "output_type": "execute_result"
    }
   ],
   "source": [
    "new_weather = weather_data[1:366]\n",
    "new_weather\n",
    "new_weather = weather_data[1]\n",
    "new_weather"
   ]
  },
  {
   "cell_type": "code",
   "execution_count": 18,
   "id": "d25950a5-1560-4902-8920-e03221114c92",
   "metadata": {},
   "outputs": [
    {
     "ename": "IndexError",
     "evalue": "string index out of range",
     "output_type": "error",
     "traceback": [
      "\u001b[1;31m---------------------------------------------------------------------------\u001b[0m",
      "\u001b[1;31mIndexError\u001b[0m                                Traceback (most recent call last)",
      "Cell \u001b[1;32mIn[18], line 3\u001b[0m\n\u001b[0;32m      1\u001b[0m weather \u001b[38;5;241m=\u001b[39m []\n\u001b[0;32m      2\u001b[0m \u001b[38;5;28;01mfor\u001b[39;00m row \u001b[38;5;129;01min\u001b[39;00m new_weather:\n\u001b[1;32m----> 3\u001b[0m     weather\u001b[38;5;241m.\u001b[39mappend(row[\u001b[38;5;241m1\u001b[39m])\n\u001b[0;32m      5\u001b[0m \u001b[38;5;28mprint\u001b[39m(weather[\u001b[38;5;241m0\u001b[39m])\n",
      "\u001b[1;31mIndexError\u001b[0m: string index out of range"
     ]
    }
   ],
   "source": [
    "weather = []\n",
    "for row in new_weather:\n",
    "    weather.append(row[1])\n",
    "\n",
    "print(weather[0])"
   ]
  },
  {
   "cell_type": "code",
   "execution_count": 1,
   "id": "eb657504-db09-46c2-a1b4-ffb2b65dd335",
   "metadata": {},
   "outputs": [
    {
     "name": "stdout",
     "output_type": "stream",
     "text": [
      "['mercure', 'jupiter', 'saturne', 'neptune', 'uranus']\n",
      "['venus', 'terre', 'mars']\n"
     ]
    }
   ],
   "source": [
    "planet_names  = [\"mercure\", \"venus\", \"terre\", \"mars\", \"jupiter\", \"saturne\", \"neptune\", \"uranus\"]\n",
    "long_names = []\n",
    "short_names = []\n",
    "for row in planet_names:\n",
    "    if len(row) > 5:\n",
    "        long_names.append(row)\n",
    "    else:\n",
    "        short_names.append(row)\n",
    "        \n",
    "print(long_names)\n",
    "print(short_names)"
   ]
  },
  {
   "cell_type": "code",
   "execution_count": 2,
   "id": "4892350c-881a-42da-9a4b-152c0557c2f3",
   "metadata": {},
   "outputs": [
    {
     "ename": "IndentationError",
     "evalue": "unexpected indent (4018139417.py, line 9)",
     "output_type": "error",
     "traceback": [
      "\u001b[1;36m  Cell \u001b[1;32mIn[2], line 9\u001b[1;36m\u001b[0m\n\u001b[1;33m    weather_data.append(spliit_row)\u001b[0m\n\u001b[1;37m    ^\u001b[0m\n\u001b[1;31mIndentationError\u001b[0m\u001b[1;31m:\u001b[0m unexpected indent\n"
     ]
    }
   ],
   "source": [
    "f = open(\"madrid_weather_2016.csv\", \"r\")\n",
    "data = f.read()\n",
    "weather_data = []\n",
    "rows = data.split('\\n')\n",
    "weather_counts = {}\n",
    "\n",
    "for row in rows:\n",
    "    spliit_row = row.split(',')\n",
    "     weather_data.append(spliit_row)\n",
    "for item in weather_data:\n",
    "    if item in weather_counts:\n",
    "      weather_counts[item] += 1\n",
    "    else:\n",
    "    weather_counts[item] = 1\n",
    "\n",
    "print(weather_counts)\n",
    "\n",
    "\n",
    "\n",
    "    \n",
    "    \n",
    "    \n",
    "    "
   ]
  },
  {
   "cell_type": "code",
   "execution_count": 2,
   "id": "d2ffcb61-83be-4a6a-a0ec-6ad8c165b6ed",
   "metadata": {},
   "outputs": [
    {
     "name": "stdout",
     "output_type": "stream",
     "text": [
      "En termes généraux, la scence des données est l'extraction de conaissance d'ensembles de données.   \n",
      " \n",
      "Elle emploie des techniques et des théories tirées de plusieurs autres domaines plus larges des mathématiques, la statistique principalement, la téorie de l'information et la technologie de l'information, notamment le traitement de signal, des modèles probabilistes, l'apprentissage automatique, l'apprentissage statistiqe, la programmation informatique, l'ingénierie de données, la reconnaissance de formes et l'apprentissage, la visualisation, l'analytique prophétique, la modélisation d'incertitude, le stokage de données, la compression de données et le calcul à haute performance. \n",
      " \n",
      "Les méthodes qui s'adaptent aux données de masse sont particulièrement intéressantes dans la science des données, bien que la dicipline ne soit généralement pas considérée come limitée à ces données.   \n",
      " \n",
      "Le premier objectif est de produire des méthodes automatisées, autant que possible de tri et d'analyse de données de masse et de sources plus ou moins complexes ou disjointes de données, afin d'en extraire des informations utiles ou potentiellement utiles. Source Wikipédia\n"
     ]
    }
   ],
   "source": [
    "texte = open(\"texte.txt\", \"r\", encoding=\"utf-8\")\n",
    "g = texte.read()\n",
    "print(g)"
   ]
  },
  {
   "cell_type": "code",
   "execution_count": 6,
   "id": "74187fb9-1697-4936-9506-770b75a07a0e",
   "metadata": {},
   "outputs": [
    {
     "ename": "NameError",
     "evalue": "name 'text_string' is not defined",
     "output_type": "error",
     "traceback": [
      "\u001b[1;31m---------------------------------------------------------------------------\u001b[0m",
      "\u001b[1;31mNameError\u001b[0m                                 Traceback (most recent call last)",
      "Cell \u001b[1;32mIn[6], line 7\u001b[0m\n\u001b[0;32m      5\u001b[0m      cleaned_string \u001b[38;5;241m=\u001b[39m string\u001b[38;5;241m.\u001b[39mreplace(\u001b[38;5;124m\"\u001b[39m\u001b[38;5;130;01m\\n\u001b[39;00m\u001b[38;5;124m\"\u001b[39m, \u001b[38;5;124m\"\u001b[39m\u001b[38;5;124m\"\u001b[39m)\n\u001b[0;32m      6\u001b[0m      \u001b[38;5;28;01mreturn\u001b[39;00m(cleaned_string)\n\u001b[1;32m----> 7\u001b[0m cleaned_text \u001b[38;5;241m=\u001b[39m clean_text(text_string)\n\u001b[0;32m      8\u001b[0m cleaned_text\n",
      "\u001b[1;31mNameError\u001b[0m: name 'text_string' is not defined"
     ]
    }
   ],
   "source": [
    "def clean_text(string):\n",
    "     cleaned_string = string.replace(\",\", \"\")\n",
    "     cleaned_string = string.replace(\".\", \"\")\n",
    "     cleaned_string = string.replace(\"'\", \"\")\n",
    "     cleaned_string = string.replace(\"\\n\", \"\")\n",
    "     return(cleaned_string)\n",
    "cleaned_text = clean_text(text_string)\n",
    "cleaned_text\n",
    "\n"
   ]
  },
  {
   "cell_type": "markdown",
   "id": "a04ac0dc-c06e-437c-b055-2a935bcdd854",
   "metadata": {},
   "source": [
    "### Training"
   ]
  },
  {
   "cell_type": "code",
   "execution_count": 2,
   "id": "db1794c8-5d0a-442f-a7a2-191dd7b16b45",
   "metadata": {},
   "outputs": [
    {
     "ename": "SyntaxError",
     "evalue": "invalid syntax (1920065829.py, line 5)",
     "output_type": "error",
     "traceback": [
      "\u001b[1;36m  Cell \u001b[1;32mIn[2], line 5\u001b[1;36m\u001b[0m\n\u001b[1;33m    tokenized_ vocabulary = tokenize(vocabulary, special_charatesrs, replacement_string )\u001b[0m\n\u001b[1;37m               ^\u001b[0m\n\u001b[1;31mSyntaxError\u001b[0m\u001b[1;31m:\u001b[0m invalid syntax\n"
     ]
    }
   ],
   "source": [
    "def spell_check(vocabulary_file, text_file, special_charatesrs = [\".\", \"'\", \",\", \"\\n\"], replacement_string= \"\"):\n",
    "    misspelled_words = []\n",
    "    f = open(vocabulary_file, \"r\").read()\n",
    "    g = open(text_file, \"r\", encoding=\"utf-8\").read()\n",
    "    tokenized_ vocabulary = tokenize(vocabulary, special_charatesrs, replacement_string )\n",
    "    tokenized_ text = tokenize(text, special_charatesrs, replacement_string, True )\n",
    "    for token in tokenised_text:\n",
    "        if token not in tokenised_vocabulary:\n",
    "            misspelled_words.append(token)\n",
    "\n",
    "final_misspelled_words = spell_check(vocabulary_file=\"dictionnaire.txt\", text_file=\"texte.txt\")\n",
    "print(final_misspelled_words)"
   ]
  },
  {
   "cell_type": "code",
   "execution_count": 8,
   "id": "7ff887f4-c9e7-4f8e-b192-cb24dcdd83a2",
   "metadata": {},
   "outputs": [
    {
     "name": "stdout",
     "output_type": "stream",
     "text": [
      "[['2009', '1', 'Pittsburgh Steelers', 'Tennessee Titans'], ['2009', '1', 'Minnesota Vikings', 'Cleveland Browns'], ['2009', '1', 'New York Giants', 'Washington Redskins'], ['2009', '1', 'San Francisco 49ers', 'Arizona Cardinals'], ['2009', '1', 'Seattle Seahawks', 'St. Louis Rams'], ['2009', '1', 'Philadelphia Eagles', 'Carolina Panthers'], ['2009', '1', 'New York Jets', 'Houston Texans'], ['2009', '1', 'Atlanta Falcons', 'Miami Dolphins'], ['2009', '1', 'Baltimore Ravens', 'Kansas City Chiefs'], ['2009', '1', 'Indianapolis Colts', 'Jacksonville Jaguars'], ['2009', '1', 'New Orleans Saints', 'Detroit Lions'], ['2009', '1', 'Denver Broncos', 'Cincinnati Bengals'], ['2009', '1', 'Green Bay Packers', 'Chicago Bears'], ['2009', '1', 'Dallas Cowboys', 'Tampa Bay Buccaneers'], ['2009', '1', 'New England Patriots', 'Buffalo Bills'], ['2009', '1', 'San Diego Chargers', 'Oakland Raiders'], ['2009', '2', 'New York Giants', 'Dallas Cowboys'], ['2009', '2', 'Chicago Bears', 'Pittsburgh Steelers'], ['2009', '2', 'Oakland Raiders', 'Kansas City Chiefs'], ['2009', '2', 'Washington Redskins', 'St. Louis Rams'], ['2009', '2', 'Baltimore Ravens', 'San Diego Chargers'], ['2009', '2', 'San Francisco 49ers', 'Seattle Seahawks'], ['2009', '2', 'Buffalo Bills', 'Tampa Bay Buccaneers'], ['2009', '2', 'New York Jets', 'New England Patriots'], ['2009', '2', 'New Orleans Saints', 'Philadelphia Eagles'], ['2009', '2', 'Atlanta Falcons', 'Carolina Panthers'], ['2009', '2', 'Cincinnati Bengals', 'Green Bay Packers'], ['2009', '2', 'Denver Broncos', 'Cleveland Browns'], ['2009', '2', 'Arizona Cardinals', 'Jacksonville Jaguars'], ['2009', '2', 'Houston Texans', 'Tennessee Titans'], ['2009', '2', 'Minnesota Vikings', 'Detroit Lions'], ['2009', '2', 'Indianapolis Colts', 'Miami Dolphins'], ['2009', '3', 'San Diego Chargers', 'Miami Dolphins'], ['2009', '3', 'New Orleans Saints', 'Buffalo Bills'], ['2009', '3', 'New York Giants', 'Tampa Bay Buccaneers'], ['2009', '3', 'New York Jets', 'Tennessee Titans'], ['2009', '3', 'Cincinnati Bengals', 'Pittsburgh Steelers'], ['2009', '3', 'Minnesota Vikings', 'San Francisco 49ers'], ['2009', '3', 'Detroit Lions', 'Washington Redskins'], ['2009', '3', 'Philadelphia Eagles', 'Kansas City Chiefs'], ['2009', '3', 'Jacksonville Jaguars', 'Houston Texans'], ['2009', '3', 'New England Patriots', 'Atlanta Falcons'], ['2009', '3', 'Chicago Bears', 'Seattle Seahawks'], ['2009', '3', 'Baltimore Ravens', 'Cleveland Browns'], ['2009', '3', 'Indianapolis Colts', 'Arizona Cardinals'], ['2009', '3', 'Denver Broncos', 'Oakland Raiders'], ['2009', '3', 'Green Bay Packers', 'St. Louis Rams'], ['2009', '3', 'Dallas Cowboys', 'Carolina Panthers'], ['2009', '4', 'Houston Texans', 'Oakland Raiders'], ['2009', '4', 'San Francisco 49ers', 'St. Louis Rams'], ['2009', '4', 'New England Patriots', 'Baltimore Ravens'], ['2009', '4', 'Pittsburgh Steelers', 'San Diego Chargers'], ['2009', '4', 'Washington Redskins', 'Tampa Bay Buccaneers'], ['2009', '4', 'Jacksonville Jaguars', 'Tennessee Titans'], ['2009', '4', 'New Orleans Saints', 'New York Jets'], ['2009', '4', 'New York Giants', 'Kansas City Chiefs'], ['2009', '4', 'Indianapolis Colts', 'Seattle Seahawks'], ['2009', '4', 'Chicago Bears', 'Detroit Lions'], ['2009', '4', 'Denver Broncos', 'Dallas Cowboys'], ['2009', '4', 'Cincinnati Bengals', 'Cleveland Browns'], ['2009', '4', 'Miami Dolphins', 'Buffalo Bills'], ['2009', '4', 'Minnesota Vikings', 'Green Bay Packers'], ['2009', '5', 'Arizona Cardinals', 'Houston Texans'], ['2009', '5', 'Philadelphia Eagles', 'Tampa Bay Buccaneers'], ['2009', '5', 'Carolina Panthers', 'Washington Redskins'], ['2009', '5', 'Atlanta Falcons', 'San Francisco 49ers'], ['2009', '5', 'New York Giants', 'Oakland Raiders'], ['2009', '5', 'Pittsburgh Steelers', 'Detroit Lions'], ['2009', '5', 'Denver Broncos', 'New England Patriots'], ['2009', '5', 'Minnesota Vikings', 'St. Louis Rams'], ['2009', '5', 'Seattle Seahawks', 'Jacksonville Jaguars'], ['2009', '5', 'Dallas Cowboys', 'Kansas City Chiefs'], ['2009', '5', 'Indianapolis Colts', 'Tennessee Titans'], ['2009', '5', 'Cleveland Browns', 'Buffalo Bills'], ['2009', '5', 'Cincinnati Bengals', 'Baltimore Ravens'], ['2009', '5', 'Miami Dolphins', 'New York Jets'], ['2009', '6', 'Oakland Raiders', 'Philadelphia Eagles'], ['2009', '6', 'Arizona Cardinals', 'Seattle Seahawks'], ['2009', '6', 'Atlanta Falcons', 'Chicago Bears'], ['2009', '6', 'Carolina Panthers', 'Tampa Bay Buccaneers'], ['2009', '6', 'New Orleans Saints', 'New York Giants'], ['2009', '6', 'Jacksonville Jaguars', 'St. Louis Rams'], ['2009', '6', 'Minnesota Vikings', 'Baltimore Ravens'], ['2009', '6', 'New England Patriots', 'Tennessee Titans'], ['2009', '6', 'Kansas City Chiefs', 'Washington Redskins'], ['2009', '6', 'Houston Texans', 'Cincinnati Bengals'], ['2009', '6', 'Green Bay Packers', 'Detroit Lions'], ['2009', '6', 'Pittsburgh Steelers', 'Cleveland Browns'], ['2009', '6', 'Buffalo Bills', 'New York Jets'], ['2009', '6', 'Denver Broncos', 'San Diego Chargers'], ['2009', '7', 'Arizona Cardinals', 'New York Giants'], ['2009', '7', 'Indianapolis Colts', 'St. Louis Rams'], ['2009', '7', 'Cincinnati Bengals', 'Chicago Bears'], ['2009', '7', 'New Orleans Saints', 'Miami Dolphins'], ['2009', '7', 'Dallas Cowboys', 'Atlanta Falcons'], ['2009', '7', 'San Diego Chargers', 'Kansas City Chiefs'], ['2009', '7', 'New York Jets', 'Oakland Raiders'], ['2009', '7', 'Houston Texans', 'San Francisco 49ers'], ['2009', '7', 'New England Patriots', 'Tampa Bay Buccaneers'], ['2009', '7', 'Pittsburgh Steelers', 'Minnesota Vikings'], ['2009', '7', 'Green Bay Packers', 'Cleveland Browns'], ['2009', '7', 'Buffalo Bills', 'Carolina Panthers'], ['2009', '7', 'Philadelphia Eagles', 'Washington Redskins'], ['2009', '8', 'Minnesota Vikings', 'Green Bay Packers'], ['2009', '8', 'Miami Dolphins', 'New York Jets'], ['2009', '8', 'Tennessee Titans', 'Jacksonville Jaguars'], ['2009', '8', 'Dallas Cowboys', 'Seattle Seahawks'], ['2009', '8', 'Baltimore Ravens', 'Denver Broncos'], ['2009', '8', 'Chicago Bears', 'Cleveland Browns'], ['2009', '8', 'Carolina Panthers', 'Arizona Cardinals'], ['2009', '8', 'Indianapolis Colts', 'San Francisco 49ers'], ['2009', '8', 'St. Louis Rams', 'Detroit Lions'], ['2009', '8', 'San Diego Chargers', 'Oakland Raiders'], ['2009', '8', 'Houston Texans', 'Buffalo Bills'], ['2009', '8', 'Philadelphia Eagles', 'New York Giants'], ['2009', '8', 'New Orleans Saints', 'Atlanta Falcons'], ['2009', '9', 'Atlanta Falcons', 'Washington Redskins'], ['2009', '9', 'Cincinnati Bengals', 'Baltimore Ravens'], ['2009', '9', 'Tennessee Titans', 'San Francisco 49ers'], ['2009', '9', 'New England Patriots', 'Miami Dolphins'], ['2009', '9', 'Jacksonville Jaguars', 'Kansas City Chiefs'], ['2009', '9', 'Indianapolis Colts', 'Houston Texans'], ['2009', '9', 'Tampa Bay Buccaneers', 'Green Bay Packers'], ['2009', '9', 'Seattle Seahawks', 'Detroit Lions'], ['2009', '9', 'Dallas Cowboys', 'Philadelphia Eagles'], ['2009', '9', 'New Orleans Saints', 'Carolina Panthers'], ['2009', '9', 'Arizona Cardinals', 'Chicago Bears'], ['2009', '9', 'San Diego Chargers', 'New York Giants'], ['2009', '9', 'Pittsburgh Steelers', 'Denver Broncos'], ['2009', '10', 'San Francisco 49ers', 'Chicago Bears'], ['2009', '10', 'New Orleans Saints', 'St. Louis Rams'], ['2009', '10', 'Indianapolis Colts', 'New England Patriots'], ['2009', '10', 'San Diego Chargers', 'Philadelphia Eagles'], ['2009', '10', 'Arizona Cardinals', 'Seattle Seahawks'], ['2009', '10', 'Miami Dolphins', 'Tampa Bay Buccaneers'], ['2009', '10', 'Kansas City Chiefs', 'Oakland Raiders'], ['2009', '10', 'Jacksonville Jaguars', 'New York Jets'], ['2009', '10', 'Minnesota Vikings', 'Detroit Lions'], ['2009', '10', 'Carolina Panthers', 'Atlanta Falcons'], ['2009', '10', 'Tennessee Titans', 'Buffalo Bills'], ['2009', '10', 'Cincinnati Bengals', 'Pittsburgh Steelers'], ['2009', '10', 'Green Bay Packers', 'Dallas Cowboys'], ['2009', '10', 'Washington Redskins', 'Denver Broncos'], ['2009', '10', 'Baltimore Ravens', 'Cleveland Browns'], ['2009', '11', 'Miami Dolphins', 'Carolina Panthers'], ['2009', '11', 'Philadelphia Eagles', 'Chicago Bears'], ['2009', '11', 'Kansas City Chiefs', 'Pittsburgh Steelers'], ['2009', '11', 'San Diego Chargers', 'Denver Broncos'], ['2009', '11', 'Minnesota Vikings', 'Seattle Seahawks'], ['2009', '11', 'Green Bay Packers', 'San Francisco 49ers'], ['2009', '11', 'Dallas Cowboys', 'Washington Redskins'], ['2009', '11', 'New England Patriots', 'New York Jets'], ['2009', '11', 'New Orleans Saints', 'Tampa Bay Buccaneers'], ['2009', '11', 'New York Giants', 'Atlanta Falcons'], ['2009', '11', 'Jacksonville Jaguars', 'Buffalo Bills'], ['2009', '11', 'Oakland Raiders', 'Cincinnati Bengals'], ['2009', '11', 'Detroit Lions', 'Cleveland Browns'], ['2009', '11', 'Indianapolis Colts', 'Baltimore Ravens'], ['2009', '11', 'Arizona Cardinals', 'St. Louis Rams'], ['2009', '11', 'Tennessee Titans', 'Houston Texans'], ['2009', '12', 'Denver Broncos', 'New York Giants'], ['2009', '12', 'Green Bay Packers', 'Detroit Lions'], ['2009', '12', 'Dallas Cowboys', 'Oakland Raiders'], ['2009', '12', 'Baltimore Ravens', 'Pittsburgh Steelers'], ['2009', '12', 'Seattle Seahawks', 'St. Louis Rams'], ['2009', '12', 'Atlanta Falcons', 'Tampa Bay Buccaneers'], ['2009', '12', 'Philadelphia Eagles', 'Washington Redskins'], ['2009', '12', 'Buffalo Bills', 'Miami Dolphins'], ['2009', '12', 'San Diego Chargers', 'Kansas City Chiefs'], ['2009', '12', 'San Francisco 49ers', 'Jacksonville Jaguars'], ['2009', '12', 'Tennessee Titans', 'Arizona Cardinals'], ['2009', '12', 'Indianapolis Colts', 'Houston Texans'], ['2009', '12', 'Cincinnati Bengals', 'Cleveland Browns'], ['2009', '12', 'Minnesota Vikings', 'Chicago Bears'], ['2009', '12', 'New York Jets', 'Carolina Panthers'], ['2009', '12', 'New Orleans Saints', 'New England Patriots'], ['2009', '13', 'New York Jets', 'Buffalo Bills'], ['2009', '13', 'Seattle Seahawks', 'San Francisco 49ers'], ['2009', '13', 'San Diego Chargers', 'Cleveland Browns'], ['2009', '13', 'Chicago Bears', 'St. Louis Rams'], ['2009', '13', 'Oakland Raiders', 'Pittsburgh Steelers'], ['2009', '13', 'Philadelphia Eagles', 'Atlanta Falcons'], ['2009', '13', 'Indianapolis Colts', 'Tennessee Titans'], ['2009', '13', 'Carolina Panthers', 'Tampa Bay Buccaneers'], ['2009', '13', 'Miami Dolphins', 'New England Patriots'], ['2009', '13', 'New York Giants', 'Dallas Cowboys'], ['2009', '13', 'Denver Broncos', 'Kansas City Chiefs'], ['2009', '13', 'Cincinnati Bengals', 'Detroit Lions'], ['2009', '13', 'Jacksonville Jaguars', 'Houston Texans'], ['2009', '13', 'Arizona Cardinals', 'Minnesota Vikings'], ['2009', '13', 'New Orleans Saints', 'Washington Redskins'], ['2009', '13', 'Green Bay Packers', 'Baltimore Ravens'], ['2009', '14', 'Cleveland Browns', 'Pittsburgh Steelers'], ['2009', '14', 'New York Jets', 'Tampa Bay Buccaneers'], ['2009', '14', 'Philadelphia Eagles', 'New York Giants'], ['2009', '14', 'Tennessee Titans', 'St. Louis Rams'], ['2009', '14', 'San Diego Chargers', 'Dallas Cowboys'], ['2009', '14', 'Houston Texans', 'Seattle Seahawks'], ['2009', '14', 'Washington Redskins', 'Oakland Raiders'], ['2009', '14', 'New Orleans Saints', 'Atlanta Falcons'], ['2009', '14', 'Miami Dolphins', 'Jacksonville Jaguars'], ['2009', '14', 'Buffalo Bills', 'Kansas City Chiefs'], ['2009', '14', 'New England Patriots', 'Carolina Panthers'], ['2009', '14', 'Minnesota Vikings', 'Cincinnati Bengals'], ['2009', '14', 'Indianapolis Colts', 'Denver Broncos'], ['2009', '14', 'Baltimore Ravens', 'Detroit Lions'], ['2009', '14', 'Green Bay Packers', 'Chicago Bears'], ['2009', '14', 'San Francisco 49ers', 'Arizona Cardinals'], ['2009', '15', 'Indianapolis Colts', 'Jacksonville Jaguars'], ['2009', '15', 'Dallas Cowboys', 'New Orleans Saints'], ['2009', '15', 'Carolina Panthers', 'Minnesota Vikings'], ['2009', '15', 'New England Patriots', 'Buffalo Bills'], ['2009', '15', 'Oakland Raiders', 'Denver Broncos'], ['2009', '15', 'Philadelphia Eagles', 'San Francisco 49ers'], ['2009', '15', 'Tampa Bay Buccaneers', 'Seattle Seahawks'], ['2009', '15', 'Tennessee Titans', 'Miami Dolphins'], ['2009', '15', 'Houston Texans', 'St. Louis Rams'], ['2009', '15', 'Pittsburgh Steelers', 'Green Bay Packers'], ['2009', '15', 'Atlanta Falcons', 'New York Jets'], ['2009', '15', 'Baltimore Ravens', 'Chicago Bears'], ['2009', '15', 'San Diego Chargers', 'Cincinnati Bengals'], ['2009', '15', 'Cleveland Browns', 'Kansas City Chiefs'], ['2009', '15', 'Arizona Cardinals', 'Detroit Lions'], ['2009', '15', 'New York Giants', 'Washington Redskins'], ['2009', '16', 'San Diego Chargers', 'Tennessee Titans'], ['2009', '16', 'Cleveland Browns', 'Oakland Raiders'], ['2009', '16', 'Arizona Cardinals', 'St. Louis Rams'], ['2009', '16', 'Pittsburgh Steelers', 'Baltimore Ravens'], ['2009', '16', 'Green Bay Packers', 'Seattle Seahawks'], ['2009', '16', 'Tampa Bay Buccaneers', 'New Orleans Saints'], ['2009', '16', 'New York Jets', 'Indianapolis Colts'], ['2009', '16', 'Cincinnati Bengals', 'Kansas City Chiefs'], ['2009', '16', 'Dallas Cowboys', 'Washington Redskins'], ['2009', '16', 'New England Patriots', 'Jacksonville Jaguars'], ['2009', '16', 'Houston Texans', 'Miami Dolphins'], ['2009', '16', 'San Francisco 49ers', 'Detroit Lions'], ['2009', '16', 'Philadelphia Eagles', 'Denver Broncos'], ['2009', '16', 'Atlanta Falcons', 'Buffalo Bills'], ['2009', '16', 'Carolina Panthers', 'New York Giants'], ['2009', '16', 'Chicago Bears', 'Minnesota Vikings'], ['2009', '17', 'Minnesota Vikings', 'New York Giants'], ['2009', '17', 'Tennessee Titans', 'Seattle Seahawks'], ['2009', '17', 'Dallas Cowboys', 'Philadelphia Eagles'], ['2009', '17', 'Pittsburgh Steelers', 'Miami Dolphins'], ['2009', '17', 'Baltimore Ravens', 'Oakland Raiders'], ['2009', '17', 'San Francisco 49ers', 'St. Louis Rams'], ['2009', '17', 'San Diego Chargers', 'Washington Redskins'], ['2009', '17', 'Houston Texans', 'New England Patriots'], ['2009', '17', 'Carolina Panthers', 'New Orleans Saints'], ['2009', '17', 'Kansas City Chiefs', 'Denver Broncos'], ['2009', '17', 'Cleveland Browns', 'Jacksonville Jaguars'], ['2009', '17', 'Green Bay Packers', 'Arizona Cardinals'], ['2009', '17', 'Buffalo Bills', 'Indianapolis Colts'], ['2009', '17', 'New York Jets', 'Cincinnati Bengals'], ['2009', '17', 'Chicago Bears', 'Detroit Lions'], ['2009', '17', 'Atlanta Falcons', 'Tampa Bay Buccaneers'], ['2010', '1', 'New Orleans Saints', 'Minnesota Vikings'], ['2010', '1', 'Houston Texans', 'Indianapolis Colts'], ['2010', '1', 'Seattle Seahawks', 'San Francisco 49ers'], ['2010', '1', 'Jacksonville Jaguars', 'Denver Broncos'], ['2010', '1', 'Miami Dolphins', 'Buffalo Bills'], ['2010', '1', 'Arizona Cardinals', 'St. Louis Rams'], ['2010', '1', 'Green Bay Packers', 'Philadelphia Eagles'], ['2010', '1', 'Chicago Bears', 'Detroit Lions'], ['2010', '1', 'New York Giants', 'Carolina Panthers'], ['2010', '1', 'Tennessee Titans', 'Oakland Raiders'], ['2010', '1', 'Pittsburgh Steelers', 'Atlanta Falcons'], ['2010', '1', 'New England Patriots', 'Cincinnati Bengals'], ['2010', '1', 'Washington Redskins', 'Dallas Cowboys'], ['2010', '1', 'Tampa Bay Buccaneers', 'Cleveland Browns'], ['2010', '1', 'Baltimore Ravens', 'New York Jets'], ['2010', '1', 'Kansas City Chiefs', 'San Diego Chargers'], ['2010', '2', 'Indianapolis Colts', 'New York Giants'], ['2010', '2', 'Denver Broncos', 'Seattle Seahawks'], ['2010', '2', 'Atlanta Falcons', 'Arizona Cardinals'], ['2010', '2', 'Philadelphia Eagles', 'Detroit Lions'], ['2010', '2', 'San Diego Chargers', 'Jacksonville Jaguars'], ['2010', '2', 'Houston Texans', 'Washington Redskins'], ['2010', '2', 'Miami Dolphins', 'Minnesota Vikings'], ['2010', '2', 'Chicago Bears', 'Dallas Cowboys'], ['2010', '2', 'New York Jets', 'New England Patriots'], ['2010', '2', 'Cincinnati Bengals', 'Baltimore Ravens'], ['2010', '2', 'Pittsburgh Steelers', 'Tennessee Titans'], ['2010', '2', 'Tampa Bay Buccaneers', 'Carolina Panthers'], ['2010', '2', 'Green Bay Packers', 'Buffalo Bills'], ['2010', '2', 'Kansas City Chiefs', 'Cleveland Browns'], ['2010', '2', 'Oakland Raiders', 'St. Louis Rams'], ['2010', '2', 'New Orleans Saints', 'San Francisco 49ers'], ['2010', '3', 'St. Louis Rams', 'Washington Redskins'], ['2010', '3', 'Arizona Cardinals', 'Oakland Raiders'], ['2010', '3', 'Baltimore Ravens', 'Cleveland Browns'], ['2010', '3', 'Indianapolis Colts', 'Denver Broncos'], ['2010', '3', 'Pittsburgh Steelers', 'Tampa Bay Buccaneers'], ['2010', '3', 'Dallas Cowboys', 'Houston Texans'], ['2010', '3', 'New York Jets', 'Miami Dolphins'], ['2010', '3', 'Minnesota Vikings', 'Detroit Lions'], ['2010', '3', 'New England Patriots', 'Buffalo Bills'], ['2010', '3', 'Atlanta Falcons', 'New Orleans Saints'], ['2010', '3', 'Philadelphia Eagles', 'Jacksonville Jaguars'], ['2010', '3', 'Cincinnati Bengals', 'Carolina Panthers'], ['2010', '3', 'Seattle Seahawks', 'San Diego Chargers'], ['2010', '3', 'Tennessee Titans', 'New York Giants'], ['2010', '3', 'Kansas City Chiefs', 'San Francisco 49ers'], ['2010', '3', 'Chicago Bears', 'Green Bay Packers'], ['2010', '4', 'Green Bay Packers', 'Detroit Lions'], ['2010', '4', 'Washington Redskins', 'Philadelphia Eagles'], ['2010', '4', 'Houston Texans', 'Oakland Raiders'], ['2010', '4', 'New Orleans Saints', 'Carolina Panthers'], ['2010', '4', 'St. Louis Rams', 'Seattle Seahawks'], ['2010', '4', 'Jacksonville Jaguars', 'Indianapolis Colts'], ['2010', '4', 'Cleveland Browns', 'Cincinnati Bengals'], ['2010', '4', 'San Diego Chargers', 'Arizona Cardinals'], ['2010', '4', 'Atlanta Falcons', 'San Francisco 49ers'], ['2010', '4', 'Baltimore Ravens', 'Pittsburgh Steelers'], ['2010', '4', 'New York Giants', 'Chicago Bears'], ['2010', '4', 'Denver Broncos', 'Tennessee Titans'], ['2010', '4', 'New York Jets', 'Buffalo Bills'], ['2010', '4', 'New England Patriots', 'Miami Dolphins'], ['2010', '5', 'Tennessee Titans', 'Dallas Cowboys'], ['2010', '5', 'Philadelphia Eagles', 'San Francisco 49ers'], ['2010', '5', 'New York Giants', 'Houston Texans'], ['2010', '5', 'Indianapolis Colts', 'Kansas City Chiefs'], ['2010', '5', 'Baltimore Ravens', 'Denver Broncos'], ['2010', '5', 'Washington Redskins', 'Green Bay Packers'], ['2010', '5', 'Arizona Cardinals', 'New Orleans Saints'], ['2010', '5', 'Detroit Lions', 'St. Louis Rams'], ['2010', '5', 'Oakland Raiders', 'San Diego Chargers'], ['2010', '5', 'Tampa Bay Buccaneers', 'Cincinnati Bengals'], ['2010', '5', 'Jacksonville Jaguars', 'Buffalo Bills'], ['2010', '5', 'Chicago Bears', 'Carolina Panthers'], ['2010', '5', 'Atlanta Falcons', 'Cleveland Browns'], ['2010', '5', 'New York Jets', 'Minnesota Vikings'], ['2010', '6', 'Minnesota Vikings', 'Dallas Cowboys'], ['2010', '6', 'New England Patriots', 'Baltimore Ravens'], ['2010', '6', 'Miami Dolphins', 'Green Bay Packers'], ['2010', '6', 'San Francisco 49ers', 'Oakland Raiders'], ['2010', '6', 'New York Jets', 'Denver Broncos'], ['2010', '6', 'St. Louis Rams', 'San Diego Chargers'], ['2010', '6', 'New Orleans Saints', 'Tampa Bay Buccaneers'], ['2010', '6', 'Houston Texans', 'Kansas City Chiefs'], ['2010', '6', 'Seattle Seahawks', 'Chicago Bears'], ['2010', '6', 'Pittsburgh Steelers', 'Cleveland Browns'], ['2010', '6', 'New York Giants', 'Detroit Lions'], ['2010', '6', 'Philadelphia Eagles', 'Atlanta Falcons'], ['2010', '6', 'Indianapolis Colts', 'Washington Redskins'], ['2010', '6', 'Tennessee Titans', 'Jacksonville Jaguars'], ['2010', '7', 'Carolina Panthers', 'San Francisco 49ers'], ['2010', '7', 'New England Patriots', 'San Diego Chargers'], ['2010', '7', 'Seattle Seahawks', 'Arizona Cardinals'], ['2010', '7', 'Pittsburgh Steelers', 'Miami Dolphins'], ['2010', '7', 'Baltimore Ravens', 'Buffalo Bills'], ['2010', '7', 'Cleveland Browns', 'New Orleans Saints'], ['2010', '7', 'Tennessee Titans', 'Philadelphia Eagles'], ['2010', '7', 'Kansas City Chiefs', 'Jacksonville Jaguars'], ['2010', '7', 'Green Bay Packers', 'Minnesota Vikings'], ['2010', '7', 'Tampa Bay Buccaneers', 'St. Louis Rams'], ['2010', '7', 'Atlanta Falcons', 'Cincinnati Bengals'], ['2010', '7', 'Washington Redskins', 'Chicago Bears'], ['2010', '7', 'Oakland Raiders', 'Denver Broncos'], ['2010', '7', 'New York Giants', 'Dallas Cowboys'], ['2010', '8', 'New England Patriots', 'Minnesota Vikings'], ['2010', '8', 'St. Louis Rams', 'Carolina Panthers'], ['2010', '8', 'Kansas City Chiefs', 'Buffalo Bills'], ['2010', '8', 'Detroit Lions', 'Washington Redskins'], ['2010', '8', 'Tampa Bay Buccaneers', 'Arizona Cardinals'], ['2010', '8', 'Jacksonville Jaguars', 'Dallas Cowboys'], ['2010', '8', 'Miami Dolphins', 'Cincinnati Bengals'], ['2010', '8', 'Green Bay Packers', 'New York Jets'], ['2010', '8', 'San Francisco 49ers', 'Denver Broncos'], ['2010', '8', 'San Diego Chargers', 'Tennessee Titans'], ['2010', '8', 'Oakland Raiders', 'Seattle Seahawks'], ['2010', '8', 'New Orleans Saints', 'Pittsburgh Steelers'], ['2010', '8', 'Indianapolis Colts', 'Houston Texans'], ['2010', '9', 'Philadelphia Eagles', 'Indianapolis Colts'], ['2010', '9', 'Cleveland Browns', 'New England Patriots'], ['2010', '9', 'Atlanta Falcons', 'Tampa Bay Buccaneers'], ['2010', '9', 'New York Giants', 'Seattle Seahawks'], ['2010', '9', 'New York Jets', 'Detroit Lions'], ['2010', '9', 'Green Bay Packers', 'Dallas Cowboys'], ['2010', '9', 'Chicago Bears', 'Buffalo Bills'], ['2010', '9', 'Minnesota Vikings', 'Arizona Cardinals'], ['2010', '9', 'Oakland Raiders', 'Kansas City Chiefs'], ['2010', '9', 'San Diego Chargers', 'Houston Texans'], ['2010', '9', 'Baltimore Ravens', 'Miami Dolphins'], ['2010', '9', 'New Orleans Saints', 'Carolina Panthers'], ['2010', '9', 'Pittsburgh Steelers', 'Cincinnati Bengals'], ['2010', '10', 'Atlanta Falcons', 'Baltimore Ravens'], ['2010', '10', 'Chicago Bears', 'Minnesota Vikings'], ['2010', '10', 'Buffalo Bills', 'Detroit Lions'], ['2010', '10', 'Dallas Cowboys', 'New York Giants'], ['2010', '10', 'Seattle Seahawks', 'Arizona Cardinals'], ['2010', '10', 'Indianapolis Colts', 'Cincinnati Bengals'], ['2010', '10', 'New England Patriots', 'Pittsburgh Steelers'], ['2010', '10', 'Tampa Bay Buccaneers', 'Carolina Panthers'], ['2010', '10', 'Denver Broncos', 'Kansas City Chiefs'], ['2010', '10', 'Jacksonville Jaguars', 'Houston Texans'], ['2010', '10', 'New York Jets', 'Cleveland Browns'], ['2010', '10', 'San Francisco 49ers', 'St. Louis Rams'], ['2010', '10', 'Miami Dolphins', 'Tennessee Titans'], ['2010', '10', 'Philadelphia Eagles', 'Washington Redskins'], ['2010', '11', 'Chicago Bears', 'Miami Dolphins'], ['2010', '11', 'New Orleans Saints', 'Seattle Seahawks'], ['2010', '11', 'Green Bay Packers', 'Minnesota Vikings'], ['2010', '11', 'Tampa Bay Buccaneers', 'San Francisco 49ers'], ['2010', '11', 'Jacksonville Jaguars', 'Cleveland Browns'], ['2010', '11', 'Washington Redskins', 'Tennessee Titans'], ['2010', '11', 'New York Jets', 'Houston Texans'], ['2010', '11', 'Kansas City Chiefs', 'Arizona Cardinals'], ['2010', '11', 'Baltimore Ravens', 'Carolina Panthers'], ['2010', '11', 'Dallas Cowboys', 'Detroit Lions'], ['2010', '11', 'Philadelphia Eagles', 'New York Giants'], ['2010', '11', 'New England Patriots', 'Indianapolis Colts'], ['2010', '11', 'Buffalo Bills', 'Cincinnati Bengals'], ['2010', '11', 'Pittsburgh Steelers', 'Oakland Raiders'], ['2010', '11', 'Atlanta Falcons', 'St. Louis Rams'], ['2010', '11', 'San Diego Chargers', 'Denver Broncos'], ['2010', '12', 'New England Patriots', 'Detroit Lions'], ['2010', '12', 'New York Jets', 'Cincinnati Bengals'], ['2010', '12', 'New Orleans Saints', 'Dallas Cowboys'], ['2010', '12', 'Miami Dolphins', 'Oakland Raiders'], ['2010', '12', 'Minnesota Vikings', 'Washington Redskins'], ['2010', '12', 'New York Giants', 'Jacksonville Jaguars'], ['2010', '12', 'Kansas City Chiefs', 'Seattle Seahawks'], ['2010', '12', 'Atlanta Falcons', 'Green Bay Packers'], ['2010', '12', 'Houston Texans', 'Tennessee Titans'], ['2010', '12', 'St. Louis Rams', 'Denver Broncos'], ['2010', '12', 'San Diego Chargers', 'Indianapolis Colts'], ['2010', '12', 'Baltimore Ravens', 'Tampa Bay Buccaneers'], ['2010', '12', 'Pittsburgh Steelers', 'Buffalo Bills'], ['2010', '12', 'Chicago Bears', 'Philadelphia Eagles'], ['2010', '12', 'Cleveland Browns', 'Carolina Panthers'], ['2010', '12', 'San Francisco 49ers', 'Arizona Cardinals'], ['2010', '13', 'Philadelphia Eagles', 'Houston Texans'], ['2010', '13', 'New York Giants', 'Washington Redskins'], ['2010', '13', 'Seattle Seahawks', 'Carolina Panthers'], ['2010', '13', 'Dallas Cowboys', 'Indianapolis Colts'], ['2010', '13', 'St. Louis Rams', 'Arizona Cardinals'], ['2010', '13', 'New Orleans Saints', 'Cincinnati Bengals'], ['2010', '13', 'Jacksonville Jaguars', 'Tennessee Titans'], ['2010', '13', 'Oakland Raiders', 'San Diego Chargers'], ['2010', '13', 'Kansas City Chiefs', 'Denver Broncos'], ['2010', '13', 'Green Bay Packers', 'San Francisco 49ers'], ['2010', '13', 'Cleveland Browns', 'Miami Dolphins'], ['2010', '13', 'Chicago Bears', 'Detroit Lions'], ['2010', '13', 'Atlanta Falcons', 'Tampa Bay Buccaneers'], ['2010', '13', 'Pittsburgh Steelers', 'Baltimore Ravens'], ['2010', '13', 'Minnesota Vikings', 'Buffalo Bills'], ['2010', '13', 'New England Patriots', 'New York Jets'], ['2010', '14', 'Indianapolis Colts', 'Tennessee Titans'], ['2010', '14', 'Miami Dolphins', 'New York Jets'], ['2010', '14', 'San Francisco 49ers', 'Seattle Seahawks'], ['2010', '14', 'New Orleans Saints', 'St. Louis Rams'], ['2010', '14', 'Jacksonville Jaguars', 'Oakland Raiders'], ['2010', '14', 'Buffalo Bills', 'Cleveland Browns'], ['2010', '14', 'Tampa Bay Buccaneers', 'Washington Redskins'], ['2010', '14', 'Philadelphia Eagles', 'Dallas Cowboys'], ['2010', '14', 'Detroit Lions', 'Green Bay Packers'], ['2010', '14', 'Pittsburgh Steelers', 'Cincinnati Bengals'], ['2010', '14', 'Arizona Cardinals', 'Denver Broncos'], ['2010', '14', 'New England Patriots', 'Chicago Bears'], ['2010', '14', 'San Diego Chargers', 'Kansas City Chiefs'], ['2010', '14', 'Atlanta Falcons', 'Carolina Panthers'], ['2010', '14', 'Baltimore Ravens', 'Houston Texans'], ['2010', '14', 'New York Giants', 'Minnesota Vikings'], ['2010', '15', 'San Diego Chargers', 'San Francisco 49ers'], ['2010', '15', 'Dallas Cowboys', 'Washington Redskins'], ['2010', '15', 'Oakland Raiders', 'Denver Broncos'], ['2010', '15', 'Cincinnati Bengals', 'Cleveland Browns'], ['2010', '15', 'Buffalo Bills', 'Miami Dolphins'], ['2010', '15', 'Indianapolis Colts', 'Jacksonville Jaguars'], ['2010', '15', 'Philadelphia Eagles', 'New York Giants'], ['2010', '15', 'Carolina Panthers', 'Arizona Cardinals'], ['2010', '15', 'New York Jets', 'Pittsburgh Steelers'], ['2010', '15', 'Tennessee Titans', 'Houston Texans'], ['2010', '15', 'Kansas City Chiefs', 'St. Louis Rams'], ['2010', '15', 'Baltimore Ravens', 'New Orleans Saints'], ['2010', '15', 'Detroit Lions', 'Tampa Bay Buccaneers'], ['2010', '15', 'New England Patriots', 'Green Bay Packers'], ['2010', '15', 'Atlanta Falcons', 'Seattle Seahawks'], ['2010', '15', 'Chicago Bears', 'Minnesota Vikings'], ['2010', '16', 'Pittsburgh Steelers', 'Carolina Panthers'], ['2010', '16', 'Arizona Cardinals', 'Dallas Cowboys'], ['2010', '16', 'New England Patriots', 'Buffalo Bills'], ['2010', '16', 'Chicago Bears', 'New York Jets'], ['2010', '16', 'St. Louis Rams', 'San Francisco 49ers'], ['2010', '16', 'Denver Broncos', 'Houston Texans'], ['2010', '16', 'Washington Redskins', 'Jacksonville Jaguars'], ['2010', '16', 'Cincinnati Bengals', 'San Diego Chargers'], ['2010', '16', 'Indianapolis Colts', 'Oakland Raiders'], ['2010', '16', 'Tampa Bay Buccaneers', 'Seattle Seahawks'], ['2010', '16', 'Green Bay Packers', 'New York Giants'], ['2010', '16', 'Kansas City Chiefs', 'Tennessee Titans'], ['2010', '16', 'Detroit Lions', 'Miami Dolphins'], ['2010', '16', 'Baltimore Ravens', 'Cleveland Browns'], ['2010', '16', 'New Orleans Saints', 'Atlanta Falcons'], ['2010', '16', 'Minnesota Vikings', 'Philadelphia Eagles'], ['2010', '17', 'Green Bay Packers', 'Chicago Bears'], ['2010', '17', 'Atlanta Falcons', 'Carolina Panthers'], ['2010', '17', 'New York Jets', 'Buffalo Bills'], ['2010', '17', 'Seattle Seahawks', 'St. Louis Rams'], ['2010', '17', 'Houston Texans', 'Jacksonville Jaguars'], ['2010', '17', 'Detroit Lions', 'Minnesota Vikings'], ['2010', '17', 'Tampa Bay Buccaneers', 'New Orleans Saints'], ['2010', '17', 'San Diego Chargers', 'Denver Broncos'], ['2010', '17', 'Oakland Raiders', 'Kansas City Chiefs'], ['2010', '17', 'Dallas Cowboys', 'Philadelphia Eagles'], ['2010', '17', 'San Francisco 49ers', 'Arizona Cardinals'], ['2010', '17', 'New York Giants', 'Washington Redskins'], ['2010', '17', 'New England Patriots', 'Miami Dolphins'], ['2010', '17', 'Indianapolis Colts', 'Tennessee Titans'], ['2010', '17', 'Pittsburgh Steelers', 'Cleveland Browns'], ['2010', '17', 'Baltimore Ravens', 'Cincinnati Bengals'], ['2011', '1', 'Green Bay Packers', 'New Orleans Saints'], ['2011', '1', 'Cincinnati Bengals', 'Cleveland Browns'], ['2011', '1', 'Arizona Cardinals', 'Carolina Panthers'], ['2011', '1', 'Philadelphia Eagles', 'St. Louis Rams'], ['2011', '1', 'San Francisco 49ers', 'Seattle Seahawks'], ['2011', '1', 'Washington Redskins', 'New York Giants'], ['2011', '1', 'New York Jets', 'Dallas Cowboys'], ['2011', '1', 'San Diego Chargers', 'Minnesota Vikings'], ['2011', '1', 'Chicago Bears', 'Atlanta Falcons'], ['2011', '1', 'Houston Texans', 'Indianapolis Colts'], ['2011', '1', 'Baltimore Ravens', 'Pittsburgh Steelers'], ['2011', '1', 'Buffalo Bills', 'Kansas City Chiefs'], ['2011', '1', 'Detroit Lions', 'Tampa Bay Buccaneers'], ['2011', '1', 'Jacksonville Jaguars', 'Tennessee Titans'], ['2011', '1', 'New England Patriots', 'Miami Dolphins'], ['2011', '1', 'Oakland Raiders', 'Denver Broncos'], ['2011', '2', 'Buffalo Bills', 'Oakland Raiders'], ['2011', '2', 'Dallas Cowboys', 'San Francisco 49ers'], ['2011', '2', 'Atlanta Falcons', 'Philadelphia Eagles'], ['2011', '2', 'Pittsburgh Steelers', 'Seattle Seahawks'], ['2011', '2', 'Houston Texans', 'Miami Dolphins'], ['2011', '2', 'New England Patriots', 'San Diego Chargers'], ['2011', '2', 'Green Bay Packers', 'Carolina Panthers'], ['2011', '2', 'New Orleans Saints', 'Chicago Bears'], ['2011', '2', 'New York Jets', 'Jacksonville Jaguars'], ['2011', '2', 'Cleveland Browns', 'Indianapolis Colts'], ['2011', '2', 'Tampa Bay Buccaneers', 'Minnesota Vikings'], ['2011', '2', 'Detroit Lions', 'Kansas City Chiefs'], ['2011', '2', 'Washington Redskins', 'Arizona Cardinals'], ['2011', '2', 'Tennessee Titans', 'Baltimore Ravens'], ['2011', '2', 'Denver Broncos', 'Cincinnati Bengals'], ['2011', '2', 'New York Giants', 'St. Louis Rams'], ['2011', '3', 'Green Bay Packers', 'Chicago Bears'], ['2011', '3', 'Cleveland Browns', 'Miami Dolphins'], ['2011', '3', 'New Orleans Saints', 'Houston Texans'], ['2011', '3', 'San Francisco 49ers', 'Cincinnati Bengals'], ['2011', '3', 'Seattle Seahawks', 'Arizona Cardinals'], ['2011', '3', 'Pittsburgh Steelers', 'Indianapolis Colts'], ['2011', '3', 'San Diego Chargers', 'Kansas City Chiefs'], ['2011', '3', 'Baltimore Ravens', 'St. Louis Rams'], ['2011', '3', 'Tennessee Titans', 'Denver Broncos'], ['2011', '3', 'Tampa Bay Buccaneers', 'Atlanta Falcons'], ['2011', '3', 'Buffalo Bills', 'New England Patriots'], ['2011', '3', 'New York Giants', 'Philadelphia Eagles'], ['2011', '3', 'Oakland Raiders', 'New York Jets'], ['2011', '3', 'Detroit Lions', 'Minnesota Vikings'], ['2011', '3', 'Carolina Panthers', 'Jacksonville Jaguars'], ['2011', '3', 'Dallas Cowboys', 'Washington Redskins'], ['2011', '4', 'New England Patriots', 'Oakland Raiders'], ['2011', '4', 'Green Bay Packers', 'Denver Broncos'], ['2011', '4', 'Chicago Bears', 'Carolina Panthers'], ['2011', '4', 'San Francisco 49ers', 'Philadelphia Eagles'], ['2011', '4', 'Baltimore Ravens', 'New York Jets'], ['2011', '4', 'Tennessee Titans', 'Cleveland Browns'], ['2011', '4', 'Cincinnati Bengals', 'Buffalo Bills'], ['2011', '4', 'Washington Redskins', 'St. Louis Rams'], ['2011', '4', 'Kansas City Chiefs', 'Minnesota Vikings'], ['2011', '4', 'Detroit Lions', 'Dallas Cowboys'], ['2011', '4', 'Houston Texans', 'Pittsburgh Steelers'], ['2011', '4', 'New Orleans Saints', 'Jacksonville Jaguars'], ['2011', '4', 'Atlanta Falcons', 'Seattle Seahawks'], ['2011', '4', 'San Diego Chargers', 'Miami Dolphins'], ['2011', '4', 'New York Giants', 'Arizona Cardinals'], ['2011', '4', 'Tampa Bay Buccaneers', 'Indianapolis Colts'], ['2011', '5', 'Green Bay Packers', 'Atlanta Falcons'], ['2011', '5', 'New Orleans Saints', 'Carolina Panthers'], ['2011', '5', 'Minnesota Vikings', 'Arizona Cardinals'], ['2011', '5', 'Buffalo Bills', 'Philadelphia Eagles'], ['2011', '5', 'Pittsburgh Steelers', 'Tennessee Titans'], ['2011', '5', 'Cincinnati Bengals', 'Jacksonville Jaguars'], ['2011', '5', 'New England Patriots', 'New York Jets'], ['2011', '5', 'San Francisco 49ers', 'Tampa Bay Buccaneers'], ['2011', '5', 'San Diego Chargers', 'Denver Broncos'], ['2011', '5', 'Oakland Raiders', 'Houston Texans'], ['2011', '5', 'Seattle Seahawks', 'New York Giants'], ['2011', '5', 'Kansas City Chiefs', 'Indianapolis Colts'], ['2011', '5', 'Detroit Lions', 'Chicago Bears'], ['2011', '6', 'New England Patriots', 'Dallas Cowboys'], ['2011', '6', 'Oakland Raiders', 'Cleveland Browns'], ['2011', '6', 'Philadelphia Eagles', 'Washington Redskins'], ['2011', '6', 'Baltimore Ravens', 'Houston Texans'], ['2011', '6', 'Cincinnati Bengals', 'Indianapolis Colts'], ['2011', '6', 'Tampa Bay Buccaneers', 'New Orleans Saints'], ['2011', '6', 'Chicago Bears', 'Minnesota Vikings'], ['2011', '6', 'New York Giants', 'Buffalo Bills'], ['2011', '6', 'Green Bay Packers', 'St. Louis Rams'], ['2011', '6', 'Pittsburgh Steelers', 'Jacksonville Jaguars'], ['2011', '6', 'Atlanta Falcons', 'Carolina Panthers'], ['2011', '6', 'San Francisco 49ers', 'Detroit Lions'], ['2011', '6', 'New York Jets', 'Miami Dolphins'], ['2011', '7', 'Denver Broncos', 'Miami Dolphins'], ['2011', '7', 'Cleveland Browns', 'Seattle Seahawks'], ['2011', '7', 'Pittsburgh Steelers', 'Arizona Cardinals'], ['2011', '7', 'Kansas City Chiefs', 'Oakland Raiders'], ['2011', '7', 'Dallas Cowboys', 'St. Louis Rams'], ['2011', '7', 'New York Jets', 'San Diego Chargers'], ['2011', '7', 'Houston Texans', 'Tennessee Titans'], ['2011', '7', 'Chicago Bears', 'Tampa Bay Buccaneers'], ['2011', '7', 'New Orleans Saints', 'Indianapolis Colts'], ['2011', '7', 'Green Bay Packers', 'Minnesota Vikings'], ['2011', '7', 'Atlanta Falcons', 'Detroit Lions'], ['2011', '7', 'Carolina Panthers', 'Washington Redskins'], ['2011', '7', 'Jacksonville Jaguars', 'Baltimore Ravens'], ['2011', '8', 'San Francisco 49ers', 'Cleveland Browns'], ['2011', '8', 'New York Giants', 'Miami Dolphins'], ['2011', '8', 'Detroit Lions', 'Denver Broncos'], ['2011', '8', 'Pittsburgh Steelers', 'New England Patriots'], ['2011', '8', 'Philadelphia Eagles', 'Dallas Cowboys'], ['2011', '8', 'Baltimore Ravens', 'Arizona Cardinals'], ['2011', '8', 'Buffalo Bills', 'Washington Redskins'], ['2011', '8', 'Cincinnati Bengals', 'Seattle Seahawks'], ['2011', '8', 'Tennessee Titans', 'Indianapolis Colts'], ['2011', '8', 'St. Louis Rams', 'New Orleans Saints'], ['2011', '8', 'Minnesota Vikings', 'Carolina Panthers'], ['2011', '8', 'Houston Texans', 'Jacksonville Jaguars'], ['2011', '8', 'Kansas City Chiefs', 'San Diego Chargers'], ['2011', '9', 'Denver Broncos', 'Oakland Raiders'], ['2011', '9', 'San Francisco 49ers', 'Washington Redskins'], ['2011', '9', 'New York Jets', 'Buffalo Bills'], ['2011', '9', 'Houston Texans', 'Cleveland Browns'], ['2011', '9', 'Arizona Cardinals', 'St. Louis Rams'], ['2011', '9', 'New York Giants', 'New England Patriots'], ['2011', '9', 'Miami Dolphins', 'Kansas City Chiefs'], ['2011', '9', 'Dallas Cowboys', 'Seattle Seahawks'], ['2011', '9', 'Atlanta Falcons', 'Indianapolis Colts'], ['2011', '9', 'Green Bay Packers', 'San Diego Chargers'], ['2011', '9', 'Cincinnati Bengals', 'Tennessee Titans'], ['2011', '9', 'Baltimore Ravens', 'Pittsburgh Steelers'], ['2011', '9', 'New Orleans Saints', 'Tampa Bay Buccaneers'], ['2011', '9', 'Chicago Bears', 'Philadelphia Eagles'], ['2011', '10', 'Oakland Raiders', 'San Diego Chargers'], ['2011', '10', 'Miami Dolphins', 'Washington Redskins'], ['2011', '10', 'Denver Broncos', 'Kansas City Chiefs'], ['2011', '10', 'New England Patriots', 'New York Jets'], ['2011', '10', 'New Orleans Saints', 'Atlanta Falcons'], ['2011', '10', 'Dallas Cowboys', 'Buffalo Bills'], ['2011', '10', 'Arizona Cardinals', 'Philadelphia Eagles'], ['2011', '10', 'St. Louis Rams', 'Cleveland Browns'], ['2011', '10', 'San Francisco 49ers', 'New York Giants'], ['2011', '10', 'Chicago Bears', 'Detroit Lions'], ['2011', '10', 'Seattle Seahawks', 'Baltimore Ravens'], ['2011', '10', 'Tennessee Titans', 'Carolina Panthers'], ['2011', '10', 'Pittsburgh Steelers', 'Cincinnati Bengals'], ['2011', '10', 'Houston Texans', 'Tampa Bay Buccaneers'], ['2011', '10', 'Jacksonville Jaguars', 'Indianapolis Colts'], ['2011', '10', 'Green Bay Packers', 'Minnesota Vikings'], ['2011', '11', 'Denver Broncos', 'New York Jets'], ['2011', '11', 'Miami Dolphins', 'Buffalo Bills'], ['2011', '11', 'Oakland Raiders', 'Minnesota Vikings'], ['2011', '11', 'Seattle Seahawks', 'St. Louis Rams'], ['2011', '11', 'Dallas Cowboys', 'Washington Redskins'], ['2011', '11', 'San Francisco 49ers', 'Arizona Cardinals'], ['2011', '11', 'Detroit Lions', 'Carolina Panthers'], ['2011', '11', 'Chicago Bears', 'San Diego Chargers'], ['2011', '11', 'Atlanta Falcons', 'Tennessee Titans'], ['2011', '11', 'Baltimore Ravens', 'Cincinnati Bengals'], ['2011', '11', 'Green Bay Packers', 'Tampa Bay Buccaneers'], ['2011', '11', 'Philadelphia Eagles', 'New York Giants'], ['2011', '11', 'Cleveland Browns', 'Jacksonville Jaguars'], ['2011', '11', 'New England Patriots', 'Kansas City Chiefs'], ['2011', '12', 'Green Bay Packers', 'Detroit Lions'], ['2011', '12', 'Dallas Cowboys', 'Miami Dolphins'], ['2011', '12', 'Baltimore Ravens', 'San Francisco 49ers'], ['2011', '12', 'Tennessee Titans', 'Tampa Bay Buccaneers'], ['2011', '12', 'Denver Broncos', 'San Diego Chargers'], ['2011', '12', 'Houston Texans', 'Jacksonville Jaguars'], ['2011', '12', 'Atlanta Falcons', 'Minnesota Vikings'], ['2011', '12', 'Oakland Raiders', 'Chicago Bears'], ['2011', '12', 'Washington Redskins', 'Seattle Seahawks'], ['2011', '12', 'New England Patriots', 'Philadelphia Eagles'], ['2011', '12', 'Pittsburgh Steelers', 'Kansas City Chiefs'], ['2011', '12', 'Arizona Cardinals', 'St. Louis Rams'], ['2011', '12', 'New York Jets', 'Buffalo Bills'], ['2011', '12', 'Carolina Panthers', 'Indianapolis Colts'], ['2011', '12', 'Cincinnati Bengals', 'Cleveland Browns'], ['2011', '12', 'New Orleans Saints', 'New York Giants'], ['2011', '13', 'Seattle Seahawks', 'Philadelphia Eagles'], ['2011', '13', 'Houston Texans', 'Atlanta Falcons'], ['2011', '13', 'Tennessee Titans', 'Buffalo Bills'], ['2011', '13', 'Baltimore Ravens', 'Cleveland Browns'], ['2011', '13', 'San Francisco 49ers', 'St. Louis Rams'], ['2011', '13', 'New Orleans Saints', 'Detroit Lions'], ['2011', '13', 'Arizona Cardinals', 'Dallas Cowboys'], ['2011', '13', 'Pittsburgh Steelers', 'Cincinnati Bengals'], ['2011', '13', 'New York Jets', 'Washington Redskins'], ['2011', '13', 'Carolina Panthers', 'Tampa Bay Buccaneers'], ['2011', '13', 'Denver Broncos', 'Minnesota Vikings'], ['2011', '13', 'Miami Dolphins', 'Oakland Raiders'], ['2011', '13', 'Green Bay Packers', 'New York Giants'], ['2011', '13', 'New England Patriots', 'Indianapolis Colts'], ['2011', '13', 'Kansas City Chiefs', 'Chicago Bears'], ['2011', '13', 'San Diego Chargers', 'Jacksonville Jaguars'], ['2011', '14', 'Pittsburgh Steelers', 'Cleveland Browns'], ['2011', '14', 'New York Giants', 'Dallas Cowboys'], ['2011', '14', 'Denver Broncos', 'Chicago Bears'], ['2011', '14', 'Jacksonville Jaguars', 'Tampa Bay Buccaneers'], ['2011', '14', 'Arizona Cardinals', 'San Francisco 49ers'], ['2011', '14', 'Green Bay Packers', 'Oakland Raiders'], ['2011', '14', 'Houston Texans', 'Cincinnati Bengals'], ['2011', '14', 'Baltimore Ravens', 'Indianapolis Colts'], ['2011', '14', 'New Orleans Saints', 'Tennessee Titans'], ['2011', '14', 'Atlanta Falcons', 'Carolina Panthers'], ['2011', '14', 'Detroit Lions', 'Minnesota Vikings'], ['2011', '14', 'New York Jets', 'Kansas City Chiefs'], ['2011', '14', 'Philadelphia Eagles', 'Miami Dolphins'], ['2011', '14', 'New England Patriots', 'Washington Redskins'], ['2011', '14', 'San Diego Chargers', 'Buffalo Bills'], ['2011', '14', 'Seattle Seahawks', 'St. Louis Rams'], ['2011', '15', 'Atlanta Falcons', 'Jacksonville Jaguars'], ['2011', '15', 'Dallas Cowboys', 'Tampa Bay Buccaneers'], ['2011', '15', 'Cincinnati Bengals', 'St. Louis Rams'], ['2011', '15', 'San Diego Chargers', 'Baltimore Ravens'], ['2011', '15', 'Miami Dolphins', 'Buffalo Bills'], ['2011', '15', 'New Orleans Saints', 'Minnesota Vikings'], ['2011', '15', 'Carolina Panthers', 'Houston Texans'], ['2011', '15', 'Washington Redskins', 'New York Giants'], ['2011', '15', 'New England Patriots', 'Denver Broncos'], ['2011', '15', 'Arizona Cardinals', 'Cleveland Browns'], ['2011', '15', 'Indianapolis Colts', 'Tennessee Titans'], ['2011', '15', 'Philadelphia Eagles', 'New York Jets'], ['2011', '15', 'Seattle Seahawks', 'Chicago Bears'], ['2011', '15', 'Kansas City Chiefs', 'Green Bay Packers'], ['2011', '15', 'Detroit Lions', 'Oakland Raiders'], ['2011', '15', 'San Francisco 49ers', 'Pittsburgh Steelers'], ['2011', '16', 'Indianapolis Colts', 'Houston Texans'], ['2011', '16', 'Oakland Raiders', 'Kansas City Chiefs'], ['2011', '16', 'Tennessee Titans', 'Jacksonville Jaguars'], ['2011', '16', 'Cincinnati Bengals', 'Arizona Cardinals'], ['2011', '16', 'Pittsburgh Steelers', 'St. Louis Rams'], ['2011', '16', 'Buffalo Bills', 'Denver Broncos'], ['2011', '16', 'New England Patriots', 'Miami Dolphins'], ['2011', '16', 'Baltimore Ravens', 'Cleveland Browns'], ['2011', '16', 'San Francisco 49ers', 'Seattle Seahawks'], ['2011', '16', 'New York Giants', 'New York Jets'], ['2011', '16', 'Detroit Lions', 'San Diego Chargers'], ['2011', '16', 'Minnesota Vikings', 'Washington Redskins'], ['2011', '16', 'Carolina Panthers', 'Tampa Bay Buccaneers'], ['2011', '16', 'Philadelphia Eagles', 'Dallas Cowboys'], ['2011', '16', 'Green Bay Packers', 'Chicago Bears'], ['2011', '16', 'New Orleans Saints', 'Atlanta Falcons'], ['2011', '17', 'Baltimore Ravens', 'Cincinnati Bengals'], ['2011', '17', 'Atlanta Falcons', 'Tampa Bay Buccaneers'], ['2011', '17', 'Arizona Cardinals', 'Seattle Seahawks'], ['2011', '17', 'Pittsburgh Steelers', 'Cleveland Browns'], ['2011', '17', 'Green Bay Packers', 'Detroit Lions'], ['2011', '17', 'New York Giants', 'Dallas Cowboys'], ['2011', '17', 'New Orleans Saints', 'Carolina Panthers'], ['2011', '17', 'Philadelphia Eagles', 'Washington Redskins'], ['2011', '17', 'Miami Dolphins', 'New York Jets'], ['2011', '17', 'Chicago Bears', 'Minnesota Vikings'], ['2011', '17', 'San Francisco 49ers', 'St. Louis Rams'], ['2011', '17', 'New England Patriots', 'Buffalo Bills'], ['2011', '17', 'Kansas City Chiefs', 'Denver Broncos'], ['2011', '17', 'Tennessee Titans', 'Houston Texans'], ['2011', '17', 'San Diego Chargers', 'Oakland Raiders'], ['2011', '17', 'Jacksonville Jaguars', 'Indianapolis Colts'], ['2012', '1', 'Dallas Cowboys', 'New York Giants'], ['2012', '1', 'Philadelphia Eagles', 'Cleveland Browns'], ['2012', '1', 'New England Patriots', 'Tennessee Titans'], ['2012', '1', 'Denver Broncos', 'Pittsburgh Steelers'], ['2012', '1', 'San Francisco 49ers', 'Green Bay Packers'], ['2012', '1', 'Arizona Cardinals', 'Seattle Seahawks'], ['2012', '1', 'Washington Redskins', 'New Orleans Saints'], ['2012', '1', 'Chicago Bears', 'Indianapolis Colts'], ['2012', '1', 'Atlanta Falcons', 'Kansas City Chiefs'], ['2012', '1', 'Houston Texans', 'Miami Dolphins'], ['2012', '1', 'Detroit Lions', 'St. Louis Rams'], ['2012', '1', 'Tampa Bay Buccaneers', 'Carolina Panthers'], ['2012', '1', 'Minnesota Vikings', 'Jacksonville Jaguars'], ['2012', '1', 'New York Jets', 'Buffalo Bills'], ['2012', '1', 'Baltimore Ravens', 'Cincinnati Bengals'], ['2012', '1', 'San Diego Chargers', 'Oakland Raiders'], ['2012', '2', 'Green Bay Packers', 'Chicago Bears'], ['2012', '2', 'New York Giants', 'Tampa Bay Buccaneers'], ['2012', '2', 'Miami Dolphins', 'Oakland Raiders'], ['2012', '2', 'Carolina Panthers', 'New Orleans Saints'], ['2012', '2', 'Seattle Seahawks', 'Dallas Cowboys'], ['2012', '2', 'Buffalo Bills', 'Kansas City Chiefs'], ['2012', '2', 'Cincinnati Bengals', 'Cleveland Browns'], ['2012', '2', 'Arizona Cardinals', 'New England Patriots'], ['2012', '2', 'Houston Texans', 'Jacksonville Jaguars'], ['2012', '2', 'Philadelphia Eagles', 'Baltimore Ravens'], ['2012', '2', 'Indianapolis Colts', 'Minnesota Vikings'], ['2012', '2', 'Pittsburgh Steelers', 'New York Jets'], ['2012', '2', 'St. Louis Rams', 'Washington Redskins'], ['2012', '2', 'San Diego Chargers', 'Tennessee Titans'], ['2012', '2', 'San Francisco 49ers', 'Detroit Lions'], ['2012', '2', 'Atlanta Falcons', 'Denver Broncos'], ['2012', '3', 'New York Giants', 'Carolina Panthers'], ['2012', '3', 'Oakland Raiders', 'Pittsburgh Steelers'], ['2012', '3', 'Chicago Bears', 'St. Louis Rams'], ['2012', '3', 'Jacksonville Jaguars', 'Indianapolis Colts'], ['2012', '3', 'Tennessee Titans', 'Detroit Lions'], ['2012', '3', 'Minnesota Vikings', 'San Francisco 49ers'], ['2012', '3', 'Atlanta Falcons', 'San Diego Chargers'], ['2012', '3', 'Baltimore Ravens', 'New England Patriots'], ['2012', '3', 'New York Jets', 'Miami Dolphins'], ['2012', '3', 'Arizona Cardinals', 'Philadelphia Eagles'], ['2012', '3', 'Cincinnati Bengals', 'Washington Redskins'], ['2012', '3', 'Houston Texans', 'Denver Broncos'], ['2012', '3', 'Dallas Cowboys', 'Tampa Bay Buccaneers'], ['2012', '3', 'Kansas City Chiefs', 'New Orleans Saints'], ['2012', '3', 'Buffalo Bills', 'Cleveland Browns'], ['2012', '3', 'Seattle Seahawks', 'Green Bay Packers'], ['2012', '4', 'Baltimore Ravens', 'Cleveland Browns'], ['2012', '4', 'St. Louis Rams', 'Seattle Seahawks'], ['2012', '4', 'Cincinnati Bengals', 'Jacksonville Jaguars'], ['2012', '4', 'Minnesota Vikings', 'Detroit Lions'], ['2012', '4', 'Houston Texans', 'Tennessee Titans'], ['2012', '4', 'Washington Redskins', 'Tampa Bay Buccaneers'], ['2012', '4', 'San Diego Chargers', 'Kansas City Chiefs'], ['2012', '4', 'San Francisco 49ers', 'New York Jets'], ['2012', '4', 'Arizona Cardinals', 'Miami Dolphins'], ['2012', '4', 'Philadelphia Eagles', 'New York Giants'], ['2012', '4', 'Atlanta Falcons', 'Carolina Panthers'], ['2012', '4', 'Green Bay Packers', 'New Orleans Saints'], ['2012', '4', 'Denver Broncos', 'Oakland Raiders'], ['2012', '4', 'New England Patriots', 'Buffalo Bills'], ['2012', '4', 'Chicago Bears', 'Dallas Cowboys'], ['2012', '5', 'St. Louis Rams', 'Arizona Cardinals'], ['2012', '5', 'Indianapolis Colts', 'Green Bay Packers'], ['2012', '5', 'Pittsburgh Steelers', 'Philadelphia Eagles'], ['2012', '5', 'New Orleans Saints', 'San Diego Chargers'], ['2012', '5', 'New England Patriots', 'Denver Broncos'], ['2012', '5', 'San Francisco 49ers', 'Buffalo Bills'], ['2012', '5', 'Minnesota Vikings', 'Tennessee Titans'], ['2012', '5', 'Chicago Bears', 'Jacksonville Jaguars'], ['2012', '5', 'Atlanta Falcons', 'Washington Redskins'], ['2012', '5', 'Miami Dolphins', 'Cincinnati Bengals'], ['2012', '5', 'Baltimore Ravens', 'Kansas City Chiefs'], ['2012', '5', 'New York Giants', 'Cleveland Browns'], ['2012', '5', 'Seattle Seahawks', 'Carolina Panthers'], ['2012', '5', 'Houston Texans', 'New York Jets'], ['2012', '6', 'Tennessee Titans', 'Pittsburgh Steelers'], ['2012', '6', 'Baltimore Ravens', 'Dallas Cowboys'], ['2012', '6', 'New York Jets', 'Indianapolis Colts'], ['2012', '6', 'Detroit Lions', 'Philadelphia Eagles'], ['2012', '6', 'Green Bay Packers', 'Houston Texans'], ['2012', '6', 'New York Giants', 'San Francisco 49ers'], ['2012', '6', 'Tampa Bay Buccaneers', 'Kansas City Chiefs'], ['2012', '6', 'Seattle Seahawks', 'New England Patriots'], ['2012', '6', 'Buffalo Bills', 'Arizona Cardinals'], ['2012', '6', 'Atlanta Falcons', 'Oakland Raiders'], ['2012', '6', 'Miami Dolphins', 'St. Louis Rams'], ['2012', '6', 'Cleveland Browns', 'Cincinnati Bengals'], ['2012', '6', 'Washington Redskins', 'Minnesota Vikings'], ['2012', '6', 'Denver Broncos', 'San Diego Chargers'], ['2012', '7', 'San Francisco 49ers', 'Seattle Seahawks'], ['2012', '7', 'Dallas Cowboys', 'Carolina Panthers'], ['2012', '7', 'Oakland Raiders', 'Jacksonville Jaguars'], ['2012', '7', 'New Orleans Saints', 'Tampa Bay Buccaneers'], ['2012', '7', 'Houston Texans', 'Baltimore Ravens'], ['2012', '7', 'New England Patriots', 'New York Jets'], ['2012', '7', 'Pittsburgh Steelers', 'Cincinnati Bengals'], ['2012', '7', 'Green Bay Packers', 'St. Louis Rams'], ['2012', '7', 'Indianapolis Colts', 'Cleveland Browns'], ['2012', '7', 'Tennessee Titans', 'Buffalo Bills'], ['2012', '7', 'New York Giants', 'Washington Redskins'], ['2012', '7', 'Minnesota Vikings', 'Arizona Cardinals'], ['2012', '7', 'Chicago Bears', 'Detroit Lions'], ['2012', '8', 'Tampa Bay Buccaneers', 'Minnesota Vikings'], ['2012', '8', 'Miami Dolphins', 'New York Jets'], ['2012', '8', 'Detroit Lions', 'Seattle Seahawks'], ['2012', '8', 'New York Giants', 'Dallas Cowboys'], ['2012', '8', 'Denver Broncos', 'New Orleans Saints'], ['2012', '8', 'Indianapolis Colts', 'Tennessee Titans'], ['2012', '8', 'Chicago Bears', 'Carolina Panthers'], ['2012', '8', 'Pittsburgh Steelers', 'Washington Redskins'], ['2012', '8', 'Oakland Raiders', 'Kansas City Chiefs'], ['2012', '8', 'Atlanta Falcons', 'Philadelphia Eagles'], ['2012', '8', 'Green Bay Packers', 'Jacksonville Jaguars'], ['2012', '8', 'New England Patriots', 'St. Louis Rams'], ['2012', '8', 'Cleveland Browns', 'San Diego Chargers'], ['2012', '8', 'San Francisco 49ers', 'Arizona Cardinals'], ['2012', '9', 'San Diego Chargers', 'Kansas City Chiefs'], ['2012', '9', 'Denver Broncos', 'Cincinnati Bengals'], ['2012', '9', 'Carolina Panthers', 'Washington Redskins'], ['2012', '9', 'Indianapolis Colts', 'Miami Dolphins'], ['2012', '9', 'Houston Texans', 'Buffalo Bills'], ['2012', '9', 'Chicago Bears', 'Tennessee Titans'], ['2012', '9', 'Detroit Lions', 'Jacksonville Jaguars'], ['2012', '9', 'Atlanta Falcons', 'Dallas Cowboys'], ['2012', '9', 'Tampa Bay Buccaneers', 'Oakland Raiders'], ['2012', '9', 'Baltimore Ravens', 'Cleveland Browns'], ['2012', '9', 'Seattle Seahawks', 'Minnesota Vikings'], ['2012', '9', 'Green Bay Packers', 'Arizona Cardinals'], ['2012', '9', 'Pittsburgh Steelers', 'New York Giants'], ['2012', '9', 'New Orleans Saints', 'Philadelphia Eagles'], ['2012', '10', 'Indianapolis Colts', 'Jacksonville Jaguars'], ['2012', '10', 'Houston Texans', 'Chicago Bears'], ['2012', '10', 'Baltimore Ravens', 'Oakland Raiders'], ['2012', '10', 'New England Patriots', 'Buffalo Bills'], ['2012', '10', 'Cincinnati Bengals', 'New York Giants'], ['2012', '10', 'Dallas Cowboys', 'Philadelphia Eagles'], ['2012', '10', 'San Francisco 49ers', 'St. Louis Rams'], ['2012', '10', 'New Orleans Saints', 'Atlanta Falcons'], ['2012', '10', 'Seattle Seahawks', 'New York Jets'], ['2012', '10', 'Tampa Bay Buccaneers', 'San Diego Chargers'], ['2012', '10', 'Denver Broncos', 'Carolina Panthers'], ['2012', '10', 'Minnesota Vikings', 'Detroit Lions'], ['2012', '10', 'Tennessee Titans', 'Miami Dolphins'], ['2012', '10', 'Pittsburgh Steelers', 'Kansas City Chiefs'], ['2012', '11', 'Buffalo Bills', 'Miami Dolphins'], ['2012', '11', 'New York Jets', 'St. Louis Rams'], ['2012', '11', 'Tampa Bay Buccaneers', 'Carolina Panthers'], ['2012', '11', 'Dallas Cowboys', 'Cleveland Browns'], ['2012', '11', 'New Orleans Saints', 'Oakland Raiders'], ['2012', '11', 'New England Patriots', 'Indianapolis Colts'], ['2012', '11', 'Cincinnati Bengals', 'Kansas City Chiefs'], ['2012', '11', 'Baltimore Ravens', 'Pittsburgh Steelers'], ['2012', '11', 'Green Bay Packers', 'Detroit Lions'], ['2012', '11', 'Denver Broncos', 'San Diego Chargers'], ['2012', '11', 'Houston Texans', 'Jacksonville Jaguars'], ['2012', '11', 'Atlanta Falcons', 'Arizona Cardinals'], ['2012', '11', 'Washington Redskins', 'Philadelphia Eagles'], ['2012', '11', 'San Francisco 49ers', 'Chicago Bears'], ['2012', '12', 'Washington Redskins', 'Dallas Cowboys'], ['2012', '12', 'Houston Texans', 'Detroit Lions'], ['2012', '12', 'New England Patriots', 'New York Jets'], ['2012', '12', 'Indianapolis Colts', 'Buffalo Bills'], ['2012', '12', 'Denver Broncos', 'Kansas City Chiefs'], ['2012', '12', 'Cleveland Browns', 'Pittsburgh Steelers'], ['2012', '12', 'St. Louis Rams', 'Arizona Cardinals'], ['2012', '12', 'Baltimore Ravens', 'San Diego Chargers'], ['2012', '12', 'Atlanta Falcons', 'Tampa Bay Buccaneers'], ['2012', '12', 'Miami Dolphins', 'Seattle Seahawks'], ['2012', '12', 'Chicago Bears', 'Minnesota Vikings'], ['2012', '12', 'San Francisco 49ers', 'New Orleans Saints'], ['2012', '12', 'Cincinnati Bengals', 'Oakland Raiders'], ['2012', '12', 'New York Giants', 'Green Bay Packers'], ['2012', '12', 'Jacksonville Jaguars', 'Tennessee Titans'], ['2012', '12', 'Carolina Panthers', 'Philadelphia Eagles'], ['2012', '13', 'Atlanta Falcons', 'New Orleans Saints'], ['2012', '13', 'Pittsburgh Steelers', 'Baltimore Ravens'], ['2012', '13', 'New England Patriots', 'Miami Dolphins'], ['2012', '13', 'Dallas Cowboys', 'Philadelphia Eagles'], ['2012', '13', 'Denver Broncos', 'Tampa Bay Buccaneers'], ['2012', '13', 'Cleveland Browns', 'Oakland Raiders'], ['2012', '13', 'St. Louis Rams', 'San Francisco 49ers'], ['2012', '13', 'Cincinnati Bengals', 'San Diego Chargers'], ['2012', '13', 'Seattle Seahawks', 'Chicago Bears'], ['2012', '13', 'Houston Texans', 'Tennessee Titans'], ['2012', '13', 'Green Bay Packers', 'Minnesota Vikings'], ['2012', '13', 'New York Jets', 'Arizona Cardinals'], ['2012', '13', 'Indianapolis Colts', 'Detroit Lions'], ['2012', '13', 'Buffalo Bills', 'Jacksonville Jaguars'], ['2012', '13', 'Kansas City Chiefs', 'Carolina Panthers'], ['2012', '13', 'Washington Redskins', 'New York Giants'], ['2012', '14', 'Denver Broncos', 'Oakland Raiders'], ['2012', '14', 'Cleveland Browns', 'Kansas City Chiefs'], ['2012', '14', 'San Francisco 49ers', 'Miami Dolphins'], ['2012', '14', 'San Diego Chargers', 'Pittsburgh Steelers'], ['2012', '14', 'Green Bay Packers', 'Detroit Lions'], ['2012', '14', 'Philadelphia Eagles', 'Tampa Bay Buccaneers'], ['2012', '14', 'St. Louis Rams', 'Buffalo Bills'], ['2012', '14', 'Carolina Panthers', 'Atlanta Falcons'], ['2012', '14', 'Indianapolis Colts', 'Tennessee Titans'], ['2012', '14', 'New York Jets', 'Jacksonville Jaguars'], ['2012', '14', 'New York Giants', 'New Orleans Saints'], ['2012', '14', 'Seattle Seahawks', 'Arizona Cardinals'], ['2012', '14', 'Washington Redskins', 'Baltimore Ravens'], ['2012', '14', 'Dallas Cowboys', 'Cincinnati Bengals'], ['2012', '14', 'Minnesota Vikings', 'Chicago Bears'], ['2012', '14', 'New England Patriots', 'Houston Texans'], ['2012', '15', 'Cincinnati Bengals', 'Philadelphia Eagles'], ['2012', '15', 'Seattle Seahawks', 'Buffalo Bills'], ['2012', '15', 'Atlanta Falcons', 'New York Giants'], ['2012', '15', 'Miami Dolphins', 'Jacksonville Jaguars'], ['2012', '15', 'Arizona Cardinals', 'Detroit Lions'], ['2012', '15', 'New Orleans Saints', 'Tampa Bay Buccaneers'], ['2012', '15', 'Dallas Cowboys', 'Pittsburgh Steelers'], ['2012', '15', 'Minnesota Vikings', 'St. Louis Rams'], ['2012', '15', 'Denver Broncos', 'Baltimore Ravens'], ['2012', '15', 'Washington Redskins', 'Cleveland Browns'], ['2012', '15', 'Houston Texans', 'Indianapolis Colts'], ['2012', '15', 'San Francisco 49ers', 'New England Patriots'], ['2012', '15', 'Green Bay Packers', 'Chicago Bears'], ['2012', '15', 'Oakland Raiders', 'Kansas City Chiefs'], ['2012', '15', 'Carolina Panthers', 'San Diego Chargers'], ['2012', '15', 'Tennessee Titans', 'New York Jets'], ['2012', '16', 'Atlanta Falcons', 'Detroit Lions'], ['2012', '16', 'Chicago Bears', 'Arizona Cardinals'], ['2012', '16', 'Baltimore Ravens', 'New York Giants'], ['2012', '16', 'Green Bay Packers', 'Tennessee Titans'], ['2012', '16', 'Denver Broncos', 'Cleveland Browns'], ['2012', '16', 'Washington Redskins', 'Philadelphia Eagles'], ['2012', '16', 'New England Patriots', 'Jacksonville Jaguars'], ['2012', '16', 'Carolina Panthers', 'Oakland Raiders'], ['2012', '16', 'San Diego Chargers', 'New York Jets'], ['2012', '16', 'Seattle Seahawks', 'San Francisco 49ers'], ['2012', '16', 'New Orleans Saints', 'Dallas Cowboys'], ['2012', '16', 'Miami Dolphins', 'Buffalo Bills'], ['2012', '16', 'Minnesota Vikings', 'Houston Texans'], ['2012', '16', 'Cincinnati Bengals', 'Pittsburgh Steelers'], ['2012', '16', 'St. Louis Rams', 'Tampa Bay Buccaneers'], ['2012', '16', 'Indianapolis Colts', 'Kansas City Chiefs'], ['2012', '17', 'San Diego Chargers', 'Oakland Raiders'], ['2012', '17', 'Seattle Seahawks', 'St. Louis Rams'], ['2012', '17', 'Denver Broncos', 'Kansas City Chiefs'], ['2012', '17', 'New England Patriots', 'Miami Dolphins'], ['2012', '17', 'New York Giants', 'Philadelphia Eagles'], ['2012', '17', 'Indianapolis Colts', 'Houston Texans'], ['2012', '17', 'Tennessee Titans', 'Jacksonville Jaguars'], ['2012', '17', 'San Francisco 49ers', 'Arizona Cardinals'], ['2012', '17', 'Carolina Panthers', 'New Orleans Saints'], ['2012', '17', 'Minnesota Vikings', 'Green Bay Packers'], ['2012', '17', 'Washington Redskins', 'Dallas Cowboys'], ['2012', '17', 'Chicago Bears', 'Detroit Lions'], ['2012', '17', 'Pittsburgh Steelers', 'Cleveland Browns'], ['2012', '17', 'Buffalo Bills', 'New York Jets'], ['2012', '17', 'Cincinnati Bengals', 'Baltimore Ravens'], ['2012', '17', 'Tampa Bay Buccaneers', 'Atlanta Falcons'], ['2013', '1', 'Denver Broncos', 'Baltimore Ravens'], ['2013', '1', 'Seattle Seahawks', 'Carolina Panthers'], ['2013', '1', 'St. Louis Rams', 'Arizona Cardinals'], ['2013', '1', 'San Francisco 49ers', 'Green Bay Packers'], ['2013', '1', 'Detroit Lions', 'Minnesota Vikings'], ['2013', '1', 'New Orleans Saints', 'Atlanta Falcons'], ['2013', '1', 'Tennessee Titans', 'Pittsburgh Steelers'], ['2013', '1', 'Chicago Bears', 'Cincinnati Bengals'], ['2013', '1', 'Indianapolis Colts', 'Oakland Raiders'], ['2013', '1', 'Dallas Cowboys', 'New York Giants'], ['2013', '1', 'Kansas City Chiefs', 'Jacksonville Jaguars'], ['2013', '1', 'Miami Dolphins', 'Cleveland Browns'], ['2013', '1', 'New York Jets', 'Tampa Bay Buccaneers'], ['2013', '1', 'New England Patriots', 'Buffalo Bills'], ['2013', '1', 'Philadelphia Eagles', 'Washington Redskins'], ['2013', '1', 'Houston Texans', 'San Diego Chargers'], ['2013', '2', 'New England Patriots', 'New York Jets'], ['2013', '2', 'New Orleans Saints', 'Tampa Bay Buccaneers'], ['2013', '2', 'Chicago Bears', 'Minnesota Vikings'], ['2013', '2', 'Kansas City Chiefs', 'Dallas Cowboys'], ['2013', '2', 'Arizona Cardinals', 'Detroit Lions'], ['2013', '2', 'Baltimore Ravens', 'Cleveland Browns'], ['2013', '2', 'Atlanta Falcons', 'St. Louis Rams'], ['2013', '2', 'Houston Texans', 'Tennessee Titans'], ['2013', '2', 'Green Bay Packers', 'Washington Redskins'], ['2013', '2', 'Miami Dolphins', 'Indianapolis Colts'], ['2013', '2', 'Buffalo Bills', 'Carolina Panthers'], ['2013', '2', 'San Diego Chargers', 'Philadelphia Eagles'], ['2013', '2', 'Seattle Seahawks', 'San Francisco 49ers'], ['2013', '2', 'Oakland Raiders', 'Jacksonville Jaguars'], ['2013', '2', 'Denver Broncos', 'New York Giants'], ['2013', '2', 'Cincinnati Bengals', 'Pittsburgh Steelers'], ['2013', '3', 'Kansas City Chiefs', 'Philadelphia Eagles'], ['2013', '3', 'New England Patriots', 'Tampa Bay Buccaneers'], ['2013', '3', 'New Orleans Saints', 'Arizona Cardinals'], ['2013', '3', 'Detroit Lions', 'Washington Redskins'], ['2013', '3', 'Carolina Panthers', 'New York Giants'], ['2013', '3', 'Miami Dolphins', 'Atlanta Falcons'], ['2013', '3', 'Tennessee Titans', 'San Diego Chargers'], ['2013', '3', 'New York Jets', 'Buffalo Bills'], ['2013', '3', 'Cincinnati Bengals', 'Green Bay Packers'], ['2013', '3', 'Dallas Cowboys', 'St. Louis Rams'], ['2013', '3', 'Baltimore Ravens', 'Houston Texans'], ['2013', '3', 'Cleveland Browns', 'Minnesota Vikings'], ['2013', '3', 'Seattle Seahawks', 'Jacksonville Jaguars'], ['2013', '3', 'Chicago Bears', 'Pittsburgh Steelers'], ['2013', '3', 'Indianapolis Colts', 'San Francisco 49ers'], ['2013', '3', 'Denver Broncos', 'Oakland Raiders'], ['2013', '4', 'San Francisco 49ers', 'St. Louis Rams'], ['2013', '4', 'Buffalo Bills', 'Baltimore Ravens'], ['2013', '4', 'Cleveland Browns', 'Cincinnati Bengals'], ['2013', '4', 'Tennessee Titans', 'New York Jets'], ['2013', '4', 'San Diego Chargers', 'Dallas Cowboys'], ['2013', '4', 'Kansas City Chiefs', 'New York Giants'], ['2013', '4', 'Seattle Seahawks', 'Houston Texans'], ['2013', '4', 'Arizona Cardinals', 'Tampa Bay Buccaneers'], ['2013', '4', 'Minnesota Vikings', 'Pittsburgh Steelers'], ['2013', '4', 'Washington Redskins', 'Oakland Raiders'], ['2013', '4', 'New England Patriots', 'Atlanta Falcons'], ['2013', '4', 'Denver Broncos', 'Philadelphia Eagles'], ['2013', '4', 'Indianapolis Colts', 'Jacksonville Jaguars'], ['2013', '4', 'Detroit Lions', 'Chicago Bears'], ['2013', '4', 'New Orleans Saints', 'Miami Dolphins'], ['2013', '5', 'Cleveland Browns', 'Buffalo Bills'], ['2013', '5', 'Arizona Cardinals', 'Carolina Panthers'], ['2013', '5', 'Green Bay Packers', 'Detroit Lions'], ['2013', '5', 'Philadelphia Eagles', 'New York Giants'], ['2013', '5', 'Denver Broncos', 'Dallas Cowboys'], ['2013', '5', 'Cincinnati Bengals', 'New England Patriots'], ['2013', '5', 'New Orleans Saints', 'Chicago Bears'], ['2013', '5', 'Oakland Raiders', 'San Diego Chargers'], ['2013', '5', 'St. Louis Rams', 'Jacksonville Jaguars'], ['2013', '5', 'Indianapolis Colts', 'Seattle Seahawks'], ['2013', '5', 'Baltimore Ravens', 'Miami Dolphins'], ['2013', '5', 'Kansas City Chiefs', 'Tennessee Titans'], ['2013', '5', 'San Francisco 49ers', 'Houston Texans'], ['2013', '5', 'New York Jets', 'Atlanta Falcons'], ['2013', '6', 'Chicago Bears', 'New York Giants'], ['2013', '6', 'Carolina Panthers', 'Minnesota Vikings'], ['2013', '6', 'Green Bay Packers', 'Baltimore Ravens'], ['2013', '6', 'St. Louis Rams', 'Houston Texans'], ['2013', '6', 'Detroit Lions', 'Cleveland Browns'], ['2013', '6', 'Denver Broncos', 'Jacksonville Jaguars'], ['2013', '6', 'Kansas City Chiefs', 'Oakland Raiders'], ['2013', '6', 'Seattle Seahawks', 'Tennessee Titans'], ['2013', '6', 'Cincinnati Bengals', 'Buffalo Bills'], ['2013', '6', 'Dallas Cowboys', 'Washington Redskins'], ['2013', '6', 'Philadelphia Eagles', 'Tampa Bay Buccaneers'], ['2013', '6', 'Pittsburgh Steelers', 'New York Jets'], ['2013', '6', 'New England Patriots', 'New Orleans Saints'], ['2013', '6', 'San Francisco 49ers', 'Arizona Cardinals'], ['2013', '6', 'San Diego Chargers', 'Indianapolis Colts'], ['2013', '7', 'Seattle Seahawks', 'Arizona Cardinals'], ['2013', '7', 'Pittsburgh Steelers', 'Baltimore Ravens'], ['2013', '7', 'Atlanta Falcons', 'Tampa Bay Buccaneers'], ['2013', '7', 'Carolina Panthers', 'St. Louis Rams'], ['2013', '7', 'Green Bay Packers', 'Cleveland Browns'], ['2013', '7', 'Dallas Cowboys', 'Philadelphia Eagles'], ['2013', '7', 'Cincinnati Bengals', 'Detroit Lions'], ['2013', '7', 'San Diego Chargers', 'Jacksonville Jaguars'], ['2013', '7', 'Indianapolis Colts', 'Denver Broncos'], ['2013', '7', 'Washington Redskins', 'Chicago Bears'], ['2013', '7', 'Kansas City Chiefs', 'Houston Texans'], ['2013', '7', 'New York Jets', 'New England Patriots'], ['2013', '7', 'Buffalo Bills', 'Miami Dolphins'], ['2013', '7', 'San Francisco 49ers', 'Tennessee Titans'], ['2013', '7', 'New York Giants', 'Minnesota Vikings'], ['2013', '8', 'Carolina Panthers', 'Tampa Bay Buccaneers'], ['2013', '8', 'Green Bay Packers', 'Minnesota Vikings'], ['2013', '8', 'Arizona Cardinals', 'Atlanta Falcons'], ['2013', '8', 'New England Patriots', 'Miami Dolphins'], ['2013', '8', 'Oakland Raiders', 'Pittsburgh Steelers'], ['2013', '8', 'San Francisco 49ers', 'Jacksonville Jaguars'], ['2013', '8', 'Denver Broncos', 'Washington Redskins'], ['2013', '8', 'New Orleans Saints', 'Buffalo Bills'], ['2013', '8', 'New York Giants', 'Philadelphia Eagles'], ['2013', '8', 'Detroit Lions', 'Dallas Cowboys'], ['2013', '8', 'Cincinnati Bengals', 'New York Jets'], ['2013', '8', 'Kansas City Chiefs', 'Cleveland Browns'], ['2013', '8', 'Seattle Seahawks', 'St. Louis Rams'], ['2013', '9', 'Miami Dolphins', 'Cincinnati Bengals'], ['2013', '9', 'Indianapolis Colts', 'Houston Texans'], ['2013', '9', 'Carolina Panthers', 'Atlanta Falcons'], ['2013', '9', 'Tennessee Titans', 'St. Louis Rams'], ['2013', '9', 'New York Jets', 'New Orleans Saints'], ['2013', '9', 'Washington Redskins', 'San Diego Chargers'], ['2013', '9', 'Dallas Cowboys', 'Minnesota Vikings'], ['2013', '9', 'Cleveland Browns', 'Baltimore Ravens'], ['2013', '9', 'Philadelphia Eagles', 'Oakland Raiders'], ['2013', '9', 'Kansas City Chiefs', 'Buffalo Bills'], ['2013', '9', 'New England Patriots', 'Pittsburgh Steelers'], ['2013', '9', 'Seattle Seahawks', 'Tampa Bay Buccaneers'], ['2013', '9', 'Chicago Bears', 'Green Bay Packers'], ['2013', '10', 'Minnesota Vikings', 'Washington Redskins'], ['2013', '10', 'Carolina Panthers', 'San Francisco 49ers'], ['2013', '10', 'Jacksonville Jaguars', 'Tennessee Titans'], ['2013', '10', 'Arizona Cardinals', 'Houston Texans'], ['2013', '10', 'Denver Broncos', 'San Diego Chargers'], ['2013', '10', 'Philadelphia Eagles', 'Green Bay Packers'], ['2013', '10', 'Detroit Lions', 'Chicago Bears'], ['2013', '10', 'New York Giants', 'Oakland Raiders'], ['2013', '10', 'St. Louis Rams', 'Indianapolis Colts'], ['2013', '10', 'Seattle Seahawks', 'Atlanta Falcons'], ['2013', '10', 'New Orleans Saints', 'Dallas Cowboys'], ['2013', '10', 'Pittsburgh Steelers', 'Buffalo Bills'], ['2013', '10', 'Baltimore Ravens', 'Cincinnati Bengals'], ['2013', '10', 'Tampa Bay Buccaneers', 'Miami Dolphins'], ['2013', '11', 'Indianapolis Colts', 'Tennessee Titans'], ['2013', '11', 'New York Giants', 'Green Bay Packers'], ['2013', '11', 'Tampa Bay Buccaneers', 'Atlanta Falcons'], ['2013', '11', 'New Orleans Saints', 'San Francisco 49ers'], ['2013', '11', 'Pittsburgh Steelers', 'Detroit Lions'], ['2013', '11', 'Chicago Bears', 'Baltimore Ravens'], ['2013', '11', 'Oakland Raiders', 'Houston Texans'], ['2013', '11', 'Miami Dolphins', 'San Diego Chargers'], ['2013', '11', 'Denver Broncos', 'Kansas City Chiefs'], ['2013', '11', 'Arizona Cardinals', 'Jacksonville Jaguars'], ['2013', '11', 'Seattle Seahawks', 'Minnesota Vikings'], ['2013', '11', 'Cincinnati Bengals', 'Cleveland Browns'], ['2013', '11', 'Buffalo Bills', 'New York Jets'], ['2013', '11', 'Philadelphia Eagles', 'Washington Redskins'], ['2013', '11', 'Carolina Panthers', 'New England Patriots'], ['2013', '12', 'New Orleans Saints', 'Atlanta Falcons'], ['2013', '12', 'Carolina Panthers', 'Miami Dolphins'], ['2013', '12', 'St. Louis Rams', 'Chicago Bears'], ['2013', '12', 'Arizona Cardinals', 'Indianapolis Colts'], ['2013', '12', 'Minnesota Vikings', 'Green Bay Packers'], ['2013', '12', 'Jacksonville Jaguars', 'Houston Texans'], ['2013', '12', 'San Diego Chargers', 'Kansas City Chiefs'], ['2013', '12', 'Baltimore Ravens', 'New York Jets'], ['2013', '12', 'Pittsburgh Steelers', 'Cleveland Browns'], ['2013', '12', 'Tampa Bay Buccaneers', 'Detroit Lions'], ['2013', '12', 'Tennessee Titans', 'Oakland Raiders'], ['2013', '12', 'Dallas Cowboys', 'New York Giants'], ['2013', '12', 'New England Patriots', 'Denver Broncos'], ['2013', '12', 'San Francisco 49ers', 'Washington Redskins'], ['2013', '13', 'Baltimore Ravens', 'Pittsburgh Steelers'], ['2013', '13', 'Dallas Cowboys', 'Oakland Raiders'], ['2013', '13', 'Detroit Lions', 'Green Bay Packers'], ['2013', '13', 'Indianapolis Colts', 'Tennessee Titans'], ['2013', '13', 'Denver Broncos', 'Kansas City Chiefs'], ['2013', '13', 'Miami Dolphins', 'New York Jets'], ['2013', '13', 'New York Giants', 'Washington Redskins'], ['2013', '13', 'Jacksonville Jaguars', 'Cleveland Browns'], ['2013', '13', 'San Francisco 49ers', 'St. Louis Rams'], ['2013', '13', 'New England Patriots', 'Houston Texans'], ['2013', '13', 'Carolina Panthers', 'Tampa Bay Buccaneers'], ['2013', '13', 'Philadelphia Eagles', 'Arizona Cardinals'], ['2013', '13', 'Minnesota Vikings', 'Chicago Bears'], ['2013', '13', 'Cincinnati Bengals', 'San Diego Chargers'], ['2013', '13', 'Atlanta Falcons', 'Buffalo Bills'], ['2013', '13', 'Seattle Seahawks', 'New Orleans Saints'], ['2013', '14', 'Jacksonville Jaguars', 'Houston Texans'], ['2013', '14', 'Green Bay Packers', 'Atlanta Falcons'], ['2013', '14', 'Cincinnati Bengals', 'Indianapolis Colts'], ['2013', '14', 'Baltimore Ravens', 'Minnesota Vikings'], ['2013', '14', 'Tampa Bay Buccaneers', 'Buffalo Bills'], ['2013', '14', 'New Orleans Saints', 'Carolina Panthers'], ['2013', '14', 'Arizona Cardinals', 'St. Louis Rams'], ['2013', '14', 'Denver Broncos', 'Tennessee Titans'], ['2013', '14', 'New York Jets', 'Oakland Raiders'], ['2013', '14', 'Philadelphia Eagles', 'Detroit Lions'], ['2013', '14', 'Kansas City Chiefs', 'Washington Redskins'], ['2013', '14', 'New England Patriots', 'Cleveland Browns'], ['2013', '14', 'San Francisco 49ers', 'Seattle Seahawks'], ['2013', '14', 'San Diego Chargers', 'New York Giants'], ['2013', '14', 'Miami Dolphins', 'Pittsburgh Steelers'], ['2013', '14', 'Chicago Bears', 'Dallas Cowboys'], ['2013', '15', 'San Diego Chargers', 'Denver Broncos'], ['2013', '15', 'Pittsburgh Steelers', 'Cincinnati Bengals'], ['2013', '15', 'St. Louis Rams', 'New Orleans Saints'], ['2013', '15', 'Carolina Panthers', 'New York Jets'], ['2013', '15', 'Chicago Bears', 'Cleveland Browns'], ['2013', '15', 'Seattle Seahawks', 'New York Giants'], ['2013', '15', 'Green Bay Packers', 'Dallas Cowboys'], ['2013', '15', 'Buffalo Bills', 'Jacksonville Jaguars'], ['2013', '15', 'Minnesota Vikings', 'Philadelphia Eagles'], ['2013', '15', 'Arizona Cardinals', 'Tennessee Titans'], ['2013', '15', 'Kansas City Chiefs', 'Oakland Raiders'], ['2013', '15', 'Miami Dolphins', 'New England Patriots'], ['2013', '15', 'Atlanta Falcons', 'Washington Redskins'], ['2013', '15', 'San Francisco 49ers', 'Tampa Bay Buccaneers'], ['2013', '15', 'Indianapolis Colts', 'Houston Texans'], ['2013', '15', 'Baltimore Ravens', 'Detroit Lions'], ['2013', '16', 'Indianapolis Colts', 'Kansas City Chiefs'], ['2013', '16', 'Philadelphia Eagles', 'Chicago Bears'], ['2013', '16', 'Cincinnati Bengals', 'Minnesota Vikings'], ['2013', '16', 'Pittsburgh Steelers', 'Green Bay Packers'], ['2013', '16', 'New York Jets', 'Cleveland Browns'], ['2013', '16', 'Tennessee Titans', 'Jacksonville Jaguars'], ['2013', '16', 'Buffalo Bills', 'Miami Dolphins'], ['2013', '16', 'New England Patriots', 'Baltimore Ravens'], ['2013', '16', 'St. Louis Rams', 'Tampa Bay Buccaneers'], ['2013', '16', 'Dallas Cowboys', 'Washington Redskins'], ['2013', '16', 'Denver Broncos', 'Houston Texans'], ['2013', '16', 'San Diego Chargers', 'Oakland Raiders'], ['2013', '16', 'Arizona Cardinals', 'Seattle Seahawks'], ['2013', '16', 'Carolina Panthers', 'New Orleans Saints'], ['2013', '16', 'New York Giants', 'Detroit Lions'], ['2013', '16', 'San Francisco 49ers', 'Atlanta Falcons'], ['2013', '17', 'Seattle Seahawks', 'St. Louis Rams'], ['2013', '17', 'Tennessee Titans', 'Houston Texans'], ['2013', '17', 'Indianapolis Colts', 'Jacksonville Jaguars'], ['2013', '17', 'New York Jets', 'Miami Dolphins'], ['2013', '17', 'Minnesota Vikings', 'Detroit Lions'], ['2013', '17', 'New York Giants', 'Washington Redskins'], ['2013', '17', 'Green Bay Packers', 'Chicago Bears'], ['2013', '17', 'New Orleans Saints', 'Tampa Bay Buccaneers'], ['2013', '17', 'Carolina Panthers', 'Atlanta Falcons'], ['2013', '17', 'New England Patriots', 'Buffalo Bills'], ['2013', '17', 'Denver Broncos', 'Oakland Raiders'], ['2013', '17', 'Cincinnati Bengals', 'Baltimore Ravens'], ['2013', '17', 'Philadelphia Eagles', 'Dallas Cowboys'], ['2013', '17', 'San Diego Chargers', 'Kansas City Chiefs'], ['2013', '17', 'Pittsburgh Steelers', 'Cleveland Browns'], ['2013', '17', 'San Francisco 49ers', 'Arizona Cardinals']]\n"
     ]
    }
   ],
   "source": [
    "import csv\n",
    "f = open(\"nfl.csv\")\n",
    "csvreader = csv.reader(f)\n",
    "nfl = list(csvreader)\n",
    "print(nfl)"
   ]
  },
  {
   "cell_type": "code",
   "execution_count": 12,
   "id": "47099921-f440-4542-862e-d895873f2501",
   "metadata": {},
   "outputs": [
    {
     "name": "stdout",
     "output_type": "stream",
     "text": [
      "43\n"
     ]
    }
   ],
   "source": [
    "import csv\n",
    "def nfl_wins(name_equipe):\n",
    "    \n",
    "    f = open(\"nfl.csv\")\n",
    "    csvreader = csv.reader(f)\n",
    "    nfl = list(csvreader)\n",
    "    sf_wins = 0\n",
    "    for row in nfl:\n",
    "        if row[2]== name_equipe:\n",
    "           sf_wins += 1\n",
    "    return(sf_wins)\n",
    "\n",
    "vict = nfl_wins(\"New York Giants\")\n",
    "print(vict)"
   ]
  },
  {
   "cell_type": "code",
   "execution_count": null,
   "id": "80f62eee-af7f-4251-8f6a-ede8470ee90f",
   "metadata": {},
   "outputs": [],
   "source": [
    "#TRAINING"
   ]
  },
  {
   "cell_type": "code",
   "execution_count": 16,
   "id": "b1d15275-c9a5-42ea-9db3-a54d0ee07a78",
   "metadata": {},
   "outputs": [
    {
     "name": "stdout",
     "output_type": "stream",
     "text": [
      "12\n"
     ]
    }
   ],
   "source": [
    "def nfl_wins(team, year):\n",
    "    li = 0\n",
    "    for row in nfl:\n",
    "        if row[2]== team and row[0]==year:\n",
    "           li += 1\n",
    "    return(li)\n",
    "\n",
    "victe = nfl_wins(\"San Francisco 49ers\", \"2012\")\n",
    "print(victe)\n",
    "    "
   ]
  },
  {
   "cell_type": "code",
   "execution_count": 17,
   "id": "7dcc40dd-b0f7-48b5-b187-f438d9609b56",
   "metadata": {},
   "outputs": [
    {
     "name": "stdout",
     "output_type": "stream",
     "text": [
      "Barcalone\n"
     ]
    }
   ],
   "source": [
    "class team():\n",
    "    def __init__(self,name):\n",
    "        self.name = name\n",
    "Barça = team(\"Barcalone\")\n",
    "print(Barça.name)\n",
    "    "
   ]
  },
  {
   "cell_type": "markdown",
   "id": "6d17ac27-5fa7-4323-a635-b6effdc0297b",
   "metadata": {},
   "source": [
    "###D'autre Méthode d'instance"
   ]
  },
  {
   "cell_type": "code",
   "execution_count": 19,
   "id": "cd2bc30a-7bb9-4ec4-b928-c16403e69fe9",
   "metadata": {},
   "outputs": [
    {
     "name": "stdout",
     "output_type": "stream",
     "text": [
      "réal\n"
     ]
    }
   ],
   "source": [
    "class Team():\n",
    "    def __init__(self,name):\n",
    "        self.name = name\n",
    "    def print_name(self):\n",
    "        print(self.name)\n",
    "\n",
    "Madrid = Team(\"réal\")\n",
    "Madrid.print_name()"
   ]
  },
  {
   "cell_type": "code",
   "execution_count": 20,
   "id": "eac60986-058a-4ea8-af32-1e017437ce83",
   "metadata": {},
   "outputs": [],
   "source": [
    "import csv\n",
    "f = open(\"nfl.csv\")\n",
    "nfl = list(csv.reader(f))\n"
   ]
  },
  {
   "cell_type": "code",
   "execution_count": 21,
   "id": "7b0580ac-06de-425e-847f-5a116ba3cfb2",
   "metadata": {},
   "outputs": [
    {
     "name": "stdout",
     "output_type": "stream",
     "text": [
      "46\n"
     ]
    }
   ],
   "source": [
    "class Team():\n",
    "    def __init__(self,name):\n",
    "        self.name = name\n",
    "\n",
    "    def print_name(self):\n",
    "        print(self.name)\n",
    "\n",
    "    def count_wins(self):\n",
    "        count = 0\n",
    "        for sf in nfl:\n",
    "            if sf[2]== self.name:\n",
    "                count+=1\n",
    "\n",
    "        return(count)\n",
    "\n",
    "broncos = Team(\"Denver Broncos\")\n",
    "broncos = broncos.count_wins()\n",
    "print(broncos)\n"
   ]
  },
  {
   "cell_type": "code",
   "execution_count": null,
   "id": "34a2ebb1-5bf3-4f50-8adb-7f23136c0da7",
   "metadata": {},
   "outputs": [],
   "source": [
    "###Améliorer la méthode de __init__ de la classe Team"
   ]
  },
  {
   "cell_type": "code",
   "execution_count": 24,
   "id": "7792a8f5-40e4-4794-bd38-b2c2255ff3d0",
   "metadata": {},
   "outputs": [
    {
     "name": "stdout",
     "output_type": "stream",
     "text": [
      "51\n"
     ]
    }
   ],
   "source": [
    "import csv\n",
    "class Team():\n",
    "    def __init__(self,name):\n",
    "        self.name = name\n",
    "        f = open(\"nfl.csv\")\n",
    "        csvreader = csv.reader(f)\n",
    "        self.nfl = list(csvreader) \n",
    "    \n",
    "\n",
    "    def count_wins(self):\n",
    "        count = 0\n",
    "        for sf in self.nfl:\n",
    "            if sf[2]== self.name:\n",
    "                count+=1 \n",
    "        return(count)\n",
    "\n",
    "nbr = Team(\"San Francisco 49ers\")\n",
    "nbr = nbr.count_wins()\n",
    "print(nbr)"
   ]
  },
  {
   "cell_type": "code",
   "execution_count": 30,
   "id": "ee30d959-5c3e-4e51-adc6-bfdcdad07650",
   "metadata": {},
   "outputs": [
    {
     "name": "stdout",
     "output_type": "stream",
     "text": [
      "12\n"
     ]
    }
   ],
   "source": [
    "import csv\n",
    "class Team():\n",
    "    def __init__(self, name):\n",
    "        self.name = name\n",
    "        f = open(\"nfl.csv\")\n",
    "        csvreader = csv.reader(f)\n",
    "        self.nfl = list(csvreader)\n",
    "        \n",
    "    def count_wi(self):\n",
    "        count = 0\n",
    "        for sf in self.nfl:\n",
    "            if sf[2]== self.name:\n",
    "                count+=1 \n",
    "        return(count)\n",
    "\n",
    "    def count_wins_year(self, year):\n",
    "        count=0\n",
    "        for row in self.nfl:\n",
    "            if row[2]== self.name and row[0]== year:\n",
    "                count+= 1\n",
    "\n",
    "        return(count)\n",
    "\n",
    "win = Team(\"San Francisco 49ers\")\n",
    "wini = win.count_wins_year(\"2013\")\n",
    "print(wini)\n",
    "\n",
    "\n",
    "    \n",
    "    \n",
    "    "
   ]
  },
  {
   "cell_type": "code",
   "execution_count": 40,
   "id": "ad9ae358-29e4-41db-9254-b7ac43f9f3d1",
   "metadata": {},
   "outputs": [
    {
     "name": "stdout",
     "output_type": "stream",
     "text": [
      "['gender', 'M', '', '', 'M', 'M', 'M', '', 'M', 'M', 'M', 'M', 'M', 'M', 'M', 'M', 'M', 'M', 'M', 'M', 'M', 'M', 'M', 'M', 'M', 'M', 'M', 'M', 'M', '', 'M', 'M', 'M', 'M', 'M', 'M', 'M', '', 'M', '', 'M', 'M', 'M', 'M', 'M', '', 'M', 'M', 'M', 'M', 'M', 'M', 'M', 'M', 'M', '', 'M', 'M', 'M', 'M', '', '', 'M', '', 'M', 'M', 'M', '', 'M', 'M', 'M', '', 'M', 'M', 'M', 'M', 'M', 'M', '', 'M', 'M', 'M', 'M', 'M', 'M', 'M', 'M', 'M', 'M', 'M', '', '', 'M', 'M', 'M', 'M', '', '', 'M', 'M', '', 'M', 'M', '', 'M', 'M', 'M', 'M', 'M', 'M', 'M', '', 'M', '', 'M', 'M', 'M', 'M', 'M', 'M', 'M', 'M', 'M', 'M', '', 'M', 'M', 'M', 'M', 'M', 'M', '', 'M', 'M', 'M', 'M', 'M', 'M', 'M', '', '', 'M', 'M', 'M', 'M', 'M', 'M', 'M', 'M', 'M', '', '', 'M', 'M', 'M', '', 'M', 'M', 'M', 'M', 'M', 'M', 'M', 'M', '', '', 'M', 'M', 'M', 'M', '', 'M', '', 'M', 'M', 'M', 'M', 'M', 'M', 'M', 'M', 'M', 'M', 'M', 'M', '', 'M', 'M', 'M', 'M', 'M', 'M', 'M', 'M', '', 'M', 'M', 'M', '', 'M', 'M', 'M', 'M', 'M', 'M', 'M', 'M', 'M', 'M', 'M', 'M', 'M', 'M', 'M', '', 'M', '', 'M', 'M', 'M', 'M', 'M', 'M', 'M', 'M', 'M', 'M', 'M', 'M', 'M', 'M', 'M', 'M', '', '', 'M', 'M', 'M', 'M', 'M', 'M', 'M', 'M', '', 'M', '', 'M', 'M', 'M', 'M', 'M', 'M', 'M', 'M', '', 'M', '', 'M', 'M', 'M', 'M', '', 'M', 'M', 'M', 'M', '', '', 'M', 'M', 'M', 'M', 'M', 'M', '', 'M', '', 'M', 'M', 'M', 'M', 'M', '', 'M', 'M', 'M', '', 'M', 'M', 'M', 'M', 'M', '', '', 'M', '', '', 'M', '', 'M', '', 'M', 'M', 'M', 'M', 'M', '', 'M', '', 'M', 'M', 'M', '', 'M', 'M', 'M', 'M', '', 'M', '', 'M', 'M', 'M', 'M', 'M', '', '', 'M', 'M', 'M', 'M', 'M', 'M', 'M', 'M', '', 'M', 'M', 'M', 'M', 'M', 'M', 'M', 'M', '', '', 'M', '', 'M', 'M', 'M', 'M', 'M', 'M', '', 'M', 'M', 'M', '', 'M', '', 'M', 'M', '', 'M', 'M', 'M', '', 'M', 'M', '', '', 'M', 'M', '', 'M', 'M', 'M', 'M', 'M', 'M', '', 'M', 'M', 'M', 'M', 'M', '', '', 'M', 'M', '', 'M', 'M', 'M', 'M', '', 'M', '', 'M', 'M', 'M', 'M', 'M', 'M', 'M', 'M', 'M', 'M', '', 'M', 'M', 'M', '', '', 'M', '', 'M', 'M', 'M', 'M', 'M', 'M', 'M', 'M', 'M', '', 'M', '', 'M', 'M', 'M', 'M', '', 'M', 'M', 'M', 'M', 'M', '', 'M', 'M', 'M', 'M', 'M', '', 'M', 'M', 'M', 'M', '', 'M', 'M', 'M', '', 'M', 'M', '', 'M', 'M', 'M', 'M', 'M', 'M', 'M', 'M', 'M', 'M', '', 'M', 'M', 'M', '', '', 'M', '', 'M', 'M', 'M', 'M', 'M', 'M', 'M', 'M', 'M', 'M', 'M', 'M', 'M', 'M', 'M', 'M', 'M', '', 'M', '', 'M', '', '', 'M', '', 'M', 'M', 'M', '', '', 'M', 'M', 'M', '', 'M', 'M', 'M', 'M', 'M', '', 'M', '', 'M', '', 'M', 'M', 'M', 'M', 'M', '', 'M', 'M', 'M', 'M', '', 'M', 'M', 'M', '', 'M', '', 'M', 'M', 'M', 'M', 'M', 'M', '', '', 'M', 'M', 'M', '', '', 'M', 'M', 'M', 'M', 'M', 'M', 'M', '', 'M', 'M', 'M', 'M', 'M', 'M', 'M', 'M', 'M', 'M', 'M', 'M', 'M', 'M', '', 'M', '', '', 'M', 'M', '', 'M', 'M', 'M', 'M', 'M', 'M', '', '', 'M', 'M', 'M', '', '', 'M', '', 'M', '', '', 'M', 'M', 'M', 'M', 'M', '', 'M', '', 'M', 'M', 'M', 'M', 'M', 'M', 'M', 'M', 'M', 'M', 'M', 'M', 'M', 'M', 'M', '', '', 'M', 'M', 'M', 'M', 'M', 'M', 'M', 'M', 'M', 'M', 'M', '', 'M', '', 'M', 'M', 'M', 'M', '', 'M', 'M', 'M', 'M', '', 'M', '', '', 'M', 'M', 'M', 'M', 'M', '', 'M', '', 'M', 'M', 'M', 'M', 'M', 'M', '', 'M', 'M', '', 'M', 'M', '', '', 'M', 'M', '', 'M', 'M', 'M', '', '', 'M', 'M', 'M', 'M', '', 'M', 'M', 'M', 'M', 'M', 'M', '', 'M', 'M', 'M', 'M', 'M', 'M', '', 'M', 'M', '', 'M', 'M', 'M', 'M', 'M', 'M', 'M', 'M', 'M', 'M', 'M', 'M', 'M', '', 'M', 'M', 'M', 'M', 'M', 'M', 'M', 'M', 'M', 'M', 'M', 'M', 'M', '', '', '', '', '', 'M', 'M', 'M', 'M', '', 'M', 'M', '', 'M', 'M', '', '', 'M', '', 'M', 'M', 'M', 'M', '', 'M', 'M', 'M', 'M', '', 'M', 'M', 'M', 'M', 'M', 'M', 'M', 'M', 'M', 'M', 'M', 'M', 'M', 'M', 'M', 'M', '', 'M', 'M', 'M', 'M', '', '', 'M', 'M', 'M', '', 'M', 'M', '', 'M', 'M', '', '', 'M', '', 'M', 'M', 'M', 'M', '', 'M', '', 'M', 'M', 'M', '', '', 'M', '', 'M', 'M', 'M', 'M', 'M', 'M', 'M', 'M', 'M', 'M', 'M', 'M', '', 'M', 'M', 'M', 'M', 'M', 'M', 'M', 'M', 'M', 'M', '', '', '', 'M', 'M', 'M', 'M', '', 'M', 'M', 'M', 'M', '', 'M', 'M', 'M', 'M', 'M', 'M', 'M', 'M', 'M', 'M', 'M', '', 'M', 'M', 'M', '', 'M', '', 'M', 'M', 'M', 'M', 'M', 'M', 'M', 'M', 'M', 'M', '', 'M', 'M', 'M', 'M', 'M', 'M', '', 'M', 'M', 'M', 'M', 'M', 'M', '', 'M', 'M', 'M', 'M', 'M', 'M', '', '', 'M', 'M', 'M', 'M', '', '', 'M', 'M', 'M', 'M', 'M', 'M', 'M', 'M', 'M', 'M', '', 'M', 'M', 'M', 'M', 'M', 'M', 'M', 'M', 'M', '', 'M', 'M', 'M', 'M', 'M', 'M', 'M', '', 'M', 'M', 'M', '', 'M', 'M', 'M', 'M', 'M', 'M', '', 'M', 'M', 'M', 'M', 'M', 'M', 'M', 'M', 'M', 'M', 'M', 'M', 'M', '', 'M', '', 'M', '', 'M', 'M', 'M', '', 'M', '', 'M', 'M', 'M', 'M', '', 'M', 'M', 'M', 'M', '', 'M', 'M', '', '', '', '', 'M', 'M', 'M', '', 'M', 'M', '', '', 'M', '', 'M', 'M', '', 'M', 'M', 'M', 'M', 'M', '', 'M', '', 'M', '', 'M', 'M', 'M', 'M', 'M', 'M', 'M', 'M', '', 'M', 'M', 'M', '', 'M', '', 'M', 'M', 'M', 'M', 'M', 'M', 'M', 'M', 'M', 'M', 'M', 'M', 'M', 'M', 'M', 'M', 'M', 'M', 'M', '', 'M', '', 'M', 'M', 'M', 'M', 'M', 'M', 'M', 'M', 'M', 'M', 'M', 'M', 'M', 'M', 'M', 'M', 'M', 'M', 'M', 'M', 'M', 'M', 'M', 'M', 'M', 'M', 'M', '', '', 'M', 'M', 'M', '', 'M', '', '', 'M', 'M', '', 'M', '', 'M', 'M', '', 'M', 'M', 'M', 'M', 'M', '', 'M', 'M', 'M', 'M', '', '', 'M', '', '', 'M', 'M', 'M', 'M', 'M', 'M', 'M', 'M', 'M', 'M', 'M', 'M', 'M', 'M', 'M', '', 'M', 'M', 'M', '', '', 'M', 'M', 'M', 'M', '', 'M', '', 'M', 'M', 'M', 'M', 'M', 'M', 'M', 'M', '', 'M', 'M', 'M', 'M', 'M', 'M', '', 'M', 'M', 'M', '', 'M', '', 'M', 'M', 'M', 'M', 'M', 'M', 'M', 'M', 'M', 'M', 'M', 'M', 'M', '', 'M', '', 'M', 'M', 'M', 'M', 'M', '', 'M', 'M', 'M', 'M', 'M', 'M', '', 'M', 'M', 'M', 'M', 'M', 'M', 'M', 'M', 'M', '', 'M', '', 'M', 'M', 'M', '', 'M', 'M', 'M', 'M', 'M', 'M', 'M', 'M', 'M', 'M', 'M', 'M', 'M', 'M', 'M', 'M', '', 'M', 'M', 'M', 'M', 'M', 'M', '', 'M', 'M', 'M', 'M', 'M', 'M', 'M', '', 'M', 'M', 'M', 'M', 'M', 'M', 'M', 'M', 'M', 'M', 'M', 'M', 'M', 'M', 'M', 'M', '', 'M', 'M', '', '', '', 'M', 'M', 'M', 'M', '', 'M', '', 'M', 'M', 'M', 'M', 'M', 'M', 'M', 'M', 'M', 'M', 'M', '', '', 'M', '', 'M', 'M', 'M', '', 'M', 'M', 'M', '', 'M', 'M', 'M', 'M', 'M', 'M', 'M', '', 'M', 'M', 'M', '', '', 'M', 'M', 'M', 'M', 'M', 'M', '', 'M', '', 'M', 'M', 'M', 'M', 'M', 'M', 'M', 'M', 'M', 'M', 'M', 'M', '', 'M', 'M', 'M', 'M', '', 'M', 'M', 'M', 'M', 'M', '', '', 'M', 'M', 'M', '', '', 'M', 'M', 'M', 'M', 'M', 'M', 'M', '', 'M', 'M', '', 'M', 'M', 'M', 'M', 'M', 'M', 'M', '', 'M', 'M', 'M', 'M', 'M', 'M', 'M', 'M', '', '', 'M', 'M', '', 'M', 'M', 'M', 'M', 'M', 'M', '', 'M', 'M', 'M', 'M', '', 'M', 'M', 'M', 'M', '', 'M', '', 'M', 'M', 'M', 'M', '', 'M', 'M', '', 'M', 'M', 'M', '', 'M', '', 'M', 'M', 'M', 'M', 'M', '', 'M', 'M', 'M', 'M', '', 'M', '', '', 'M', 'M', 'M', '', 'M', 'M', 'M', 'M', 'M', 'M', 'M', 'M', '', 'M', '', 'M', 'M', 'M', 'M', '', 'M', 'M', 'M', 'M', 'M', '', 'M', '', 'M', 'M', 'M', 'M', 'M', '', 'M', 'M', 'M', '', 'M', '', 'M', 'M', 'M', 'M', 'M', 'M', 'M', 'M', 'M', 'M', 'M', 'M', 'M', 'M', 'M', '', 'M', 'M', '', 'M', 'M', 'M', 'M', 'M', 'M', 'M', '', 'M', 'M', 'M', 'M', '', '', '', 'M', 'M', 'M', 'M', 'M', 'M', 'M', 'M', 'M', 'M', 'M', 'M', 'M', 'M', 'M', 'M', 'M', 'M', 'M', 'M', 'M', 'M', 'M', 'M', 'M', 'M', 'M', 'M', 'M', 'M', 'M', 'M', 'M', 'M', '', 'M', 'M', '', 'M', 'M', 'M', 'M', 'M', 'M', '', 'M', 'M', 'M', 'M', 'M', 'M', 'M', '', 'M', 'M', 'M', 'M', 'M', 'M', 'M', 'M', 'M', 'M', 'M', '', '', 'M', 'M', 'M', 'M', '', 'M', '', '', '', '', 'M', 'M', '', 'M', '', 'M', 'M', 'M', 'M', '', 'M', 'M', 'M', 'M', 'M', '', 'M', 'M', 'M', 'M', 'M', 'M', '', 'M', 'M', 'M', 'M', '', 'M', 'M', 'M', '', '', 'M', '', 'M', 'M', 'M', 'M', 'M', 'M', 'M', 'M', 'M', 'M', 'M', 'M', '', 'M', 'M', 'M', 'M', 'M', 'M', '', 'M', 'M', 'M', 'M', '', 'M', 'M', '', 'M', 'M', 'M', 'M', 'M', 'M', 'M', 'M', '', 'M', 'M', 'M', 'M', 'M', 'M', '', '', '', 'M', 'M', 'M', 'M', '', 'M', '', 'M', 'M', 'M', 'M', 'M', 'M', 'M', '', 'M', 'M', 'M', 'M', 'M', 'M', 'M', 'M', 'M', 'M', '', 'M', 'M', 'M', 'M', 'M', 'M', '', 'M', 'M', '', '', 'M', 'M', 'M', 'M', 'M', '', 'M', 'M', 'M', 'M', 'M', 'M', 'M', '', 'M', '', 'M', '', 'M', 'M', 'M', 'M', '', 'M', '', 'M', 'M', 'M', '', 'M', 'M', 'M', 'M', '', 'M', 'M', 'M', '', 'M', '', 'M', 'M', 'M', 'M', 'M', 'M', 'M', 'M', 'M', 'M', '', '', '', 'M', 'M', '', '', 'M', 'M', 'M', 'M', 'M', '', 'M', 'M', 'M', 'M', '', 'M', 'M', '', '', '', 'M', '', 'M', '', 'M', 'M', '', 'M', 'M', 'M', 'M', 'M', 'M', '', 'M', 'M', 'M', 'M', 'M', 'M', 'M', 'M', '', 'M', 'M', 'M', 'M', 'M', '', 'M', 'M', 'M', '', 'M', 'M', '', '', 'M', 'M', 'M', 'M', 'M', 'M', 'M', '', 'M', '', '', 'M', '', 'M', 'M', 'M', 'M', 'M', 'M', '', 'M', 'M', 'M', 'M', 'M', 'M', '', '', 'M', 'M', 'M', 'M', 'M', 'M', 'M', 'M', 'M', 'M', 'M', 'M', 'M', 'M', 'M', 'M', 'M', '', '', 'M', '', 'M', 'M', '', 'M', 'M', '', '', 'M', 'M', 'M', 'M', '', 'M', 'M', '', 'M', 'M', 'M', 'M', '', '', '', 'M', '', 'M', 'M', 'M', 'M', 'M', '', 'M', '', 'M', 'M', 'M', 'M', 'M', 'M', 'M', 'M', '', 'M', 'M', '', 'M', '', 'M', '', 'M', 'M', 'M', 'M', 'M', 'M', 'M', 'M', 'M', '', 'M', 'M', '', 'M', '', 'M', 'M', 'M', 'M', 'M', 'M', 'M', '', 'M', 'M', '', 'M', '', 'M', 'M', 'M', 'M', 'M', 'M', 'M', '', 'M', 'M', '', 'M', 'M', '', 'M', 'M', 'M', '', '', 'M', 'M', 'M', 'M', 'M', 'M', 'M', 'M', 'M', 'M', 'M', 'M', 'M', 'M', 'M', 'M', 'M', '', 'M', 'M', 'M', '', 'M', 'M', 'M', 'M', 'M', 'M', '', 'M', 'M', 'M', '', 'M', 'M', 'M', 'M', '', 'M', 'M', 'M', 'M', 'M', 'M', '', '', 'M', 'M', 'M', 'M', '', 'M', 'M', '', 'M', 'M', 'M', '', 'M', 'M', 'M', 'M', 'M', 'M', 'M', 'M', 'M', 'M', 'M', '', '', 'M', 'M', 'M', 'M', 'M', 'M', 'M', '', '', 'M', 'M', 'M', 'M', '', 'M', 'M', 'M', 'M', 'M', '', 'M', 'M', 'M', 'M', '', 'M', 'M', 'M', 'M', '', '', 'M', 'M', 'M', 'M', 'M', 'M', '', '', '', '', 'M', 'M', 'M', 'M', 'M', '', 'M', 'M', 'M', 'M', 'M', '', 'M', '', 'M', 'M', 'M', 'M', 'M', 'M', 'M', '', 'M', 'M', '', 'M', 'M', 'M', 'M', 'M', '', 'M', 'M', 'M', 'M', '', 'M', 'M', 'M', 'M', 'M', '', '', 'M', 'M', '', 'M', 'M', 'M', 'M', '', 'M', 'M', 'M', '', 'M', 'M', 'M', '', 'M', 'M', '', 'M', '', 'M', '', 'M', 'M', 'M', 'M', 'M', 'M', '', 'M', '', 'M', 'M', '', 'M', 'M', 'M', 'M', 'M', '', 'M', 'M', '', 'M', 'M', 'M', 'M', '', 'M', 'M', 'M', 'M', 'M', 'M', 'M', 'M', 'M', 'M', 'M', 'M', '', 'M', 'M', '', 'M', 'M', '', 'M', 'M', 'M', '', 'M', '', '', '', 'M', '', 'M', 'M', 'M', 'M', 'M', 'M', 'M', 'M', 'M', 'M', 'M', 'M', 'M', 'M', '', 'M', 'M', 'M', '', 'M', 'M', 'M', 'M', 'M', 'M', 'M', 'M', 'M', 'M', 'M', 'M', 'M', 'M', 'M', 'M', 'M', 'M', 'M', 'M', 'M', 'M', '', 'M', '', 'M', 'M', 'M', 'M', 'M', 'M', 'M', 'M', '', 'M', 'M', 'M', 'M', 'M', 'M', 'M', 'M', 'M', 'M', 'M', '', 'M', 'M', 'M', 'M', 'M', '', '', '', '', '', 'M', 'M', 'M', 'M', '', 'M', '', 'M', '', 'M', 'M', '', 'M', '', 'M', 'M', 'M', 'M', 'M', '', 'M', '', 'M', 'M', 'M', '', '', 'M', '', '', 'M', 'M', 'M', '', '', 'M', 'M', 'M', 'M', 'M', 'M', 'M', 'M', 'M', 'M', 'M', '', 'M', '', '', 'M', 'M', '', '', 'M', 'M', 'M', '', 'M', 'M', 'M', '', '', 'M', 'M', 'M', '', '', 'M', '', 'M', '', 'M', 'M', '', 'M', 'M', 'M', 'M', '', 'M', 'M', '', 'M', 'M', 'M', 'M', 'M', '', 'M', 'M', 'M', '', 'M', '', '', 'M', 'M', 'M', 'M', 'M', 'M', 'M', '', 'M', 'M', 'M', 'M', 'M', 'M', '', 'M', 'M', 'M', 'M', 'M', 'M', 'M', 'M', 'M', 'M', 'M', 'M', 'M', 'M', 'M', 'M', 'M', 'M', 'M', '', '', '', 'M', 'M', 'M', 'M', 'M', 'M', 'M', 'M', 'M', 'M', 'M', 'M', 'M', 'M', 'M', 'M', 'M', 'M', 'M', 'M', 'M', 'M', '', 'M', 'M', 'M', 'M', 'M', '', 'M', '', '', 'M', '', 'M', 'M', '', '', 'M', '', 'M', '', 'M', '', 'M', 'M', 'M', 'M', 'M', 'M', 'M', '', 'M', 'M', 'M', 'M', 'M', 'M', 'M', 'M', 'M', '', 'M', 'M', 'M', 'M', 'M', 'M', 'M', 'M', 'M', 'M', 'M', 'M', '', 'M', 'M', 'M', 'M', 'M', 'M', 'M', 'M', 'M', 'M', 'M', 'M', '', 'M', 'M', 'M', '', '', 'M', 'M', 'M', 'M', 'M', 'M', '', 'M', '', 'M', 'M', 'M', 'M', 'M', '', 'M', '', 'M', '', 'M', '', 'M', 'M', 'M', 'M', '', 'M', '', 'M', 'M', 'M', '', '', 'M', '', 'M', 'M', 'M', 'M', 'M', 'M', '', 'M', 'M', 'M', 'M', 'M', 'M', 'M', 'M', 'M', 'M', '', 'M', 'M', '', 'M', 'M', 'M', 'M', 'M', 'M', 'M', 'M', 'M', '', 'M', '', 'M', 'M', 'M', 'M', 'M', 'M', 'M', '', 'M', 'M', 'M', '', 'M', 'M', 'M', 'M', 'M', 'M', 'M', 'M', 'M', '', 'M', '', 'M', 'M', '', 'M', 'M', 'M', 'M', 'M', 'M', 'M', 'M', 'M', 'M', 'M', 'M', 'M', 'M', 'M', 'M', 'M', 'M', '', 'M', 'M', 'M', '', 'M', '', 'M', 'M', 'M', 'M', 'M', '', 'M', 'M', 'M', 'M', 'M', 'M', 'M', 'M', 'M', '', '', 'M', 'M', '', 'M', 'M', '', 'M', 'M', 'M', 'M', 'M', 'M', 'M', 'M', 'M', 'M', 'M', 'M', 'M', 'M', 'M', 'M', 'M', 'M', 'M', 'M', 'M', 'M', 'M', 'M', 'M', 'M', 'M', 'M', '', '', 'M', 'M', 'M', 'M', 'M', 'M', '', '', 'M', 'M', 'M', 'M', '', 'M', '', 'M', 'M', 'M', 'M', 'M', 'M', '', 'M', 'M', 'M', 'M', 'M', 'M', 'M', 'M', 'M', 'M', 'M', 'M', 'M', 'M', 'M', 'M', 'M', 'M', 'M', 'M', '', '', 'M', 'M', '', 'M', 'M', 'M', 'M', '', 'M', 'M', 'M', 'M', 'M', 'M', '', 'M', 'M', 'M', 'M', 'M', 'M', 'M', '', 'M', '', '', 'M', '', '', 'M', '', 'M', 'M', 'M', 'M', '', 'M', '', 'M', '', '', 'M', 'M', 'M', 'M', 'M', 'M', 'M', 'M', 'M', 'M', 'M', 'M', 'M', '', '', 'M', '', 'M', 'M', 'M', 'M', '', 'M', 'M', 'M', 'M', 'M', 'M', 'M', 'M', 'M', '', 'M', 'M', 'M', 'M', '', '', 'M', 'M', '', 'M', 'M', '', 'M', 'M', 'M', 'M', 'M', '', '', 'M', 'M', 'M', 'M', '', 'M', 'M', 'M', '', '', 'M', 'M', 'M', 'M', 'M', 'M', '', 'M', 'M', 'M', 'M', 'M', '', '', '', 'M', '', 'M', 'M', '', 'M', 'M', 'M', '', '', 'M', 'M', '', 'M', 'M', 'M', 'M', '', '', 'M', 'M', 'M', '', 'M', 'M', 'M', 'M', 'M', 'M', 'M', 'M', 'M', 'M', '', 'M', 'M', 'M', 'M', 'M', '', 'M', 'M', 'M', 'M', 'M', 'M', 'M', '', 'M', 'M', 'M', 'M', 'M', '', 'M', '', 'M', 'M', 'M', 'M', 'M', 'M', 'M', '', 'M', 'M', 'M', '', '', 'M', 'M', '', 'M', 'M', 'M', 'M', 'M', 'M', 'M', 'M', 'M', 'M', '', '', 'M', 'M', 'M', 'M', 'M', 'M', 'M', 'M', '', 'M', 'M', 'M', 'M', 'M', '', 'M', 'M', 'M', 'M', 'M', 'M', 'M', 'M', 'M', 'M', '', 'M', 'M', 'M', 'M', 'M', 'M', 'M', 'M', '', '', 'M', '', '', 'M', 'M', 'M', 'M', 'M', 'M', 'M', 'M', 'M', 'M', 'M', 'M', 'M', 'M', '', 'M', '', 'M', 'M', 'M', 'M', 'M', '', '', '', 'M', 'M', 'M', 'M', 'M', 'M', '', '', 'M', 'M', '', 'M', 'M', 'M', 'M', '', 'M', '', 'M', 'M', '', '', 'M', 'M', 'M', 'M', '', '', 'M', 'M', '', 'M', 'M', 'M', 'M', '', 'M', 'M', 'M', '', 'M', 'M', 'M', 'M', 'M', 'M', '', 'M', 'M', 'M', 'M', '', 'M', '', 'M', '', 'M', 'M', 'M', 'M', 'M', 'M', 'M', 'M', 'M', 'M', '', '', '', 'M', 'M', '', 'M', 'M', 'M', 'M', 'M', '', 'M', '', 'M', 'M', 'M', 'M', 'M', 'M', 'M', 'M', 'M', 'M', 'M', 'M', '', 'M', 'M', 'M', '', '', '', 'M', 'M', '', 'M', '', 'M', 'M', 'M', 'M', 'M', 'M', '', 'M', 'M', 'M', 'M', '', 'M', '', 'M', 'M', 'M', 'M', 'M', 'M', '', 'M', '', '', '', '', 'M', 'M', 'M', 'M', 'M', 'M', 'M', 'M', '', '', '', 'M', 'M', 'M', 'M', 'M', 'M', 'M', 'M', '', 'M', 'M', '', 'M', 'M', 'M', 'M', '', 'M', 'M', 'M', '', 'M', 'M', 'M', 'M', 'M', 'M', 'M', 'M', 'M', 'M', 'M', '', 'M', 'M', '', '', 'M', 'M', '', '', 'M', 'M', 'M', 'M', 'M', '', 'M', 'M', 'M', 'M', 'M', 'M', '', '', 'M', '', 'M', 'M', 'M', 'M', 'M', 'M', 'M', 'M', 'M', 'M', '', 'M', 'M', '', '', '', '', 'M', 'M', 'M', 'M', 'M', 'M', 'M', 'M', 'M', 'M', 'M', 'M', 'M', '', 'M', 'M', 'M', 'M', 'M', 'M', 'M', '', 'M', 'M', '', 'M', '', 'M', 'M', 'M', 'M', '', 'M', '', '', 'M', 'M', '', 'M', '', 'M', 'M', '', 'M', 'M', 'M', 'M', 'M', 'M', 'M', '', '', 'M', 'M', 'M', 'M', 'M', '', 'M', 'M', 'M', 'M', 'M', 'M', 'M', 'M', 'M', 'M', '', 'M', 'M', 'M', 'M', 'M', 'M', 'M', '', '', 'M', 'M', 'M', '', 'M', '', 'M', 'M', 'M', 'M', 'M', 'M', 'M', 'M', '', 'M', 'M', '', 'M', 'M', 'M', 'M', 'M', 'M', 'M', '', '', '', 'M', 'M', 'M', 'M', 'M', '', '', 'M', 'M', 'M', '', 'M', 'M', 'M', 'M', 'M', 'M', 'M', 'M', 'M', 'M', '', '', 'M', 'M', 'M', 'M', 'M', 'M', 'M', 'M', '', 'M', 'M', 'M', '', 'M', 'M', 'M', '', 'M', 'M', 'M', 'M', '', '', '', 'M', 'M', 'M', 'M', 'M', 'M', 'M', 'M', '', '', 'M', '', 'M', 'M', 'M', '', 'M', 'M', 'M', 'M', '', 'M', 'M', '', '', 'M', 'M', 'M', 'M', '', '', '', 'M', '', 'M', '', 'M', 'M', 'M', '', 'M', '', 'M', 'M', 'M', 'M', 'M', 'M', 'M', 'M', '', '', 'M', 'M', '', '', '', 'M', 'M', 'M', 'M', '', 'M', 'M', 'M', 'M', 'M', 'M', 'M', 'M', 'M', 'M', 'M', 'M', 'M', 'M', 'M', 'M', 'M', 'M', 'M', '', 'M', 'M', 'M', 'M', 'M', 'M', '', '', 'M', 'M', 'M', 'M', 'M', '', 'M', 'M', 'M', 'M', 'M', 'M', 'M', '', '', 'M', '', 'M', '', 'M', '', 'M', 'M', 'M', 'M', '', '', 'M', 'M', 'M', 'M', '', 'M', 'M', 'M', 'M', 'M', 'M', 'M', 'M', '', 'M', 'M', 'M', '', '', 'M', 'M', 'M', 'M', 'M', '', '', '', 'M', '', 'M', 'M', '', 'M', 'M', 'M', '', 'M', 'M', 'M', 'M', 'M', 'M', 'M', 'M', 'M', 'M', 'M', 'M', 'M', '', 'M', 'M', 'M', '', 'M', 'M', 'M', 'M', '', 'M', 'M', 'M', '', 'M', 'M', 'M', 'M', 'M', 'M', 'M', '', 'M', 'M', 'M', 'M', 'M', 'M', 'M', 'M', 'M', 'M', 'M', 'M', 'M', 'M', 'M', 'M', 'M', 'M', 'M', 'M', 'M', 'M', '', 'M', 'M', 'M', 'M', 'M', 'M', '', 'M', 'M', '', 'M', 'M', 'M', '', 'M', 'M', '', 'M', 'M', '', 'M', 'M', 'M', 'M', 'M', '', 'M', 'M', 'M', 'M', 'M', 'M', 'M', 'M', 'M', 'M', '', 'M', 'M', 'M', 'M', 'M', '', 'M', 'M', 'M', 'M', 'M', 'M', 'M', 'M', 'M', 'M', '', 'M', 'M', 'M', '', 'M', 'M', 'M', 'M', 'M', '', 'M', '', 'M', '', '', 'M', 'M', '', 'M', 'M', 'M', 'M', 'M', 'M', 'M', 'M', 'M', 'M', 'M', 'M', 'M', 'M', 'M', '', 'M', 'M', 'M', '', 'M', 'M', '', 'M', 'M', 'M', '', '', 'M', 'M', '', 'M', 'M', 'M', 'M', 'M', 'M', 'M', 'M', 'M', 'M', 'M', 'M', 'M', 'M', '', '', 'M', '', 'M', 'M', '', 'M', 'M', 'M', 'M', '', '', 'M', '', 'M', 'M', 'M', 'M', 'M', 'M', 'M', 'M', 'M', '', '', 'M', 'M', 'M', '', 'M', 'M', '', '', 'M', 'M', 'M', 'M', 'M', 'M', 'M', 'M', 'M', 'M', 'M', '', 'M', 'M', 'M', 'M', 'M', 'M', 'M', 'M', '', '', 'M', '', 'M', 'M', 'M', 'M', 'M', 'M', '', 'M', '', '', 'M', 'M', 'M', 'M', 'M', 'M', 'M', 'M', 'M', 'M', 'M', 'M', 'M', 'M', 'M', 'M', 'M', 'M', 'M', 'M', 'M', 'M', 'M', 'M', 'M', '', 'M', 'M', 'M', '', 'M', '', 'M', 'M', 'M', 'M', 'M', 'M', '', '', 'M', 'M', 'M', 'M', '', 'M', 'M', 'M', 'M', 'M', 'M', 'M', 'M', 'M', 'M', 'M', 'M', 'M', '', 'M', '', '', 'M', '', '', 'M', 'M', '', 'M', '', 'M', 'M', 'M', 'M', 'M', 'M', 'M', '', '', 'M', 'M', 'M', 'M', 'M', 'M', 'M', 'M', 'M', 'M', '', 'M', 'M', '', '', 'M', 'M', 'M', 'M', 'M', 'M', 'M', 'M', 'M', 'M', 'M', '', 'M', 'M', '', 'M', '', '', '', 'M', '', '', 'M', 'M', '', 'M', 'M', 'M', 'M', '', '', 'M', 'M', 'M', 'M', 'M', '', 'M', '', 'M', 'M', 'M', 'M', 'M', 'M', '', '', 'M', 'M', '', 'M', '', '', 'M', 'M', 'M', 'M', 'M', '', 'M', 'M', '', 'M', 'M', 'M', 'M', '', 'M', 'M', 'M', 'M', 'M', '', 'M', 'M', 'M', 'M', 'M', '', 'M', 'M', 'M', 'M', '', 'M', 'M', 'M', 'M', 'M', '', 'M', 'M', 'M', 'M', '', 'M', '', '', 'M', '', '', 'M', 'M', 'M', 'M', 'M', 'M', 'M', 'M', 'M', 'M', 'M', 'M', '', '', 'M', 'M', 'M', 'M', 'M', 'M', 'M', '', 'M', 'M', 'M', '', 'M', 'M', 'M', '', '', 'M', 'M', 'M', 'M', 'M', '', 'M', 'M', '', 'M', '', '', 'M', '', 'M', 'M', 'M', '', 'M', 'M', 'M', 'M', 'M', 'M', 'M', 'M', 'M', 'M', 'M', 'M', '', 'M', 'M', 'M', 'M', '', '', 'M', 'M', 'M', 'M', 'M', 'M', 'M', 'M', 'M', 'M', 'M', '', 'M', 'M', '', '', 'M', 'M', 'M', '', 'M', 'M', 'M', '', '', '', 'M', '', 'M', 'M', 'M', '', 'M', 'M', 'M', 'M', 'M', 'M', 'M', '', 'M', '', 'M', 'M', 'M', 'M', 'M', 'M', 'M', 'M', 'M', '', 'M', 'M', 'M', 'M', 'M', '', 'M', 'M', 'M', 'M', 'M', 'M', 'M', 'M', 'M', 'M', 'M', 'M', '', 'M', 'M', '', '', '', 'M', 'M', 'M', 'M', '', '', '', 'M', 'M', 'M', '', 'M', 'M', 'M', 'M', 'M', '', 'M', '', 'M', 'M', 'M', '', '', 'M', 'M', '', 'M', '', 'M', 'M', 'M', 'M', 'M', '', '', 'M', 'M', 'M', '', 'M', 'M', 'M', 'M', 'M', 'M', 'M', 'M', 'M', '', 'M', 'M', '', 'M', 'M', 'M', 'M', 'M', 'M', 'M', '', 'M', 'M', 'M', 'M', '', 'M', '', 'M', 'M', 'M', '', '', 'M', 'M', 'M', 'M', '', 'M', 'M', 'M', 'M', 'M', 'M', 'M', 'M', 'M', '', 'M', '', 'M', 'M', 'M', 'M', 'M', 'M', 'M', 'M', '', 'M', 'M', 'M', 'M', 'M', 'M', '', '', 'M', 'M', 'M', 'M', '', 'M', 'M', '', '', '', '', '', 'M', 'M', 'M', 'M', '', 'M', 'M', 'M', 'M', 'M', '', 'M', 'M', 'M', 'M', '', 'M', '', 'M', 'M', '', '', '', 'M', 'M', '', '', 'M', '', 'M', 'M', '', 'M', '', 'M', '', '', 'M', 'M', 'M', 'M', 'M', '', 'M', '', 'M', 'M', 'M', '', 'M', 'M', 'M', 'M', '', 'M', 'M', 'M', 'M', 'M', 'M', '', 'M', 'M', '', 'M', 'M', '', '', '', 'M', 'M', '', 'M', 'M', '', '', 'M', '', '', 'M', 'M', 'M', 'M', '', 'M', 'M', 'M', 'M', 'M', 'M', '', 'M', 'M', '', 'M', 'M', '', 'M', 'M', 'M', 'M', 'M', 'M', '', '', 'M', '', 'M', 'M', 'M', '', 'M', '', 'M', 'M', '', 'M', 'M', 'M', 'M', 'M', 'M', 'M', '', 'M', 'M', '', 'M', 'M', 'M', '', 'M', 'M', 'M', '', 'M', 'M', '', 'M', 'M', 'M', 'M', 'M', '', 'M', 'M', 'M', 'M', 'M', 'M', 'M', '', 'M', 'M', '', '', '', 'M', 'M', 'M', 'M', 'M', '', 'M', '', 'M', '', 'M', 'M', 'M', '', '', 'M', 'M', 'M', 'M', 'M', 'M', '', 'M', 'M', 'M', 'M', 'M', '', 'M', '', 'M', 'M', 'M', 'M', 'M', '', 'M', 'M', 'M', 'M', 'M', 'M', 'M', 'M', 'M', '', 'M', 'M', 'M', 'M', 'M', 'M', '', '', 'M', '', '', '', 'M', 'M', 'M', 'M', 'M', 'M', 'M', '', 'M', 'M', '', '', 'M', '', 'M', 'M', 'M', 'M', 'M', '', 'M', 'M', 'M', '', 'M', 'M', '', '', 'M', 'M', 'M', '', 'M', 'M', 'M', '', 'M', 'M', 'M', '', 'M', 'M', 'M', '', 'M', 'M', 'M', 'M', '', 'M', '', 'M', 'M', 'M', '', 'M', 'M', 'M', 'M', 'M', 'M', 'M', 'M', '', 'M', 'M', 'M', 'M', 'M', 'M', 'M', 'M', 'M', 'M', 'M', 'M', 'M', 'M', '', 'M', '', 'M', '', 'M', 'M', 'M', '', 'M', 'M', '', 'M', '', '', 'M', 'M', 'M', 'M', 'M', 'M', 'M', 'M', 'M', 'M', 'M', '', 'M', 'M', 'M', 'M', 'M', 'M', '', '', '', 'M', 'M', 'M', 'M', 'M', 'M', '', 'M', 'M', 'M', '', 'M', 'M', 'M', 'M', 'M', 'M', 'M', 'M', 'M', 'M', 'M', '', 'M', '', '', 'M', 'M', 'M', 'M', 'M', 'M', 'M', '', 'M', 'M', 'M', 'M', '', 'M', 'M', 'M', 'M', 'M', 'M', 'M', 'M', '', '', 'M', 'M', '', 'M', '', 'M', 'M', 'M', 'M', 'M', 'M', 'M', '', 'M', 'M', '', 'M', '', 'M', '', 'M', 'M', 'M', 'M', 'M', 'M', 'M', '', 'M', 'M', 'M', 'M', 'M', 'M', 'M', 'M', 'M', '', 'M', 'M', 'M', 'M', 'M', 'M', 'M', 'M', 'M', 'M', '', '', '', 'M', '', '', 'M', '', 'M', 'M', '', '', '', 'M', 'M', 'M', 'M', 'M', 'M', '', 'M', '', 'M', 'M', 'M', 'M', '', 'M', 'M', 'M', 'M', 'M', 'M', 'M', 'M', '', 'M', 'M', '', 'M', 'M', 'M', 'M', 'M', '', '', 'M', '', 'M', 'M', 'M', '', '', 'M', 'M', 'M', 'M', '', '', '', 'M', '', '', 'M', 'M', '', 'M', 'M', 'M', 'M', 'M', 'M', 'M', 'M', '', 'M', 'M', '', 'M', '', 'M', 'M', 'M', '', 'M', 'M', 'M', 'M', 'M', 'M', 'M', 'M', 'M', 'M', 'M', 'M', '', '', '', 'M', 'M', '', 'M', 'M', '', 'M', 'M', 'M', 'M', 'M', '', '', 'M', '', '', '', '', 'M', '', '', '', '', 'M', '', 'M', 'M', 'M', 'M', 'M', 'M', 'M', '', 'M', 'M', '', 'M', 'M', '', 'M', 'M', 'M', 'M', 'M', '', 'M', 'M', 'M', 'M', '', '', 'M', 'M', 'M', 'M', 'M', 'M', '', 'M', 'M', 'M', 'M', 'M', '', 'M', 'M', 'M', '', 'M', 'M', 'M', 'M', '', 'M', 'M', 'M', 'M', '', 'M', '', 'M', '', 'M', 'M', 'M', 'M', 'M', '', 'M', 'M', 'M', '', 'M', 'M', 'M', '', 'M', 'M', 'M', 'M', 'M', '', 'M', 'M', 'M', '', '', '', 'M', 'M', 'M', 'M', 'M', 'M', '', 'M', 'M', '', 'M', '', 'M', 'M', 'M', '', 'M', 'M', '', 'M', 'M', '', '', 'M', 'M', 'M', '', 'M', 'M', 'M', 'M', 'M', 'M', 'M', 'M', 'M', '', '', 'M', '', '', '', 'M', 'M', '', 'M', 'M', 'M', 'M', 'M', 'M', 'M', 'M', '', 'M', 'M', 'M', 'M', 'M', '', '', 'M', '', '', 'M', 'M', 'M', '', 'M', 'M', 'M', 'M', 'M', '', 'M', 'M', 'M', 'M', 'M', 'M', 'M', 'M', 'M', 'M', '', 'M', 'M', 'M', 'M', 'M', 'M', '', 'M', 'M', '', 'M', '', 'M', 'M', '', 'M', '', '', '', 'M', 'M', 'M', '', '', 'M', '', 'M', 'M', 'M', 'M', 'M', '', 'M', '', 'M', 'M', 'M', '', 'M', 'M', '', 'M', 'M', 'M', '', 'M', 'M', '', 'M', 'M', 'M', 'M', 'M', 'M', 'M', 'M', 'M', 'M', 'M', 'M', '', 'M', '', 'M', 'M', '', 'M', '', 'M', 'M', 'M', 'M', '', 'M', 'M', 'M', 'M', 'M', '', 'M', 'M', 'M', '', 'M', 'M', 'M', 'M', 'M', 'M', 'M', 'M', 'M', 'M', 'M', 'M', 'M', '', 'M', '', 'M', 'M', 'M', '', 'M', 'M', '', '', 'M', 'M', 'M', 'M', 'M', 'M', 'M', 'M', '', 'M', 'M', 'M', 'M', 'M', '', 'M', '', 'M', '', '', '', 'M', 'M', '', '', 'M', '', 'M', '', '', '', 'M', 'M', 'M', 'M', '', 'M', 'M', 'M', '', 'M', 'M', 'M', '', '', 'M', 'M', 'M', 'M', 'M', 'M', 'M', 'M', '', 'M', 'M', 'M', 'M', '', '', '', 'M', 'M', '', '', '', 'M', '', 'M', '', 'M', 'M', 'M', 'M', 'M', 'M', '', '', 'M', 'M', 'M', 'M', 'M', 'M', 'M', '', 'M', '', 'M', 'M', '', 'M', '', 'M', 'M', 'M', 'M', 'M', 'M', '', 'M', 'M', 'M', 'M', 'M', 'M', 'M', '', 'M', '', '', 'M', 'M', 'M', 'M', 'M', 'M', '', 'M', '', '', 'M', 'M', 'M', 'M', 'M', 'M', 'M', 'M', 'M', 'M', '', 'M', 'M', 'M', 'M', 'M', 'M', 'M', 'M', 'M', 'M', 'M', 'M', 'M', 'M', 'M', 'M', 'M', 'M', 'M', 'M', 'M', 'M', 'M', '', 'M', 'M', '', 'M', 'M', 'M', '', 'M', 'M', '', 'M', 'M', 'M', '', '', 'M', 'M', 'M', '', 'M', 'M', 'M', 'M', 'M', 'M', 'M', 'M', 'M', 'M', 'M', 'M', 'M', 'M', 'M', 'M', 'M', 'M', 'M', 'M', 'M', 'M', 'M', 'M', 'M', 'M', 'M', 'M', 'M', 'M', 'M', '', '', 'M', 'M', 'M', 'M', 'M', 'M', 'M', '', 'M', 'M', 'M', '', 'M', '', 'M', 'M', 'M', 'M', '', 'M', '', 'M', 'M', '', 'M', 'M', 'M', 'M', 'M', 'M', '', 'M', '', 'M', '', 'M', '', 'M', 'M', 'M', '', '', 'M', 'M', 'M', 'M', '', 'M', 'M', 'M', 'M', 'M', 'M', '', 'M', 'M', '', 'M', 'M', 'M', 'M', '', 'M', 'M', 'M', 'M', '', '', 'M', 'M', '', 'M', '', 'M', 'M', '', 'M', '', 'M', 'M', '', 'M', 'M', 'M', 'M', 'M', 'M', '', 'M', 'M', '', '', 'M', 'M', 'M', 'M', 'M', 'M', 'M', '', '', 'M', 'M', 'M', 'M', 'M', 'M', 'M', '', '', 'M', '', '', '', 'M', '', 'M', 'M', '', 'M', 'M', 'M', 'M', 'M', '', 'M', 'M', 'M', 'M', 'M', '', 'M', 'M', 'M', 'M', 'M', 'M', 'M', 'M', 'M', 'M', 'M', 'M', 'M', 'M', 'M', 'M', 'M', 'M', 'M', 'M', 'M', '', 'M', 'M', 'M', 'M', 'M', 'M', '', 'M', 'M', 'M', 'M', 'M', 'M', 'M', 'M', 'M', '', 'M', '', 'M', 'M', 'M', 'M', 'M', 'M', 'M', 'M', 'M', '', '', 'M', 'M', '', '', 'M', 'M', '', 'M', 'M', '', 'M', 'M', 'M', 'M', 'M', 'M', 'M', 'M', 'M', '', 'M', '', 'M', 'M', 'M', 'M', 'M', 'M', 'M', 'M', 'M', '', 'M', 'M', 'M', 'M', 'M', 'M', 'M', 'M', '', 'M', '', 'M', '', '', 'M', 'M', 'M', 'M', '', 'M', 'M', 'M', 'M', 'M', 'M', 'M', 'M', 'M', 'M', 'M', 'M', '', 'M', '', 'M', '', 'M', 'M', 'M', 'M', 'M', '', 'M', 'M', 'M', 'M', 'M', 'M', '', '', 'M', 'M', 'M', 'M', 'M', '', '', 'M', 'M', 'M', 'M', 'M', 'M', 'M', 'M', '', 'M', '', 'M', 'M', 'M', '', 'M', 'M', '', 'M', 'M', 'M', 'M', 'M', 'M', 'M', 'M', 'M', 'M', 'M', 'M', 'M', 'M', 'M', 'M', '', 'M', 'M', 'M', 'M', '', 'M', 'M', 'M', 'M', 'M', 'M', 'M', '', 'M', 'M', 'M', 'M', 'M', '', 'M', 'M', 'M', 'M', '', 'M', 'M', 'M', 'M', 'M', 'M', 'M', '', '', 'M', 'M', 'M', '', 'M', '', 'M', 'M', 'M', 'M', 'M', 'M', 'M', '', 'M', 'M', 'M', 'M', 'M', 'M', 'M', '', 'M', 'M', 'M', 'M', '', 'M', 'M', 'M', 'M', 'M', 'M', 'M', 'M', 'M', 'M', 'M', 'M', 'M', 'M', '', 'M', 'M', 'M', 'M', 'M', 'M', '', '', 'M', 'M', 'M', 'M', 'M', 'M', 'M', '', 'M', '', 'M', 'M', 'M', 'M', 'M', '', '', '', 'M', 'M', 'M', 'M', 'M', 'M', 'M', '', '', 'M', 'M', 'M', 'M', 'M', 'M', 'M', '', '', 'M', 'M', 'M', 'M', 'M', 'M', 'M', 'M', 'M', 'M', 'M', 'M', 'M', 'M', 'M', 'M', 'M', '', '', 'M', '', 'M', 'M', 'M', 'M', '', '', '', 'M', '', 'M', 'M', 'M', '', 'M', '', '', 'M', '', 'M', '', 'M', '', 'M', 'M', 'M', '', 'M', 'M', '', '', 'M', 'M', 'M', 'M', 'M', 'M', 'M', '', 'M', '', '', 'M', '', '', '', '', 'M', 'M', 'M', 'M', 'M', '', 'M', 'M', 'M', 'M', '', 'M', 'M', 'M', 'M', '', 'M', '', 'M', 'M', 'M', 'M', 'M', 'M', '', 'M', 'M', '', 'M', '', 'M', 'M', 'M', 'M', 'M', '', 'M', 'M', 'M', '', 'M', 'M', 'M', 'M', '', 'M', 'M', '', 'M', 'M', 'M', 'M', 'M', 'M', 'M', 'M', 'M', 'M', 'M', '', 'M', 'M', 'M', 'M', 'M', 'M', 'M', 'M', '', 'M', 'M', 'M', 'M', 'M', 'M', '', 'M', '', 'M', '', 'M', 'M', '', 'M', 'M', 'M', 'M', 'M', '', 'M', 'M', 'M', 'M', 'M', 'M', 'M', '', 'M', '', '', 'M', 'M', 'M', 'M', '', 'M', 'M', 'M', 'M', 'M', 'M', 'M', '', 'M', 'M', 'M', 'M', 'M', 'M', 'M', 'M', 'M', '', 'M', 'M', 'M', 'M', 'M', 'M', 'M', 'M', 'M', 'M', 'M', 'M', '', 'M', 'M', 'M', 'M', 'M', 'M', '', 'M', 'M', '', 'M', 'M', 'M', 'M', 'M', 'M', 'M', 'M', 'M', 'M', 'M', '', 'M', 'M', '', '', '', 'M', 'M', 'M', 'M', 'M', 'M', 'M', 'M', 'M', '', 'M', '', 'M', 'M', '', 'M', 'M', '', '', '', 'M', 'M', 'M', '', 'M', 'M', '', '', 'M', 'M', 'M', '', 'M', 'M', '', 'M', 'M', 'M', 'M', 'M', 'M', 'M', 'M', '', 'M', '', 'M', '', '', 'M', '', 'M', 'M', 'M', '', 'M', 'M', 'M', 'M', 'M', 'M', 'M', 'M', '', 'M', 'M', '', 'M', '', 'M', 'M', '', 'M', '', '', 'M', 'M', 'M', 'M', 'M', '', 'M', 'M', 'M', '', 'M', 'M', 'M', '', 'M', 'M', 'M', 'M', 'M', 'M', 'M', 'M', '', '', 'M', 'M', '', 'M', 'M', '', 'M', 'M', 'M', 'M', 'M', 'M', 'M', 'M', '', 'M', 'M', '', 'M', 'M', 'M', 'M', 'M', '', 'M', '', 'M', 'M', 'M', 'M', '', '', 'M', 'M', 'M', 'M', 'M', 'M', 'M', 'M', 'M', 'M', 'M', 'M', 'M', 'M', 'M', 'M', 'M', 'M', 'M', 'M', 'M', 'M', 'M', 'M', 'M', 'M', 'M', 'M', 'M', 'M', 'M', 'M', 'M', 'M', 'M', 'M', 'M', '', 'M', 'M', 'M', 'M', 'M', 'M', 'M', 'M', 'M', 'M', '', 'M', 'M', '', 'M', 'M', 'M', 'M', 'M', '', 'M', 'M', 'M', 'M', '', 'M', 'M', 'M', 'M', 'M', 'M', 'M', 'M', 'M', '', '', 'M', 'M', '', 'M', 'M', 'M', 'M', 'M', 'M', 'M', 'M', 'M', 'M', 'M', 'M', 'M', 'M', '', '', '', 'M', 'M', 'M', '', '', 'M', 'M', 'M', 'M', 'M', 'M', 'M', 'M', '', 'M', 'M', '', 'M', 'M', 'M', 'M', 'M', 'M', 'M', '', '', 'M', 'M', 'M', 'M', '', 'M', 'M', 'M', '', 'M', 'M', 'M', 'M', '', 'M', '', 'M', 'M', '', 'M', 'M', 'M', 'M', 'M', '', '', 'M', '', '', 'M', '', 'M', 'M', 'M', '', 'M', 'M', 'M', '', 'M', 'M', 'M', 'M', '', 'M', 'M', 'M', 'M', 'M', 'M', 'M', 'M', 'M', 'M', 'M', 'M', 'M', 'M', 'M', 'M', '', '', '', 'M', 'M', 'M', 'M', 'M', 'M', 'M', '', 'M', 'M', '', 'M', 'M', 'M', 'M', 'M', 'M', '', '', 'M', 'M', 'M', 'M', 'M', '', 'M', '', 'M', 'M', 'M', '', 'M', 'M', '', '', '', 'M', '', 'M', 'M', 'M', '', '', '', '', 'M', 'M', 'M', '', 'M', 'M', 'M', '', 'M', 'M', 'M', 'M', 'M', 'M', '', 'M', 'M', '', 'M', '', 'M', 'M', 'M', '', 'M', 'M', 'M', 'M', 'M', '', 'M', '', '', '', '', 'M', 'M', '', 'M', 'M', '', 'M', 'M', '', 'M', '', 'M', 'M', '', 'M', 'M', 'M', 'M', '', 'M', 'M', 'M', 'M', 'M', '', 'M', 'M', 'M', 'M', 'M', 'M', 'M', 'M', 'M', 'M', 'M', 'M', 'M', 'M', 'M', 'M', '', '', 'M', 'M', 'M', 'M', 'M', 'M', 'M', 'M', 'M', '', '', 'M', '', 'M', 'M', 'M', '', 'M', 'M', 'M', '', 'M', '', 'M', '', 'M', 'M', 'M', '', 'M', 'M', 'M', 'M', 'M', 'M', 'M', '', '', 'M', 'M', 'M', 'M', 'M', '', 'M', 'M', '', 'M', 'M', 'M', 'M', 'M', 'M', '', 'M', 'M', 'M', '', 'M', 'M', 'M', 'M', 'M', 'M', 'M', 'M', 'M', 'M', 'M', 'M', 'M', 'M', 'M', 'M', 'M', 'M', 'M', 'M', 'M', 'M', 'M', 'M', 'M', '', 'M', 'M', 'M', 'M', 'M', 'M', 'M', 'M', 'M', '', 'M', 'M', 'M', 'M', '', 'M', 'M', 'M', 'M', 'M', 'M', 'M', 'M', '', 'M', 'M', 'M', '', '', 'M', 'M', 'M', 'M', '', '', '', '', 'M', 'M', 'M', 'M', 'M', 'M', 'M', 'M', 'M', 'M', 'M', 'M', 'M', '', 'M', 'M', 'M', 'M', 'M', 'M', '', 'M', '', 'M', 'M', 'M', 'M', 'M', 'M', 'M', 'M', 'M', '', 'M', 'M', 'M', 'M', 'M', '', '', 'M', 'M', 'M', 'M', 'M', '', 'M', 'M', 'M', 'M', 'M', 'M', 'M', 'M', 'M', 'M', 'M', 'M', '', 'M', '', '', 'M', 'M', 'M', 'M', 'M', '', 'M', 'M', '', 'M', '', 'M', '', 'M', 'M', 'M', '', 'M', '', 'M', 'M', '', 'M', 'M', 'M', '', 'M', '', 'M', 'M', 'M', 'M', 'M', 'M', 'M', 'M', '', 'M', 'M', 'M', 'M', '', '', '', '', 'M', 'M', '', '', '', '', '', '', 'M', 'M', 'M', 'M', 'M', 'M', 'M', '', '', '', 'M', '', 'M', '', 'M', '', 'M', 'M', 'M', '', 'M', 'M', '', 'M', 'M', 'M', 'M', 'M', 'M', '', 'M', '', '', '', 'M', 'M', 'M', 'M', 'M', '', 'M', 'M', 'M', 'M', '', '', 'M', '', 'M', 'M', 'M', '', 'M', 'M', 'M', '', 'M', 'M', '', 'M', '', '', 'M', 'M', '', 'M', '', 'M', 'M', 'M', '', 'M', 'M', '', 'M', 'M', 'M', 'M', 'M', 'M', 'M', 'M', 'M', 'M', '', 'M', '', '', 'M', 'M', 'M', 'M', '', 'M', 'M', 'M', 'M', 'M', 'M', 'M', 'M', 'M', 'M', 'M', 'M', 'M', 'M', 'M', 'M', 'M', 'M', 'M', '', 'M', 'M', 'M', 'M', '', '', 'M', 'M', 'M', 'M', 'M', 'M', 'M', 'M', '', 'M', '', 'M', 'M', '', '', 'M', 'M', 'M', 'M', 'M', '', 'M', '', 'M', 'M', '', 'M', '', 'M', 'M', 'M', 'M', '', 'M', 'M', '', 'M', '', '', 'M', '', 'M', 'M', 'M', 'M', 'M', 'M', 'M', '', 'M', 'M', 'M', 'M', 'M', 'M', 'M', 'M', '', 'M', '', '', 'M', '', 'M', 'M', 'M', 'M', '', '', 'M', 'M', 'M', 'M', 'M', '', 'M', '', 'M', 'M', '', '', 'M', 'M', 'M', 'M', 'M', 'M', '', '', 'M', 'M', 'M', 'M', 'M', '', 'M', 'M', 'M', 'M', 'M', '', 'M', '', 'M', 'M', 'M', 'M', '', 'M', 'M', 'M', '', 'M', 'M', '', 'M', 'M', 'M', '', 'M', '', '', 'M', '', 'M', 'M', '', '', 'M', 'M', 'M', 'M', '', 'M', 'M', 'M', 'M', 'M', 'M', 'M', 'M', 'M', 'M', 'M', 'M', '', 'M', 'M', 'M', 'M', 'M', 'M', 'M', 'M', '', 'M', 'M', 'M', 'M', 'M', 'M', 'M', 'M', '', '', '', 'M', 'M', '', 'M', 'M', 'M', 'M', '', 'M', 'M', 'M', '', 'M', 'M', 'M', 'M', 'M', 'M', '', 'M', 'M', 'M', '', 'M', 'M', 'M', 'M', 'M', 'M', 'M', 'M', 'M', 'M', 'M', 'M', '', '', 'M', 'M', 'M', 'M', '', 'M', 'M', 'M', 'M', 'M', 'M', 'M', 'M', '', 'M', 'M', 'M', '', 'M', 'M', '', 'M', 'M', 'M', '', 'M', 'M', 'M', '', '', '', 'M', 'M', 'M', '', 'M', 'M', 'M', 'M', 'M', 'M', 'M', '', 'M', 'M', '', 'M', 'M', 'M', 'M', 'M', 'M', 'M', 'M', 'M', 'M', '', 'M', 'M', 'M', 'M', '', 'M', 'M', 'M', '', 'M', 'M', 'M', '', 'M', 'M', 'M', '', 'M', 'M', 'M', 'M', '', 'M', 'M', 'M', 'M', 'M', 'M', 'M', 'M', 'M', '', '', 'M', 'M', 'M', 'M', 'M', '', 'M', 'M', 'M', '', 'M', 'M', 'M', 'M', 'M', 'M', 'M', 'M', '', 'M', 'M', 'M', 'M', 'M', '', 'M', 'M', 'M', 'M', '', '', '', 'M', '', 'M', '', 'M', '', 'M', 'M', 'M', 'M', 'M', 'M', 'M', 'M', '', 'M', 'M', 'M', '', '', 'M', 'M', 'M', '', 'M', 'M', 'M', 'M', 'M', 'M', '', '', 'M', 'M', 'M', 'M', 'M', 'M', 'M', 'M', '', 'M', 'M', 'M', 'M', 'M', 'M', '', 'M', 'M', 'M', 'M', 'M', 'M', '', 'M', 'M', '', 'M', 'M', 'M', 'M', 'M', 'M', 'M', 'M', 'M', 'M', '', 'M', 'M', '', 'M', 'M', 'M', 'M', 'M', 'M', 'M', '', 'M', 'M', 'M', '', 'M', '', 'M', 'M', '', 'M', 'M', 'M', '', 'M', '', 'M', 'M', 'M', 'M', '', 'M', 'M', 'M', '', 'M', 'M', 'M', 'M', 'M', '', 'M', '', 'M', 'M', 'M', '', 'M', '', 'M', 'M', 'M', 'M', '', 'M', 'M', 'M', 'M', 'M', 'M', 'M', 'M', 'M', '', 'M', 'M', '', '', 'M', 'M', 'M', 'M', 'M', 'M', 'M', 'M', '', 'M', 'M', '', 'M', 'M', 'M', 'M', 'M', 'M', 'M', 'M', 'M', 'M', 'M', 'M', 'M', 'M', 'M', 'M', 'M', 'M', 'M', 'M', 'M', '', 'M', 'M', '', '', 'M', 'M', 'M', 'M', 'M', '', '', 'M', '', 'M', '', 'M', 'M', '', 'M', 'M', 'M', '', 'M', 'M', 'M', 'M', 'M', 'M', 'M', 'M', 'M', 'M', 'M', 'M', 'M', '', 'M', 'M', 'M', 'M', 'M', 'M', '', 'M', 'M', 'M', '', 'M', 'M', 'M', 'M', '', 'M', 'M', 'M', 'M', 'M', 'M', 'M', 'M', 'M', 'M', 'M', 'M', 'M', 'M', 'M', 'M', 'M', '', 'M', 'M', 'M', 'M', 'M', 'M', 'M', 'M', 'M', '', 'M', 'M', '', 'M', 'M', '', 'M', 'M', '', 'M', '', 'M', '', 'M', '', 'M', 'M', 'M', 'M', '', 'M', '', 'M', 'M', 'M', 'M', 'M', '', 'M', '', 'M', '', 'M', 'M', '', 'M', '', 'M', 'M', 'M', 'M', 'M', 'M', 'M', '', 'M', 'M', 'M', '', 'M', 'M', 'M', 'M', 'M', 'M', 'M', 'M', 'M', '', 'M', 'M', 'M', 'M', 'M', 'M', 'M', 'M', '', 'M', 'M', 'M', '', 'M', '', 'M', 'M', 'M', 'M', 'M', 'M', 'M', 'M', 'M', 'M', 'M', 'M', 'M', 'M', 'M', 'M', 'M', '', '', 'M', 'M', 'M', 'M', 'M', 'M', 'M', '', 'M', 'M', 'M', 'M', 'M', 'M', 'M', 'M', 'M', 'M', '', 'M', 'M', 'M', 'M', 'M', '', '', 'M', '', 'M', 'M', 'M', 'M', 'M', 'M', '', '', 'M', '', '', 'M', '', 'M', 'M', 'M', 'M', 'M', '', 'M', '', 'M', 'M', 'M', '', '', 'M', '', 'M', 'M', 'M', 'M', 'M', 'M', 'M', 'M', 'M', 'M', 'M', 'M', 'M', 'M', '', '', 'M', 'M', 'M', 'M', 'M', 'M', 'M', '', 'M', 'M', 'M', 'M', 'M', 'M', '', '', 'M', 'M', 'M', '', 'M', 'M', '', 'M', 'M', 'M', '', 'M', '', 'M', 'M', 'M', '', 'M', 'M', '', 'M', 'M', 'M', 'M', 'M', 'M', 'M', '', 'M', '', 'M', 'M', 'M', '', '', 'M', 'M', 'M', 'M', 'M', 'M', 'M', '', '', 'M', 'M', 'M', '', 'M', 'M', '', 'M', 'M', 'M', 'M', '', 'M', 'M', 'M', 'M', 'M', 'M', 'M', 'M', 'M', 'M', 'M', '', '', '', 'M', 'M', 'M', 'M', 'M', 'M', 'M', 'M', 'M', 'M', '', 'M', '', 'M', 'M', '', '', 'M', 'M', '', 'M', '', 'M', 'M', 'M', 'M', 'M', 'M', 'M', '', 'M', 'M', 'M', 'M', 'M', 'M', 'M', 'M', 'M', 'M', 'M', 'M', '', 'M', '', 'M', 'M', 'M', 'M', 'M', 'M', 'M', 'M', 'M', 'M', 'M', 'M', 'M', 'M', '', 'M', 'M', 'M', 'M', 'M', '', '', 'M', 'M', 'M', 'M', 'M', 'M', '', 'M', 'M', '', '', 'M', 'M', 'M', '', 'M', 'M', 'M', 'M', 'M', 'M', 'M', 'M', 'M', 'M', '', 'M', 'M', '', '', 'M', 'M', 'M', 'M', '', 'M', 'M', 'M', '', '', 'M', '', 'M', 'M', '', '', '', 'M', 'M', '', '', 'M', '', 'M', 'M', 'M', 'M', '', 'M', 'M', 'M', 'M', 'M', 'M', '', 'M', '', '', '', 'M', 'M', 'M', 'M', '', '', 'M', 'M', 'M', 'M', 'M', '', '', 'M', 'M', '', 'M', 'M', 'M', '', 'M', '', 'M', 'M', 'M', 'M', '', '', 'M', 'M', '', 'M', 'M', '', 'M', 'M', 'M', 'M', 'M', '', 'M', 'M', 'M', 'M', '', '', 'M', '', 'M', 'M', '', 'M', 'M', 'M', '', 'M', '', 'M', 'M', 'M', '', 'M', 'M', '', 'M', 'M', 'M', '', 'M', 'M', 'M', 'M', 'M', 'M', 'M', 'M', 'M', 'M', 'M', 'M', 'M', 'M', 'M', '', 'M', 'M', '', 'M', 'M', '', 'M', '', 'M', 'M', 'M', 'M', 'M', 'M', 'M', '', 'M', '', '', 'M', 'M', 'M', 'M', 'M', 'M', 'M', 'M', '', 'M', 'M', 'M', 'M', 'M', '', 'M', '', 'M', 'M', '', '', 'M', 'M', 'M', '', 'M', 'M', 'M', 'M', '', 'M', 'M', '', 'M', 'M', '', 'M', 'M', 'M', 'M', 'M', 'M', 'M', '', 'M', 'M', '', '', 'M', 'M', 'M', 'M', 'M', 'M', 'M', 'M', '', '', 'M', '', '', 'M', 'M', 'M', 'M', 'M', 'M', 'M', '', 'M', 'M', 'M', 'M', 'M', 'M', 'M', 'M', 'M', 'M', '', 'M', 'M', 'M', '', 'M', '', 'M', '', 'M', '', 'M', '', '', 'M', 'M', 'M', 'M', 'M', 'M', 'M', 'M', '', 'M', '', 'M', 'M', 'M', 'M', 'M', 'M', 'M', '', 'M', '', 'M', 'M', 'M', 'M', '', '', '', '', 'M', 'M', 'M', 'M', 'M', 'M', 'M', 'M', 'M', 'M', 'M', 'M', 'M', '', 'M', 'M', 'M', 'M', 'M', '', 'M', 'M', 'M', '', 'M', 'M', 'M', '', 'M', '', 'M', 'M', 'M', 'M', 'M', 'M', '', 'M', 'M', '', 'M', 'M', 'M', 'M', '', '', '', '', '', 'M', 'M', '', '', 'M', '', 'M', 'M', 'M', 'M', 'M', 'M', 'M', 'M', 'M', '', 'M', '', '', 'M', 'M', 'M', 'M', 'M', 'M', '', '', 'M', '', 'M', 'M', 'M', 'M', 'M', 'M', '', 'M', 'M', '', '', 'M', 'M', 'M', 'M', '', '', '', 'M', 'M', 'M', 'M', 'M', 'M', '', 'M', 'M', 'M', 'M', 'M', '', 'M', 'M', 'M', '', 'M', 'M', '', 'M', 'M', 'M', 'M', 'M', 'M', 'M', '', '', '', 'M', '', 'M', 'M', '', 'M', 'M', 'M', 'M', 'M', 'M', 'M', '', 'M', 'M', 'M', '', '', 'M', 'M', '', 'M', '', 'M', 'M', '', 'M', '', 'M', 'M', 'M', 'M', 'M', '', '', '', '', 'M', 'M', '', 'M', '', '', 'M', '', 'M', 'M', 'M', '', 'M', 'M', 'M', 'M', 'M', '', 'M', '', 'M', 'M', 'M', 'M', 'M', 'M', 'M', 'M', '', 'M', 'M', 'M', 'M', 'M', '', 'M', 'M', '', '', 'M', '', 'M', 'M', '', 'M', 'M', '', 'M', '', '', 'M', 'M', '', 'M', 'M', 'M', '', 'M', '', 'M', 'M', 'M', 'M', 'M', 'M', 'M', 'M', 'M', 'M', 'M', 'M', 'M', 'M', '', '', '', 'M', 'M', '', 'M', 'M', 'M', 'M', '', 'M', 'M', 'M', 'M', '', 'M', '', 'M', '', 'M', 'M', 'M', 'M', '', 'M', 'M', 'M', 'M', '', 'M', '', 'M', 'M', 'M', '', '', 'M', 'M', 'M', 'M', '', 'M', 'M', 'M', 'M', 'M', 'M', 'M', '', 'M', 'M', 'M', 'M', '', 'M', '', 'M', 'M', 'M', '', '', 'M', 'M', 'M', 'M', 'M', 'M', '', '', 'M', 'M', 'M', 'M', 'M', 'M', 'M', 'M', '', '', 'M', 'M', 'M', 'M', '', 'M', 'M', 'M', 'M', 'M', 'M', 'M', 'M', '', '', 'M', 'M', '', 'M', '', 'M', 'M', 'M', 'M', 'M', 'M', '', 'M', 'M', '', 'M', 'M', 'M', 'M', '', 'M', 'M', 'M', 'M', 'M', 'M', '', 'M', '', '', '', '', '', 'M', '', '', 'M', 'M', 'M', '', 'M', '', '', 'M', 'M', '', 'M', 'M', 'M', 'M', '', 'M', 'M', 'M', 'M', 'M', 'M', 'M', '', 'M', 'M', 'M', 'M', 'M', 'M', '', 'M', 'M', 'M', 'M', '', 'M', '', 'M', '', 'M', 'M', 'M', 'M', 'M', 'M', 'M', 'M', '', '', 'M', 'M', '', '', 'M', 'M', 'M', 'M', 'M', 'M', 'M', 'M', '', '', '', 'M', 'M', 'M', '', 'M', 'M', 'M', '', 'M', 'M', 'M', 'M', '', 'M', '', '', '', '', 'M', '', 'M', 'M', 'M', 'M', 'M', '', 'M', 'M', '', 'M', 'M', 'M', 'M', 'M', 'M', 'M', '', 'M', 'M', 'M', 'M', 'M', 'M', 'M', '', 'M', 'M', 'M', '', 'M', '', 'M', 'M', 'M', '', '', '', '', 'M', 'M', 'M', 'M', '', 'M', 'M', 'M', 'M', 'M', '', 'M', 'M', 'M', 'M', 'M', 'M', 'M', 'M', 'M', 'M', 'M', 'M', 'M', '', 'M', '', 'M', 'M', '', 'M', 'M', '', '', 'M', 'M', 'M', '', '', 'M', 'M', '', 'M', 'M', 'M', '', '', '', '', 'M', 'M', 'M', 'M', 'M', 'M', 'M', 'M', 'M', 'M', 'M', '', '', 'M', 'M', '', 'M', '', 'M', 'M', 'M', 'M', 'M', 'M', 'M', 'M', 'M', '', 'M', 'M', '', '', 'M', 'M', 'M', 'M', '', 'M', '', '', 'M', '', '', 'M', 'M', '', 'M', '', 'M', 'M', '', '', 'M', 'M', '', 'M', '', '', 'M', '', 'M', 'M', '', 'M', '', 'M', 'M', 'M', 'M', 'M', '', 'M', 'M', '', '', 'M', 'M', 'M', '', '', '', 'M', 'M', 'M', '', '', 'M', '', 'M', 'M', 'M', 'M', '', '', '', 'M', 'M', 'M', 'M', 'M', 'M', 'M', 'M', 'M', 'M', 'M', 'M', 'M', '', 'M', 'M', '', '', 'M', '', 'M', '', '', 'M', 'M', 'M', '', '', 'M', 'M', 'M', 'M', 'M', 'M', 'M', 'M', 'M', 'M', 'M', '', 'M', 'M', 'M', 'M', 'M', 'M', 'M', 'M', 'M', 'M', 'M', 'M', 'M', '', 'M', 'M', 'M', '', 'M', 'M', 'M', 'M', 'M', 'M', 'M', 'M', 'M', '', 'M', '', '', 'M', '', 'M', '', '', 'M', 'M', 'M', '', '', 'M', '', '', '', 'M', 'M', 'M', '', 'M', '', '', 'M', 'M', 'M', 'M', 'M', 'M', 'M', 'M', 'M', 'M', 'M', '', 'M', 'M', 'M', 'M', '', '', 'M', 'M', 'M', 'M', 'M', 'M', 'M', 'M', 'M', 'M', '', 'M', 'M', 'M', 'M', '', '', 'M', 'M', 'M', 'M', 'M', 'M', 'M', '', '', 'M', 'M', '', '', 'M', '', '', 'M', 'M', 'M', 'M', 'M', 'M', '', 'M', 'M', 'M', '', 'M', 'M', 'M', '', 'M', 'M', '', 'M', 'M', 'M', 'M', 'M', 'M', 'M', '', 'M', 'M', 'M', 'M', '', '', 'M', 'M', 'M', 'M', 'M', 'M', 'M', 'M', 'M', 'M', 'M', '', '', 'M', 'M', '', '', '', 'M', '', 'M', '', '', 'M', 'M', 'M', 'M', 'M', 'M', 'M', 'M', 'M', 'M', '', 'M', 'M', '', '', '', '', 'M', 'M', '', 'M', 'M', 'M', '', '', 'M', 'M', 'M', '', '', '', '', 'M', 'M', 'M', '', 'M', 'M', 'M', 'M', 'M', 'M', '', '', 'M', 'M', 'M', 'M', 'M', '', 'M', '', '', 'M', 'M', 'M', 'M', '', 'M', '', 'M', 'M', 'M', 'M', 'M', 'M', 'M', 'M', 'M', 'M', '', 'M', 'M', 'M', 'M', '', 'M', '', 'M', 'M', 'M', 'M', 'M', '', 'M', '', 'M', '', 'M', '', '', 'M', '', 'M', 'M', '', 'M', 'M', 'M', 'M', '', 'M', '', '', 'M', '', 'M', 'M', '', '', 'M', '', '', 'M', 'M', 'M', 'M', 'M', 'M', 'M', 'M', 'M', '', 'M', 'M', '', 'M', 'M', 'M', 'M', '', '', '', '', 'M', 'M', 'M', 'M', 'M', 'M', 'M', '', 'M', 'M', '', 'M', 'M', '', 'M', 'M', '', 'M', 'M', '', 'M', '', 'M', '', 'M', 'M', 'M', '', '', 'M', 'M', '', 'M', 'M', '', 'M', '', 'M', 'M', 'M', 'M', 'M', 'M', 'M', '', 'M', 'M', 'M', 'M', 'M', 'M', '', '', 'M', 'M', 'M', 'M', 'M', 'M', 'M', 'M', 'M', '', 'M', '', 'M', 'M', 'M', 'M', 'M', '', 'M', 'M', '', 'M', 'M', 'M', '', 'M', '', 'M', 'M', '', 'M', 'M', 'M', 'M', '', 'M', 'M', '', '', 'M', 'M', 'M', 'M', '', 'M', '', '', 'M', 'M', 'M', '', 'M', 'M', 'M', 'M', 'M', '', '', 'M', 'M', 'M', 'M', 'M', 'M', 'M', 'M', '', 'M', '', 'M', 'M', 'M', 'M', '', 'M', '', '', 'M', 'M', 'M', 'M', 'M', 'M', 'M', 'M', 'M', 'M', 'M', '', '', 'M', '', 'M', '', 'M', '', 'M', '', 'M', 'M', '', 'M', 'M', '', '', 'M', 'M', '', 'M', '', '', 'M', 'M', 'M', 'M', '', 'M', 'M', 'M', '', 'M', 'M', 'M', 'M', 'M', 'M', 'M', 'M', '', 'M', '', '', '', 'M', 'M', 'M', 'M', 'M', 'M', '', 'M', 'M', '', '', 'M', '', 'M', 'M', 'M', 'M', '', 'M', 'M', '', '', 'M', 'M', 'M', 'M', 'M', '', 'M', '', '', 'M', '', 'M', 'M', 'M', 'M', 'M', 'M', 'M', '', 'M', '', 'M', 'M', 'M', '', 'M', 'M', '', 'M', '', 'M', 'M', '', 'M', 'M', 'M', 'M', 'M', 'M', '', 'M', '', 'M', '', 'M', 'M', 'M', 'M', 'M', 'M', 'M', 'M', '', '', 'M', '', '', 'M', '', 'M', 'M', 'M', 'M', '', '', 'M', '', '', 'M', 'M', 'M', '', 'M', 'M', 'M', 'M', 'M', '', 'M', 'M', 'M', 'M', '', 'M', '', 'M', '', 'M', 'M', '', 'M', '', '', '', 'M', '', 'M', 'M', 'M', 'M', 'M', 'M', 'M', 'M', 'M', 'M', '', 'M', '', 'M', 'M', 'M', 'M', '', '', 'M', '', 'M', 'M', 'M', '', 'M', '', 'M', 'M', 'M', '', 'M', 'M', 'M', '', '', '', '', '', '', 'M', 'M', '', 'M', 'M', '', '', 'M', 'M', 'M', '', 'M', '', 'M', 'M', '', 'M', 'M', 'M', 'M', 'M', 'M', 'M', 'M', '', 'M', '', 'M', 'M', 'M', 'M', 'M', 'M', 'M', '', 'M', 'M', '', 'M', 'M', '', 'M', '', 'M', 'M', 'M', 'M', 'M', 'M', '', 'M', '', 'M', 'M', 'M', 'M', 'M', '', 'M', 'M', 'M', 'M', '', 'M', '', 'M', 'M', 'M', 'M', '', '', 'M', 'M', 'M', 'M', 'M', '', 'M', 'M', 'M', 'M', '', 'M', 'M', 'M', '', 'M', 'M', 'M', 'M', 'M', 'M', 'M', 'M', '', 'M', 'M', 'M', 'M', '', 'M', 'M', 'M', 'M', 'M', 'M', '', 'M', 'M', 'M', 'M', '', 'M', 'M', 'M', '', 'M', '', '', 'M', 'M', 'M', 'M', '', 'M', '', 'M', 'M', 'M', 'M', 'M', '', 'M', 'M', 'M', 'M', '', 'M', 'M', 'M', 'M', 'M', 'M', 'M', 'M', 'M', '', '', 'M', 'M', '', '', '', '', 'M', '', 'M', '', '', 'M', 'M', '', 'M', 'M', 'M', 'M', '', 'M', 'M', 'M', 'M', '', 'M', 'M', '', 'M', 'M', 'M', 'M', 'M', 'M', 'M', 'M', '', '', 'M', 'M', 'M', 'M', '', '', 'M', '', '', 'M', 'M', '', 'M', 'M', 'M', 'M', 'M', '', 'M', 'M', 'M', '', '', 'M', 'M', 'M', 'M', 'M', 'M', '', 'M', 'M', 'M', 'M', 'M', 'M', '', 'M', '', '', 'M', '', 'M', 'M', '', 'M', '', 'M', '', 'M', 'M', 'M', 'M', 'M', 'M', 'M', 'M', 'M', 'M', 'M', 'M', '', 'M', '', 'M', 'M', 'M', '', '', 'M', 'M', 'M', 'M', 'M', 'M', 'M', 'M', '', '', 'M', 'M', 'M', '', '', 'M', 'M', 'M', '', 'M', 'M', 'M', 'M', '', 'M', '', '', '', 'M', 'M', 'M', '', 'M', 'M', 'M', '', 'M', 'M', 'M', 'M', '', 'M', 'M', 'M', 'M', 'M', '', 'M', 'M', 'M', '', 'M', 'M', 'M', 'M', 'M', '', 'M', 'M', 'M', 'M', 'M', '', 'M', 'M', '', 'M', '', 'M', '', 'M', 'M', 'M', 'M', 'M', 'M', '', 'M', 'M', '', '', 'M', '', 'M', 'M', '', '', 'M', 'M', 'M', 'M', 'M', '', '', '', '', '', 'M', 'M', '', 'M', 'M', 'M', 'M', 'M', 'M', '', '', '', '', 'M', 'M', 'M', 'M', 'M', 'M', 'M', 'M', 'M', 'M', '', 'M', '', '', 'M', 'M', '', '', 'M', 'M', 'M', 'M', 'M', '', 'M', 'M', 'M', '', '', 'M', '', 'M', 'M', 'M', '', 'M', '', 'M', '', '', 'M', 'M', 'M', '', 'M', 'M', 'M', 'M', 'M', '', 'M', '', 'M', 'M', '', 'M', 'M', 'M', 'M', 'M', 'M', 'M', '', '', 'M', 'M', 'M', '', '', '', '', '', '', 'M', '', 'M', 'M', 'M', '', 'M', 'M', 'M', 'M', 'M', 'M', 'M', '', 'M', 'M', 'M', 'M', 'M', '', '', '', 'M', 'M', 'M', '', 'M', '', 'M', 'M', 'M', 'M', 'M', 'M', 'M', 'M', 'M', '', '', '', 'M', 'M', 'M', '', 'M', 'M', 'M', 'M', 'M', 'M', '', '', 'M', '', 'M', '', 'M', '', '', 'M', 'M', 'M', '', '', 'M', '', '', '', 'M', '', '', 'M', '', '', 'M', 'M', 'M', 'M', 'M', '', 'M', 'M', 'M', 'M', '', '', 'M', 'M', '', '', '', 'M', 'M', 'M', '', 'M', 'M', 'M', 'M', '', '', 'M', '', '', '', 'M', '', 'M', '', '', 'M', '', '', 'M', 'M', 'M', 'M', 'M', 'M', '', '', 'M', '', 'M', 'M', '', 'M', 'M', '', '', 'M', '', 'M', 'M', 'M', 'M', 'M', '', 'M', 'M', '', '', 'M', 'M', '', '', 'M', 'M', 'M', '', '', 'M', 'M', '', 'M', 'M', 'M', '', 'M', 'M', 'M', '', '', 'M', 'M', 'M', 'M', '', '', '', 'M', '', '', 'M', '', '', 'M', 'M', 'M', '', '', '', 'M', '', '', '', 'M', '', '', 'M', 'M', '', 'M', '', 'M', '', 'M', '', '', 'M', 'M', 'M', 'M', '', 'M', '', 'M', 'M', 'M', '', 'M', 'M', 'M', 'M', 'M', 'M', 'M', 'M', 'M', '', '', 'M', 'M', 'M', '', '', '', '', 'M', 'M', '', 'M', 'M', '', '', 'M', 'M', 'M', 'M', 'M', 'M', 'M', 'M', 'M', '', 'M', 'M', '', 'M', 'M', '', '', '', '', '', '', '', 'M', 'M', 'M', 'M', 'M', '', 'M', 'M', '', 'M', 'M', 'M', 'M', '', '', '', '', '', 'M', 'M', 'M', 'M', 'M', 'M', 'M', '', 'M', 'M', 'M', 'M', 'M', '', '', 'M', 'M', '', '', '', 'M', '', 'M', 'M', 'M', '', 'M', 'M', 'M', 'M', 'M', 'M', 'M', '', '', '', 'M', 'M', '', '', 'M', '', '', 'M', '', 'M', 'M', 'M', 'M', '', 'M', '', 'M', 'M', 'M', 'M', '', 'M', 'M', '', 'M', 'M', '', 'M', '', 'M', '', 'M', 'M', '', 'M', 'M', 'M', 'M', 'M', 'M', 'M', '', 'M', 'M', 'M', 'M', 'M', 'M', '', 'M', '', 'M', 'M', 'M', 'M', '', '', '', 'M', '', 'M', 'M', 'M', 'M', '', 'M', 'M', 'M', 'M', '', 'M', '', 'M', 'M', '', '', '', 'M', 'M', 'M', 'M', 'M', 'M', '', '', 'M', '', 'M', 'M', 'M', 'M', '', '', 'M', 'M', 'M', '', 'M', 'M', '', 'M', 'M', 'M', '', 'M', '', 'M', 'M', 'M', '', 'M', 'M', 'M', 'M', '', '', '', 'M', '', '', '', 'M', 'M', '', '', '', '', 'M', 'M', 'M', '', 'M', '', 'M', 'M', '', '', 'M', 'M', '', '', 'M', 'M', 'M', 'M', 'M', 'M', '', '', '', '', 'M', 'M', '', 'M', 'M', '', '', 'M', 'M', 'M', 'M', 'M', 'M', 'M', 'M', 'M', 'M', 'M', 'M', 'M', 'M', 'M', 'M', 'M', '', '', '', '', '', 'M', '', 'M', 'M', 'M', 'M', 'M', 'M', '', '', 'M', 'M', 'M', 'M', 'M', '', '', 'M', 'M', 'M', 'M', 'M', 'M', 'M', 'M', 'M', 'M', 'M', 'M', '', 'M', 'M', '', 'M', '', 'M', 'M', 'M', '', '', 'M', 'M', 'M', 'M', 'M', 'M', 'M', '', 'M', '', '', 'M', 'M', 'M', 'M', '', 'M', 'M', '', '', 'M', 'M', '', 'M', '', 'M', 'M', 'M', 'M', 'M', '', '', 'M', '', '', '', 'M', 'M', 'M', '', 'M', '', 'M', '', '', 'M', 'M', '', '', 'M', 'M', 'M', 'M', 'M', 'M', '', 'M', '', 'M', 'M', 'M', 'M', '', '', '', 'M', 'M', 'M', 'M', '', 'M', 'M', 'M', 'M', '', 'M', 'M', 'M', '', 'M', '', '', '', 'M', 'M', 'M', 'M', 'M', 'M', 'M', 'M', 'M', '', 'M', 'M', 'M', 'M', 'M', 'M', 'M', '', 'M', 'M', 'M', 'M', 'M', 'M', '', 'M', '', 'M', 'M', 'M', 'M', '', '', 'M', '', 'M', 'M', 'M', 'M', 'M', 'M', '', '', '', 'M', '', 'M', 'M', 'M', '', 'M', 'M', 'M', 'M', '', '', 'M', 'M', 'M', 'M', 'M', 'M', 'M', '', 'M', 'M', '', '', 'M', 'M', '', 'M', '', 'M', '', 'M', 'M', 'M', '', 'M', '', 'M', 'M', 'M', 'M', 'M', 'M', 'M', 'M', 'M', 'M', 'M', 'M', 'M', '', 'M', 'M', 'M', '', 'M', 'M', 'M', '', 'M', 'M', 'M', 'M', 'M', '', '', 'M', 'M', 'M', '', '', 'M', '', 'M', 'M', 'M', 'M', 'M', '', 'M', '', 'M', 'M', '', 'M', 'M', 'M', '', 'M', '', 'M', '', 'M', 'M', '', 'M', 'M', 'M', '', 'M', '', 'M', '', '', 'M', 'M', 'M', 'M', 'M', 'M', '', '', '', '', 'M', 'M', 'M', 'M', '', 'M', 'M', 'M', '', 'M', '', 'M', '', 'M', 'M', 'M', 'M', 'M', 'M', '', 'M', '', '', 'M', '', 'M', '', '', 'M', '', 'M', '', 'M', 'M', 'M', '', '', '', 'M', 'M', 'M', 'M', 'M', '', '', 'M', '', '', 'M', '', 'M', '', 'M', '', '', 'M', 'M', 'M', 'M', 'M', 'M', 'M', 'M', 'M', 'M', 'M', 'M', 'M', 'M', 'M', '', '', '', 'M', '', 'M', 'M', 'M', 'M', 'M', 'M', 'M', '', 'M', '', '', 'M', 'M', '', 'M', 'M', '', '', 'M', 'M', 'M', 'M', '', 'M', 'M', '', '', '', 'M', 'M', '', '', '', 'M', '', 'M', 'M', 'M', 'M', 'M', 'M', 'M', '', 'M', 'M', '', 'M', '', 'M', '', 'M', 'M', 'M', '', 'M', 'M', 'M', 'M', 'M', '', 'M', 'M', 'M', '', 'M', 'M', 'M', 'M', 'M', '', 'M', 'M', 'M', '', 'M', 'M', 'M', '', 'M', 'M', 'M', 'M', 'M', 'M', 'M', 'M', 'M', 'M', '', '', '', 'M', '', '', 'M', 'M', '', '', 'M', '', 'M', 'M', '', '', 'M', 'M', 'M', 'M', '', 'M', '', 'M', '', 'M', '', 'M', 'M', 'M', 'M', 'M', '', 'M', 'M', 'M', '', 'M', 'M', 'M', 'M', '', 'M', 'M', 'M', 'M', '', '', '', 'M', 'M', 'M', 'M', 'M', '', 'M', '', '', 'M', '', '', '', 'M', 'M', 'M', 'M', 'M', 'M', 'M', '', 'M', 'M', 'M', 'M', 'M', 'M', 'M', '', '', '', 'M', 'M', 'M', '', 'M', '', 'M', '', '', '', '', '', 'M', '', '', '', '', 'M', 'M', 'M', 'M', 'M', 'M', 'M', '', '', '', 'M', '', 'M', 'M', 'M', 'M', 'M', 'M', '', 'M', 'M', 'M', 'M', 'M', 'M', 'M', '', 'M', 'M', 'M', 'M', 'M', 'M', 'M', 'M', 'M', 'M', 'M', '', 'M', 'M', '', 'M', 'M', '', '', '', 'M', '', 'M', '', 'M', 'M', 'M', '', 'M', '', '', 'M', 'M', 'M', '', 'M', 'M', 'M', '', '', 'M', 'M', 'M', 'M', 'M', 'M', 'M', 'M', '', 'M', 'M', 'M', 'M', 'M', 'M', 'M', 'M', 'M', 'M', 'M', '', 'M', '', '', 'M', '', '', 'M', 'M', 'M', 'M', '', '', '', 'M', 'M', 'M', 'M', 'M', 'M', '', 'M', '', 'M', '', 'M', '', 'M', '', '', '', 'M', 'M', 'M', 'M', '', '', 'M', 'M', 'M', '', 'M', 'M', 'M', 'M', '', 'M', 'M', '', 'M', '', 'M', 'M', 'M', 'M', 'M', 'M', 'M', '', 'M', '', 'M', 'M', '', '', '', 'M', '', '', 'M', '', 'M', '', 'M', 'M', '', 'M', 'M', 'M', '', 'M', 'M', '', 'M', '', 'M', '', 'M', '', 'M', 'M', 'M', 'M', 'M', 'M', 'M', '', 'M', '', 'M', 'M', '', '', 'M', 'M', '', '', '', '', 'M', 'M', '', 'M', 'M', 'M', 'M', 'M', 'M', '', 'M', 'M', '', 'M', '', 'M', 'M', 'M', 'M', 'M', 'M', 'M', 'M', 'M', 'M', 'M', 'M', '', '', 'M', 'M', 'M', '', 'M', '', 'M', '', 'M', '', 'M', '', 'M', '', '', '', '', '', 'M', '', '', 'M', '', '', 'M', '', 'M', 'M', 'M', '', 'M', '', 'M', '', '', 'M', 'M', '', 'M', 'M', 'M', 'M', '', 'M', '', '', 'M', 'M', '', '', 'M', 'M', 'M', 'M', 'M', '', 'M', '', '', 'M', '', '', '', '', '', 'M', '', 'M', 'M', 'M', '', 'M', 'M', '', 'M', 'M', 'M', '', '', '', '', '', 'M', '', 'M', 'M', '', 'M', 'M', '', 'M', 'M', '', 'M', 'M', 'M', 'M', '', '', 'M', 'M', 'M', '', 'M', 'M', '', 'M', 'M', 'M', '', 'M', '', '', 'M', 'M', 'M', 'M', 'M', '', 'M', '', '', 'M', '', 'M', '', 'M', 'M', 'M', 'M', 'M', 'M', 'M', 'M', 'M', '', 'M', 'M', 'M', '', 'M', '', 'M', 'M', 'M', '', 'M', 'M', 'M', '', '', 'M', 'M', 'M', '', 'M', '', '', '', 'M', 'M', '', '', 'M', 'M', 'M', '', 'M', '', '', '', '', 'M', 'M', '', 'M', '', 'M', 'M', '', '', 'M', '', '', '', 'M', '', 'M', '', 'M', 'M', '', 'M', 'M', 'M', 'M', 'M', 'M', 'M', 'M', '', '', 'M', 'M', '', 'M', '', '', 'M', 'M', 'M', 'F', '', '', 'M', '', '', '', 'M', '', 'M', 'M', 'M', '', '', 'M', 'M', 'M', '', 'M', 'M', 'M', 'M', 'M', 'M', 'M', 'M', '', 'M', '', 'M', '', 'M', 'M', '', 'M', '', '', '', '', '', '', '', 'M', 'M', 'M', '', 'M', 'M', 'M', 'M', 'M', '', 'M', '', '', 'M', '', '', '', '', 'M', 'M', '', '', '', 'M', 'M', '', 'M', '', 'M', '', '', '', 'M', '', '', 'M', 'M', 'M', 'M', 'M', '', '', 'M', 'M', 'M', 'M', '', '', '', '', '', 'M', 'M', 'M', 'M', '', 'M', '', 'M', 'M', '', 'M', '', '', '', '', 'M', 'M', 'M', 'M', '', 'F', 'M', 'M', 'M', 'M', 'M', 'M', '', '', 'M', '', 'M', '', '', '', '', 'M', '', 'M', '', '', '', 'M', 'M', '', '', '', 'M', '', 'M', '', '', '', 'M', 'M', 'M', '', 'M', 'M', 'M', '', '', 'M', 'M', 'M', 'M', 'M', '', 'M', 'M', '', 'M', '', '', 'M', 'M', 'M', 'M', '', 'M', 'M', 'M', '', 'M', 'M', 'M', 'M', 'M', 'M', 'M', 'M', 'M', 'F', 'M', '', 'M', '', 'M', 'M', 'M', 'M', 'M', 'M', 'M', '', 'M', '', 'M', 'M', 'M', 'M', 'M', 'M', 'M', 'M', 'M', 'M', 'M', 'M', '', 'M', 'M', 'M', 'M', 'M', '', 'M', 'M', 'M', 'M', 'M', 'M', 'M', 'M', 'M', 'M', 'M', 'M', 'M', 'M', 'M', 'M', '', 'M', '', '', 'M', 'F', 'M', 'M', 'M', 'M', 'M', 'M', 'M', 'M', 'M', 'M', 'M', 'M', '', 'M', 'M', '', 'M', 'M', '', 'M', 'M', 'M', 'M', 'M', 'M', 'M', 'F', 'M', 'F', 'M', 'F', 'M', 'M', 'F', 'M', 'F', 'M', 'M', 'M', 'M', 'M', '', 'M', 'M', '', '', 'M', 'F', 'M', 'M', '', '', 'M', 'M', 'M', 'M', 'M', 'M', 'M', 'M', 'M', 'M', 'M', 'M', 'M', 'M', 'M', 'M', 'F', 'M', 'M', 'F', 'M', 'M', 'M', 'M', 'M', 'M', 'M', 'M', 'M', 'M', 'M', 'M', 'M', 'F', 'M', 'F', 'M', 'M', 'M', 'M', 'M', 'M', 'M', 'M', 'M', 'M', 'M', 'M', 'M', 'M', 'M', 'M', 'M', 'M', 'M', 'M', 'M', 'M', 'M', 'M', 'M', 'M', 'M', 'M', 'M', 'M', 'M', 'M', 'M', 'M', 'M', 'M', 'M', 'M', 'M', 'M', 'F', 'F', 'M', 'M', 'M', 'M', 'M', 'M', 'F', 'F', 'M', 'M', 'M', 'F', 'M', 'F', 'M', 'F', 'M', 'M', 'M', 'M', 'M', 'M', 'M', 'M', 'M', 'M', 'M', 'M', 'M', 'M', 'M', 'M', 'M', 'M', 'M', 'M', 'M', 'F', 'M', 'M', 'F', 'M', 'M', 'F', 'F', 'M', 'F', 'M', 'F', 'M', 'M', 'F', 'M', 'M', 'M', 'M', 'M', 'M', 'M', 'M', 'M', 'M', 'M', 'M', 'M', 'M', 'F', 'M', 'M', 'M', 'M', 'F', 'M', 'M', 'M', 'M', 'M', 'M', 'M', 'M', 'M', 'M', 'M', 'M', 'M', 'F', 'F', 'M', 'M', 'M', 'M', 'F', 'M', 'M', 'M', 'M', 'M', 'M', 'M', 'M', 'M', 'M', 'M', 'M', 'F', 'M', 'M', 'M', 'M', 'M', 'M', 'M', 'F', 'M', 'M', 'M', 'M', 'M', 'M', 'M', 'F', 'M', 'M', 'M', 'M', 'M', 'F', 'M', 'M', 'M', 'M', 'M', 'M', 'M', 'M', 'M', 'M', 'F', 'M', 'M', 'M', 'F', 'M', 'F', 'M', 'M', 'M', 'M', 'M', 'M', 'M', 'F', 'F', 'M', 'F', 'M', 'M', 'F', 'M', 'M', 'M', 'M', 'M', 'M', 'M', 'M', 'M', 'M', 'M', 'M', 'M', 'M', 'M', 'M', 'M', 'M', 'M', 'M', 'M', 'M', 'M', 'M', 'M', 'M', 'M', 'F', 'M', 'M', 'M', 'M', 'M', 'F', 'M', 'M', 'M', 'M', 'F', 'M', 'M', 'M', 'M', 'M', 'M', 'M', 'M', 'M', 'M', 'M', 'F', 'F', 'M', 'M', 'M', 'M', 'M', 'M', 'M', 'M', 'M', 'M', 'M', 'M', 'M', 'F', 'M', 'M', 'M', 'M', 'M', 'F', 'M', 'M', 'M', 'F', 'M', 'M', 'M', 'M', 'M', 'M', 'M', 'F', 'M', 'F', 'M', 'F', 'M', 'M', 'F', 'M', 'M', 'M', 'M', 'M', 'M', 'M', 'M', 'M', 'M', 'M', 'M', 'M', 'M', 'M', 'F', 'M', 'M', 'M', 'M', 'M', 'M', 'M', 'M', 'M', 'M', 'M', 'M', 'M', 'M', 'F', 'M', 'M', 'M', 'M', 'M', 'M', 'M', 'F', 'M', 'M', 'M', 'M', 'F', 'M', 'M', 'M', 'M', 'F', 'M', 'M', 'M', 'F', 'F', 'M', 'M', 'M', 'F', 'M', 'M', 'M', 'M', 'M', 'M', 'M', 'M', 'M', 'M', 'M', 'M']\n"
     ]
    }
   ],
   "source": [
    "import csv\n",
    "f = open(\"legislators.csv\")\n",
    "legislator = csv.reader(f)\n",
    "legislator = list(legislator)\n",
    "#print(legislator)\n",
    "gender = []\n",
    "for item in legislator:\n",
    "\n",
    "       gender.append(item[3])\n",
    "\n",
    "print(gender)"
   ]
  },
  {
   "cell_type": "code",
   "execution_count": 13,
   "id": "bc1eafad-e439-4720-ab55-b75ddc26a34e",
   "metadata": {},
   "outputs": [
    {
     "name": "stdout",
     "output_type": "stream",
     "text": [
      "[['J. Blackmon', 'JAX', 'Indef.', 'Substance abuse, repeated offense', '', '2014', 'http://espn.go.com/nfl/story/_/id/11257934/justin-blackmon-jacksonville-jaguars-arrested-marijuana-possession'], ['L. Brazill', 'IND', 'Indef.', 'Substance abuse, repeated offense', '', '2014', 'http://www.nfl.com/news/story/0ap2000000364622/article/lavon-brazill-released-by-colts-in-wake-of-suspension'], ['T. Jackson', 'WAS', 'Indef.', 'Substance abuse, repeated offense', '', '2014', 'http://www.nfl.com/news/story/0ap2000000364087/article/tanard-jackson-suspended-Indefiniteinitely-by-nfl'], ['M. Hapes', 'NYG', 'Indef.', 'Personal conduct', 'Gambling-related', '1946', 'http://espn.go.com/blog/nflnation/tag/_/name/frank-filchock'], ['R. Rice', 'BAL', 'Indef.', 'Personal conduct', 'Domestic violence', '2014', 'http://espn.go.com/new-york/nfl/story/_/id/11489134/baltimore-ravens-cut-ray-rice-new-video-surfaces'], ['F. Filchock', 'NYG', '36', 'Personal conduct', 'Gambling-related', '1947', 'http://espn.go.com/blog/nflnation/tag/_/name/frank-filchock'], ['J. Jolly', 'GB', '32', 'Substance abuse, repeated offense', 'Arrest, felony possession of codeine', '2010', 'http://www.nfl.com/news/story/0ap1000000145928/article/johnny-jolly-reinstated-by-nfl-after-Indefiniteinite-suspension'], ['O. Thurman', 'CIN', '32', 'Substance abuse, repeated offense', '', '2008', 'http://www.nfl.com/news/story/09000d5d80864644/article/bengals-release-reinstated-thurman-after-twoyear-suspension'], ['A. Jones', 'TEN', '20', 'Personal conduct', 'Multiple arrests', '2007', 'http://sports.espn.go.com/nfl/news/story?id=2832015'], ['A. Schlichter', 'IND', '16', 'Personal conduct', 'Gambling-related', '1983', 'http://espn.go.com/blog/nflnation/tag/_/name/frank-filchock'], ['D. Stallworth', 'NE', '16', 'Personal conduct', 'DUI manslaughter', '2009', 'http://espn.go.com/blog/nflnation/tag/_/name/frank-filchock'], ['W. Bryant', 'ARI', '16', 'Substance abuse, repeated offense', '', '2005', 'http://www.azcentral.com/sports/cardinals/articles/2009/05/13/20090513cards0514.html'], ['J. Evans', 'TEN', '16', 'Substance abuse, repeated offense', '', '2000', 'http://articles.philly.com/2000-06-21/sports/25602268_1_linebacker-george-koonce-linebacker-na-il-diggs-draft'], ['T. Jackson', 'TB', '16', 'Substance abuse, repeated offense', '', '2012', 'http://www.nfl.com/news/story/0ap2000000364087/article/tanard-jackson-suspended-Indefiniteinitely-by-nfl'], ['D. Washington', 'ARI', '16', 'Substance abuse, repeated offense', 'Marijuana-related', '2014', 'http://www.nfl.com/news/story/0ap2000000354739/article/daryl-washington-suspended-for-at-least-one-year'], ['B. Williams', 'PHI', '16', 'Substance abuse, repeated offense', 'Marijuana-related', '2001', 'http://articles.philly.com/2001-04-05/sports/25330303_1_training-camp-eagles-marijuana'], ['R. Williams', 'MIA', '16', 'Substance abuse, repeated offense', '', '2006', 'http://sports.espn.go.com/nfl/news/story?id=2421774'], ['S. Wilson', 'CIN', '16', 'Substance abuse, repeated offense', 'Cocaine-related', '1989', 'http://www.enquirer.com/editions/1999/01/31/spt_hard_fall_for_man.html'], ['J. Gordon', 'CLE', '16', 'Substance abuse, repeated offense', 'Marijuana-related', '2014', 'http://espn.go.com/nfl/story/_/id/11418388/josh-gordon-cleveland-browns-suspended-one-year'], ['O. Smith', 'MIN', '16', 'Substance abuse, repeated offense', 'Found with dried urine and \"The Original Whizzinator\"', '2005', 'http://sports.espn.go.com/nfl/news/story?id=2079032'], ['K. Robinson', 'GB', '16', 'Substance abuse, repeated offense', '', '2006', 'http://sports.espn.go.com/nfl/news/story?id=2629860'], ['P. Hornung', 'GB', '14', 'Personal conduct', 'Gambling-related', '   ', 'http://espn.go.com/blog/nflnation/tag/_/name/frank-filchock'], ['A. Karras', 'DET', '14', 'Personal conduct', 'Gambling-related', '1963', 'http://www.usatoday.com/story/sports/nfl/lions/2012/10/10/alex-karras-obituary-detroit-lions/1623419/'], ['J. Brent', 'DAL', '10', 'Personal conduct', 'DUI manslaughter', '2014', 'http://www.nfl.com/news/story/0ap3000000388413/article/dallas-cowboys-josh-brent-suspended-10-weeks'], ['D. Evans', 'SEA', '8', 'PEDs, repeated offense', '', '2013', 'http://www.nfl.com/news/story/0ap1000000236542/article/dequin-evans-suspended-eight-bengals-games-for-peds'], ['J. Ferguson', 'FREE', '8', 'PEDs, repeated offense', '', '2010', 'http://sports.espn.go.com/nfl/news/story?id=4973457'], ['A. Jackson', 'BAL', '8', 'PEDs, repeated offense', '', '2013', 'http://www.nfl.com/news/story/0ap1000000225102/article/ravens-asa-jackson-banned-8-games-for-violating-ped-policy'], ['W. Saunders', 'IND', '8', 'PEDs, repeated offense', '', '2013', 'http://espn.go.com/nfl/story/_/id/9509539/indianapolis-colts-release-weslye-saunders'], ['H. Thomas', 'FREE', '8', 'PEDs, repeated offense', '', '2010', 'http://profootballtalk.nbcsports.com/2010/07/01/hollis-thomas-career-could-end-with-suspension/'], ['R. Tucker', 'CLE', '8', 'PEDs, repeated offense', '', '2010', 'http://profootballtalk.nbcsports.com/2010/03/07/ryan-tucker-jason-ferguson-suspended-eight-games-each/'], ['C. Henry', 'CIN', '8', 'Personal conduct', 'Multiple arrests', '2007', 'http://sports.espn.go.com/nfl/news/story?id=2832015'], ['T. Johnson', 'BAL', '8', 'Personal conduct', 'Arrest, possession of weapon', '2006', 'http://profootballtalk.nbcsports.com/2014/06/24/artist-formerly-known-as-tank-johnson-friends-with-roger-goodell/'], ['J. Blackmon', 'JAX', '8', 'Substance abuse, repeated offense', '', '2013', 'http://www.cbssports.com/nfl/eye-on-football/24171316/jaguars-wr-justin-blackmon-suspended-for-the-rest-of-2013-season'], ['T. Couch', 'JAX', '6', 'PEDs', '', '2007', 'http://www.nytimes.com/2007/10/05/sports/football/05nfl.html'], ['K. Lang', 'DEN', '6', 'PEDs', '', '2007', 'http://www.nytimes.com/2007/10/05/sports/football/05nfl.html'], ['R. McBean', 'DEN', '6', 'PEDs', 'Alleged \"non-human\" urine in system', '2012', 'http://espn.go.com/nfl/story/_/id/7667289/denver-broncos-dj-williams-ryan-mcbean-virgil-green-suspended'], ['D.J. Williams', 'DEN', '6', 'PEDs', 'Alleged \"non-human\" urine in system', '2012', 'http://espn.go.com/nfl/story/_/id/7667289/denver-broncos-dj-williams-ryan-mcbean-virgil-green-suspended'], ['W. Hill', 'NYG', '6', 'Substance abuse, repeated offense', '', '2014', 'http://espn.go.com/new-york/nfl/story/_/id/11007693/will-hill-new-york-giants-suspended-six-games-violating-nfl-substance-abuse-policy'], ['A. Haynesworth', 'TEN', '5', 'In-game violence', 'Stomping on player', '2006', 'http://sports.espn.go.com/nfl/news/story?id=2610577'], ['B. Sochia', 'MIA', '5', 'PEDs', '', '1990', 'http://articles.sun-sentinel.com/1990-08-24/sports/9002100425_1_alfred-oglesby-shula-brian-sochia'], ['T. Pryor', 'OAK', '5', 'Personal conduct', 'Improper gifts while in college', '2011', 'http://espn.go.com/nfl/story/_/id/7040047/nfl-upholds-terrelle-pryor-5-game-ban-cites-integrity'], ['M. Ariey', 'GB', '4', 'PEDs', '', '1989', 'http://www.utsandiego.com/uniontrib/20080921/news_1s21nfl89.html'], ['O. Ayanbadejo', 'CHI', '4', 'PEDs', '', '2007', 'http://sports.espn.go.com/nfl/news/story?id=2967677'], ['S. Bailey', 'STL', '4', 'PEDs', '', '2014', 'http://www.nfl.com/news/story/0ap2000000349785/article/st-louis-rams-stedman-bailey-suspended-four-games'], ['A. Barbre', 'CAR', '4', 'PEDs', '', '2012', 'http://seattletimes.com/html/localnews/2018272778_apfbnseahawksbarbresuspended.html'], ['T. Bennett', 'DET', '4', 'PEDs', '', '2001', 'http://articles.latimes.com/2001/dec/15/sports/sp-15083'], ['J. Black', 'WAS', '4', 'PEDs', '', '2012', 'http://www.nfl.com/news/story/0ap1000000113061/article/jordan-black-of-redskins-suspended-four-games-for-peds'], ['D. Blackstock', 'CIN', '4', 'PEDs', '', '2008', 'http://sports.espn.go.com/nfl/news/story?id=3631111'], ['B. Bolden', 'BAL', '4', 'PEDs', '', '2012', 'http://www.nfl.com/news/story/0ap1000000092510/article/brandon-bolden-suspended-for-violating-drug-policy'], ['D. Boston', 'MIA', '4', 'PEDs', '', '2004', 'http://sports.espn.go.com/nfl/news/story?id=1939250'], ['D. Bowe', 'KC', '4', 'PEDs', '', '2009', 'http://sports.espn.go.com/nfl/news/story?id=4663877'], ['D. Brown', 'HOU', '4', 'PEDs', '', '2012', 'http://sports.espn.go.com/nfl/news/story?id=5600928'], ['G. Brown', 'WAS', '4', 'PEDs', '', '2014', 'http://www.nfl.com/news/story/0ap2000000051195/article/garrett-brown-of-san-diego-chargers-suspended-four-games'], ['R. Buchanan', 'JAX', '4', 'PEDs', '', '2002', 'http://a.espncdn.com/nfl/news/2002/0911/1430323.html'], ['B. Buckner', 'CAR', '4', 'PEDs', '', '2003', 'http://a.espncdn.com/nfl/columns/pasquarelli_len/1455668.html'], ['T. Burse', 'SEA', '4', 'PEDs', '', '1989', 'http://articles.chicagotribune.com/1989-08-30/sports/8901090097_1_steroid-drug-policy-league-spokesman-joe-browne'], ['L. Bush', 'KC', '4', 'PEDs', '', '2002', 'http://a.espncdn.com/nfl/columns/pasquarelli_len/1457788.html'], ['B. Chamberlain', 'MIN', '4', 'PEDs', '', '2003', 'http://a.espncdn.com/nfl/news/2003/0711/1579603.html'], ['J. Chatman', 'NYJ', '4', 'PEDs', '', '2012', 'http://www.nfl.com/news/story/09000d5d80a65c4c/article/chatman-suspended-four-games-for-violating-nfls-steroids-policy'], ['M. Cloud', 'KC', '4', 'PEDs', '', '2003', 'http://a.espncdn.com/nfl/columns/pasquarelli_len/1529903.html'], ['J. Cooper', 'OAK', '4', 'PEDs', '', '2007', 'http://sports.espn.go.com/nfl/news/story?id=2949591'], ['S. Cooper', 'SD', '4', 'PEDs', '', '2008', 'http://sports.espn.go.com/nfl/news/story?id=3348671'], ['J. Cunningham', 'NE', '4', 'PEDs', '', '2012', 'http://espn.go.com/boston/nfl/story/_/id/8679955/jermaine-cunningham-new-england-patriots-suspended-four-games-violating-nfl-policy-performance-enhancing-substances'], ['B. Cushing', 'HOU', '4', 'PEDs', '', '2010', 'http://sports.espn.go.com/nfl/news/story?id=5172060'], ['S. Davis', 'ARI', '4', 'PEDs', '', '1997', 'http://www.apnewsarchive.com/1997/Falcons-guard-Scott-Davis-suspended-by-NFL-for-steroid-abuse/id-1e82e1a0780f24c6559a167118382f28'], ['T. Doctor', 'BUF', '4', 'PEDs', '', '1989', 'http://www.utsandiego.com/sports/nfl/20080921-9999-1s21list.html'], ['S. Doctor', 'BUF', '4', 'PEDs', '', '1989', 'http://www.nytimes.com/1989/08/30/sports/nfl-bans-15-for-drugs-or-steroids.html'], ['M. Douglass', 'DET', '4', 'PEDs', '', '1989', 'http://www.utsandiego.com/uniontrib/20080921/news_1s21nfl89.html'], ['J. Dunbar', 'STL', '4', 'PEDs', '', '2013', 'http://www.nfl.com/news/story/0ap1000000229913/article/st-louis-rams-jolonn-dunbar-suspended-four-games'], ['R. Edwards', 'MIN', '4', 'PEDs', '', '2007', 'http://www.twincities.com/ci_7641964?source=rss'], ['B. Eldridge', 'STL', '4', 'PEDs', '', '2012', 'http://www.nfl.com/news/story/09000d5d82a4a506/article/brody-eldridge-st-louis-rams-te-suspended-four-games'], ['L. Flowers', 'DEN', '4', 'PEDs', '', '2004', 'http://sports.espn.go.com/nfl/news/story?id=1585992'], ['E. Gant', 'CIN', '4', 'PEDs', '', '2010', 'http://blog.azcardinals.com/2010/06/21/gant-suspended-four-games/'], ['D. Graham', 'HOU', '4', 'PEDs', '', '2002', 'http://www.nytimes.com/2002/12/19/sports/nfl-texans-lineman-suspended.html'], ['L. Grant', 'FREE', '4', 'PEDs', '', '2013', 'http://www.nfl.com/news/story/0ap1000000161912/article/larry-grant-suspended-four-games-for-violating-nfl-drug-policy'], ['V. Green', 'SD', '4', 'PEDs', '', '2012', 'http://espn.go.com/nfl/story/_/id/7667289/denver-broncos-dj-williams-ryan-mcbean-virgil-green-suspended'], ['S. Gregory', 'NYJ', '4', 'PEDs', '', '2010', 'http://sports.espn.go.com/nfl/news/story?id=5648428'], ['C. Griffin', 'WAS', '4', 'PEDs', '', '2012', 'http://espn.go.com/nfl/story/_/id/8709862/cedric-griffin-washington-redskins-suspended-four-games'], ['W. Guy', 'SEA', '4', 'PEDs', '', '2012', 'http://www.nfl.com/news/story/0ap1000000098505/article/winston-guy-of-seahawks-suspended-for-illegal-substances'], ['J. Haden', 'CLE', '4', 'PEDs', '', '2012', 'http://www.nfl.com/news/story/0ap1000000060490/article/joe-haden-of-cleveland-browns-suspended-four-games'], ['A. Hall', 'TEN', '4', 'PEDs', '', '2011', 'http://espn.go.com/nfl/story/_/id/6927311/tennessee-titans-ahmard-hall-suspended-4-games-nfl'], ['J. Hanson', 'PHI', '4', 'PEDs', '', '2009', 'http://sports.espn.go.com/nfl/news/story?id=4645055'], ['J. Hawley', 'ATL', '4', 'PEDs', '', '2012', 'http://www.nfl.com/news/story/0ap1000000097773/article/joe-hawley-of-atlanta-falcons-suspended-four-games-by-nfl'], ['K. Henderson', 'SF', '4', 'PEDs', '', '1989', 'http://www.nytimes.com/1989/08/30/sports/nfl-bans-15-for-drugs-or-steroids.html'], ['C. Henry', 'TEN', '4', 'PEDs', '', '2007', 'http://www.utsandiego.com/sports/nfl/20080921-9999-1s21list.html'], ['W. Hill', 'NYG', '4', 'PEDs', '', '2012', 'http://www.nfl.com/news/story/0ap1000000078540/article/will-hill-suspended-by-nfl-for-violating-ped-policy'], ['A. Holmes', 'OAK', '4', 'PEDs', '', '2013', 'http://www.cbssports.com/nfl/eye-on-football/22915004/raiders-wr-andre-holmes-suspended-for-ped-violation'], ['B. Irvin', 'DET', '4', 'PEDs', '', '2013', 'http://espn.go.com/nfl/story/_/id/9287069/bruce-irvin-seattle-seahawks-suspended-four-games'], ['A. Jackson', 'BAL', '4', 'PEDs', '', '2012', 'http://www.nfl.com/news/story/0ap1000000225102/article/ravens-asa-jackson-banned-8-games-for-violating-ped-policy'], ['R. James', 'ATL', '4', 'PEDs', '', '2010', 'http://sports.espn.go.com/nfl/news/story?id=5364259'], ['M. Jaworski', 'BUF', '4', 'PEDs', '', '1989', 'http://www.nytimes.com/1989/08/30/sports/nfl-bans-15-for-drugs-or-steroids.html'], ['J. Jenkins', 'WAS', '4', 'PEDs', '', '2013', 'http://www.nfl.com/news/story/0ap1000000221583/article/redskins-jarvis-jenkins-suspended-4-games-for-peds'], ['T. Jervey', 'SF', '4', 'PEDs', '', '1999', 'http://www.sfgate.com/sports/article/49ers-Notebook-Jervey-Suspended-for-Steroid-Use-2901850.php'], ['L. Johnson', 'PHI', '4', 'PEDs', '', '2014', 'http://www.nfl.com/news/story/0ap2000000367649/article/eagles-lane-johnson-suspended-four-games-for-peds'], ['D. Jordan', 'MIA', '4', 'PEDs', '', '2014', 'http://www.nfl.com/news/story/0ap2000000363402/article/dion-jordan-suspended-four-games-for-ped-violation'], ['J. Kennedy', 'NYG', '4', 'PEDs', '', '2011', 'http://espn.go.com/new-york/nfl/story/_/id/7089792/new-york-giants-dt-jimmy-kennedy-suspended-nfl'], ['V. Kirk', 'STL', '4', 'PEDs', '', '1989', 'http://articles.latimes.com/1989-08-30/sports/sp-1284_1_nfl-suspends'], ['J. Knott', 'PHI', '4', 'PEDs', '', '2014', 'http://www.nfl.com/news/story/0ap2000000339592/article/jake-knott-suspended-for-violating-substance-abuse-policy'], ['L. Lawton', 'OAK', '4', 'PEDs', '', '2009', 'http://sports.espn.go.com/nfl/news/story?id=4771154'], ['M. Lehr', 'ATL', '4', 'PEDs', '', '2006', 'http://sports.espn.go.com/nfl/news/story?id=2629991'], ['T. Lewis', 'WAS', '4', 'PEDs', '', '2011', 'http://www.washingtonpost.com/blogs/football-insider/post/report-redskins-trent-williams-and-fred-davis-to-be-suspended-for-four-games/2011/12/04/gIQAZJ6tSO_blog.html'], ['D. Love', 'MIN', '4', 'PEDs', '', '2013', 'http://www.cbssports.com/nfl/eye-on-football/22974075/vikings-ol-demarcus-love-suspended-for-ped-violation'], ['D. Lutui', 'TEN', '4', 'PEDs', '', '2013', 'http://www.nfl.com/news/story/0ap1000000150698/article/deuce-lutui-suspended-by-nfl-for-drug-violation'], ['A. Madise', 'DEN', '4', 'PEDs', '', '2005', 'http://sports.espn.go.com/nfl/news/story?id=1974527'], ['R. Mathis', 'IND', '4', 'PEDs', '', '2014', 'http://www.nfl.com/news/story/0ap2000000350988/article/colts-robert-mathis-suspended-four-games-for-ped'], ['G. McRath', 'TEN', '4', 'PEDs', '', '2010', 'http://sports.espn.go.com/nfl/news/story?id=5285379'], ['S. Merriman', 'SD', '4', 'PEDs', '', '2006', 'http://sports.espn.go.com/nfl/news/story?id=2635475'], ['G. Miller', 'CHI', '4', 'PEDs', '', '2013', 'http://www.nfl.com/news/story/0ap1000000209177/article/chicago-bears-gabe-miller-evan-rodriguez-apologize'], ['J. Miller', 'CHI', '4', 'PEDs', '', '1999', 'http://www.nytimes.com/1999/12/02/sports/pro-football-bears-lose-miller-to-steroid-suspension.html'], ['N. Miller', 'STL', '4', 'PEDs', '', '2012', 'http://profootball.scout.com/story/1159088-nick-miller-suspended-four-games'], ['D. Moch', 'CIN', '4', 'PEDs', '', '2012', 'http://espn.go.com/nfl/story/_/id/8048956/dontay-moch-cincinnati-bengals-suspended-four-games-peds'], ['J. Moffitt', 'CLE', '4', 'PEDs', '', '2011', 'http://seattletimes.com/html/seahawksblog/2016949836_seahawksrookiejohnmoffittsuspendedforperformanceenhancingdrugs.html'], ['E. Moore', 'NYG', '4', 'PEDs', '', '1993', 'http://www.nytimes.com/1993/07/30/sports/pro-football-giants-moore-faces-ban-by-nfl.html'], ['S. Morris', 'MIA', '4', 'PEDs', '', '2006', 'http://sports.espn.go.com/nfl/news/story?id=2568282'], ['M. Neal', 'GB', '4', 'PEDs', '', '2012', 'http://espn.go.com/nfl/story/_/id/7682945/nfl-suspends-mike-neal-green-bay-packers-1st-four-games'], ['S. Nealy', 'MIN', '4', 'PEDs', '', '2014', 'http://espn.go.com/nfl/story/_/id/11204290/spencer-nealy-minnesota-vikings-suspended-four-games-ped-use'], ['A. Neblett', 'CAR', '4', 'PEDs', '', '2012', 'http://www.nfl.com/news/story/09000d5d82aa5c20/article/andre-neblett-suspended-four-games-for-ped-violation'], ['K. Newman', 'ATL', '4', 'PEDs', '', '2003', 'http://sports.espn.go.com/espn/wire?id=1606334'], ['A. Odom', 'CIN', '4', 'PEDs', '', '2010', 'http://sports.espn.go.com/nfl/news/story?id=5687593'], ['C. Pace', 'NYJ', '4', 'PEDs', '', '2009', 'http://sports.espn.go.com/nfl/news/story?id=4303126'], ['J. Peppers', 'CAR', '4', 'PEDs', '', '2002', 'http://www.nytimes.com/2002/12/04/sports/pro-football-peppers-to-serve-four-game-suspension.html'], ['K. Peterson', 'DEN', '4', 'PEDs', '', '2007', 'http://www.denverpost.com/ci_6314165'], ['L. Petitgout', 'TB', '4', 'PEDs', '', '2008', 'http://tbo.com/sports/sports/2008/aug/20/sp-petitgout-violated-nfl-steroids-policy-ar-136563/'], ['A. Pettis', 'STL', '4', 'PEDs', '', '2014', 'http://www.foxsports.com/nfl/story/St-Louis-Rams-wide-receiver-Austin-Pettis-suspended-four-games-for-NFL-drug-policy-violation-122111?gt1=39002'], ['A. Pinnock', 'SD', '4', 'PEDs', '', '2004', 'http://www.utsandiego.com/news/2004/Nov/10/chargers-fullback-andrew-pinnock-suspended-for/'], ['R. Putzier', 'SF', '4', 'PEDs', '', '1989', 'http://articles.latimes.com/1989-08-30/sports/sp-1284_1_nfl-suspends'], ['R. Razzano', 'TB', '4', 'PEDs', '', '2005', 'http://sports.espn.go.com/espn/wire?section=nfl&id=2163692'], ['L. Reynolds', 'JAX', '4', 'PEDs', '', '2013', 'http://espn.go.com/nfl/story/_/id/9967595/laroy-reynolds-jacksonville-jaguars-suspended-4-games-positive-test'], ['G. Robinson', 'ARI', '4', 'PEDs', '', '2012', 'http://profootballtalk.nbcsports.com/2012/09/22/gerell-robinson-gets-four-game-suspension/'], ['S. Rogers', 'DET', '4', 'PEDs', '', '2006', 'http://sports.espn.go.com/nfl/news/story?id=2630061'], ['T. Sash', 'NYG', '4', 'PEDs', '', '2012', 'http://espn.go.com/new-york/nfl/story/_/id/8219721/tyler-sash-new-york-giants-suspended-four-games'], ['T. Sauerbrun', 'DEN', '4', 'PEDs', '', '2006', 'http://sports.espn.go.com/nfl/news/story?id=2512355'], ['Q. Saulsberry', 'DEN', '4', 'PEDs', '', '2012', 'http://www.nfl.com/news/story/0ap1000000217875/article/quentin-saulsberry-of-denver-broncos-had-dui-arrest'], ['O. Scandrick', 'DAL', '4', 'PEDs', 'MDMA', '2014', 'http://espn.go.com/dallas/nfl/story/_/id/11341354/orlando-scandrick-dallas-cowboys-suspended-four-games-performance-enhancing-drugs'], ['S. Shanle', 'STL', '4', 'PEDs', '', '2003', 'http://www.utsandiego.com/sports/nfl/20080921-9999-1s21list.html'], ['D. Shelton', 'CHI', '4', 'PEDs', '', '2002', 'http://www.nytimes.com/2001/10/07/sports/pro-football-notebook-nfl-is-seeing-fewer-flaws-in-testing-players-for-drugs.html'], ['T.J. Slaughter', 'JAX', '4', 'PEDs', '', '2002', 'http://articles.orlandosentinel.com/2002-09-07/sports/0209070474_1_slaughter-coleman-tennessee-titans'], ['R. Solt', 'PHI', '4', 'PEDs', '', '1989', 'http://www.nytimes.com/1989/08/30/sports/nfl-bans-15-for-drugs-or-steroids.html'], ['B. Spikes', 'NE', '4', 'PEDs', '', '2010', 'http://sports.espn.go.com/boston/nfl/news/story?id=5906897'], ['S. Springs', 'SEA', '4', 'PEDs', '', '2001', 'http://articles.philly.com/2001-11-28/sports/25320203_1_seahawks-springs-lamar-chapman-browns-president-carmen-policy'], ['J. Steed', 'PIT', '4', 'PEDs', '', '1995', 'http://articles.chicagotribune.com/1995-10-24/sports/9510240320_1_nose-tackle-joel-steed-bernard-williams-nfl'], ['M. Stevens', 'PHI', '4', 'PEDs', '', '1997', 'http://articles.philly.com/2014-07-02/sports/51005838_1_lane-johnson-groveton-linebacker-jake-knott'], ['M. Stroud', 'JAX', '4', 'PEDs', '', '2007', 'http://sports.espn.go.com/nfl/news/story?id=3088185'], ['A. Talib', 'TB', '4', 'PEDs', '', '2012', 'http://www.nfl.com/news/story/0ap1000000079902/article/aqib-talib-of-buccaneers-suspended-four-games-for-adderall-use'], ['H. Taylor', 'CHI', '4', 'PEDs', '', '1999', 'http://www.nytimes.com/2001/10/07/sports/pro-football-notebook-nfl-is-seeing-fewer-flaws-in-testing-players-for-drugs.html'], ['H. Thomas', 'NO', '4', 'PEDs', '', '2006', 'http://sports.espn.go.com/nfl/news/story?id=2687451'], ['J. Thomas', 'IND', '4', 'PEDs', '', '2011', 'http://espn.go.com/nfl/story/_/id/7062953/indianapolis-colts-guard-jaime-thomas-banned-4-games-violating-steroid-policy'], ['R. Tucker', 'CLE', '4', 'PEDs', '', '2007', 'http://www.nfl.com/news/story/09000d5d8012fe77/article/browns-offensive-lineman-ryan-tucker-suspended-4-games-for-violating-nfl-steroid-policy'], ['K. Uecker', 'GB', '4', 'PEDs', '', '1989', 'http://www.nytimes.com/1989/08/30/sports/nfl-bans-15-for-drugs-or-steroids.html'], ['A. Ulmer', 'MIN', '4', 'PEDs', '', '1997', 'http://www.apnewsarchive.com/1997/Vikings-rookie-suspended-for-steroid-use/id-6fa45c120b20b6e4d035442c8a62da30'], ['J. Waddy', 'GB', '4', 'PEDs', '', '1998', 'http://a.espncdn.com/nfl/columns/pasquarelli_len/1403350.html'], ['J. Welbourn', 'KC', '4', 'PEDs', '', '2005', 'http://sports.espn.go.com/nfl/columns/story?columnist=pasquarelli_len&id=2150559'], ['L. West', 'NYG', '4', 'PEDs', '', '1999', 'http://static.espn.go.com/nfl/news/1999/1201/205894.html'], ['P. Wiggins', 'PIT', '4', 'PEDs', '', '1998', 'http://alb.merlinone.net/mweb/wmsql.wm.request?oneimage&imageid=5942417'], ['B. Williams', 'CIN', '4', 'PEDs', '', '2014', 'http://www.foxsports.com/nfl/story/Cincinnati-Bengals-Bobbie-Williams-suspension-substance-abuse-policy-090311?utm_source=feedburner&utm_medium=feed&utm_campaign=Feed%3A+foxsports%2FRSS%2FNFL+(FOXSports.com+News+for+NFL)'], ['K. Winslow', 'NYJ', '4', 'PEDs', '', '2013', 'http://www.nfl.com/news/story/0ap2000000260647/article/kellen-winslow-suspended-4-games-for-ped-violation'], ['E. Wright', 'TB', '4', 'PEDs', '', '2012', 'http://espn.go.com/nfl/story/_/id/8680228/eric-wright-tampa-bay-buccaneers-suspended-4-games'], ['F. Wycheck', 'WAS', '4', 'PEDs', '', '1994', 'http://articles.philly.com/1994-11-30/sports/25868967_1_frank-wycheck-steroids-nfl-policy'], ['T. Zbikowski', 'FREE', '4', 'PEDs', '', '2013', 'http://espn.go.com/nfl/story/_/id/9660103/nfl-suspends-free-agents-tom-zbikowski-brandon-mcdonald'], ['L. Ziemba', 'CAR', '4', 'PEDs', '', '2012', 'http://blogs.charlotte.com/panthers/2012/10/ziemba-suspended-4-games-for-violating-ped-policy.html'], ['W. Welker', 'DEN', '4', 'PEDs', '', '2014', 'http://www.usatoday.com/story/sports/nfl/broncos/2014/09/02/wes-welker-suspended-four-games-amphetamine-denver/14992795/'], ['J. Allen', 'KC', '4', 'Personal conduct', 'DUI arrest, multiple', '2007', 'http://sports.espn.go.com/nfl/news/story?id=2851494'], ['J. Cooper', 'CAR', '4', 'Personal conduct', 'DUI arrest, drugs', '2003', 'http://www.usatoday.com/sports/nfl/arrests/all/car/all/'], ['M. Goodson', 'NYJ', '4', 'Personal conduct', 'Arrest, possession of weapon and marijuana', '2013', 'http://espn.go.com/new-york/nfl/story/_/id/9603404/mike-goodson-new-york-jets-suspended-4-games'], ['C. Henry', 'CIN', '4', 'Personal conduct', 'Mulitple arrests', '2007', 'http://www.nfl.com/news/story/09000d5d80b58799/article/bengals-wr-henry-activated-after-serving-fourgame-suspension'], ['B. McKinnie', 'MIN', '4', 'Personal conduct', 'Accused of disorderly conduct, resisting arrest', '2008', 'http://sports.espn.go.com/nfl/news/story?id=3560135'], ['B. Roethlisberger', 'PIT', '4', 'Personal conduct', 'Sexual assault', '2012', 'http://www.nfl.com/news/story/09000d5d81a3eb23/article/goodell-reduces-roethlisbergers-suspension-to-four-games'], ['E. Warfield', 'KC', '4', 'Personal conduct', 'DUI arrest, multiple', '2005', 'http://sports.espn.go.com/nfl/columns/story?columnist=pasquarelli_len&id=2106473'], ['M. Prater', 'DEN', '4', 'Substance abuse', 'Alcohol-related', '2014', 'http://www.nfl.com/news/story/0ap3000000383065/article/broncos-matt-prater-will-be-suspended-four-games'], ['F. Alexander', 'HOU', '4', 'Substance abuse', '', '2014', 'http://espn.go.com/nfl/story/_/id/10873670/de-frank-alexander-carolina-panthers-suspended-four-games-violating-nfl-substance-abuse-policy'], ['J. Blackmon', 'JAX', '4', 'Substance abuse', '', '2013', 'http://thebiglead.com/2013/04/30/justin-blackmon-of-the-jaguars-suspended-for-4-games-for-violating-league-policy-on-substance-abuse/'], ['L. Brazill', 'IND', '4', 'Substance abuse', '', '2013', 'http://www.nfl.com/news/story/0ap1000000214428/article/lavon-brazill-suspended-for-violating-substance-policy'], ['B. Collins', 'MIA', '4', 'Substance abuse', '', '2013', 'http://www.nfl.com/news/story/0ap1000000214394/article/brandon-collins-banned-for-violating-substance-policy'], ['F. Davis', 'WAS', '4', 'Substance abuse', 'Marijuana-related', '2011', 'http://www.cbssports.com/nfl/eye-on-football/24448694/redskins-te-fred-davis-suspended-Indefiniteinitely-by-nfl'], ['J. Ferguson', 'NYJ', '4', 'Substance abuse', '', '1999', 'http://sports.espn.go.com/nfl/news/story?id=4973457'], ['W. Green', 'CLE', '4', 'Substance abuse', 'Marijuana-related', '2003', 'http://sports.espn.go.com/nfl/news/story?id=1665738'], ['R. Harrison', 'NE', '4', 'Substance abuse', '', '2007', 'http://sports.espn.go.com/nfl/news/story?id=2999994'], ['W. Hill', 'NYG', '4', 'Substance abuse', 'Marijuana-related', '2013', 'http://espn.go.com/new-york/nfl/story/_/id/11007693/will-hill-new-york-giants-suspended-six-games-violating-nfl-substance-abuse-policy'], ['S. Holmes', 'NYJ', '4', 'Substance abuse', '', '2010', 'http://sports.espn.go.com/new-york/nfl/news/story?id=5077088'], ['J. Hosley', 'TEN', '4', 'Substance abuse', '', '2014', 'http://www.nfl.com/news/story/0ap2000000355977/article/giants-jayron-hosley-suspended-for-four-games'], ['R. Jackson', 'WAS', '4', 'Substance abuse', '', '2013', 'http://www.nfl.com/news/story/0ap1000000152373/article/washington-redskins-lb-rob-jackson-suspended-four-games'], ['T. Jackson', 'TB', '4', 'Substance abuse', '', '2009', 'http://www.nfl.com/news/story/0ap2000000364087/article/tanard-jackson-suspended-Indefiniteinitely-by-nfl'], ['J. James', 'ARI', '4', 'Substance abuse', '', '2013', 'http://profootballtalk.nbcsports.com/2013/02/13/javarris-james-suspended-four-games/'], ['V. Miller', 'DEN', '4', 'Substance abuse', 'Marijuana-related', '2013', 'http://www.denverpost.com/ci_23711440/broncos-star-von-miller-suspended-four-games-by'], ['O. Mobley', 'DEN', '4', 'Substance abuse', '', '1989', 'http://articles.chicagotribune.com/1989-08-30/sports/8901090097_1_steroid-drug-policy-league-spokesman-joe-browne'], ['B. Moore', 'WAS', '4', 'Substance abuse', '', '2014', 'http://www.cbssports.com/nfl/eye-on-football/24519089/redskins-de-brandon-moore-suspended-4-games'], ['S. Nelson', 'BUF', '4', 'Substance abuse', '', '2010', 'http://www.buffalobills.com/news/article-3/TE-Nelson-suspended-for-first-four-games/b4507a26-f7ac-4bf9-9cf7-c47b2f079781'], ['B. Reed', 'PIT', '4', 'Substance abuse', '', '2013', 'http://www.behindthesteelcurtain.com/2013/7/19/4537156/former-steelers-receiver-bert-reed-suspended-four-games'], ['D. Robinson', 'CAR', '4', 'Substance abuse', '', '2010', 'http://sports.espn.go.com/nfl/news/story?id=5906973'], ['A. Sanders', 'JAX', '4', 'Substance abuse', '', '2014', 'http://espn.go.com/nfl/story/_/id/11249916/ace-sanders-jacksonville-jaguars-takes-leave-suspension-looming'], ['V. Taua', 'SEA', '4', 'Substance abuse', '', '2013', 'http://seattletimes.com/html/seahawks/2022327022_seahawks25xml.html'], ['C. Thompson', 'BAL', '4', 'Substance abuse', '', '2013', 'http://www.nfl.com/news/story/0ap1000000156390/article/christian-thompson-suspended-by-nfl-for-substance-abuse'], ['W. Thurmond', 'SEA', '4', 'Substance abuse', '', '2013', 'http://www.nfl.com/news/story/0ap2000000286330/article/walter-thurmond-to-drop-appeal-of-4game-suspension'], ['D. Washington', 'ARI', '4', 'Substance abuse', '', '2012', 'http://www.nfl.com/news/story/0ap2000000354739/article/daryl-washington-suspended-for-at-least-one-year'], ['R. Watkins', 'KC', '4', 'Substance abuse', '', '2014', 'http://espn.go.com/nfl/story/_/id/11173854/rokevious-watkins-kansas-city-chiefs-suspended-four-games-violating-nfl-substance-abuse-policy'], ['L. White', 'FREE', '4', 'Substance abuse', '', '2010', 'http://www.nfl.com/news/story/09000d5d818ee863/article/nfl-reveals-fourgame-ban-for-white-eightgamer-for-thomas'], ['R. Williams', 'MIA', '4', 'Substance abuse', '', '2005', 'http://sports.espn.go.com/nfl/news/story?id=2421774'], ['B. Browner', 'SEA', '4', 'Substance abuse, repeated offense', '', '2013', 'http://profootballtalk.nbcsports.com/2014/03/05/browner-is-reinstated-with-four-game-suspension/'], ['J. Lewis', 'BAL', '4', 'Substance abuse, repeated offense', '', '2004', 'http://sports.espn.go.com/nfl/columns/story?columnist=pasquarelli_len&id=1279780'], ['A. Smith', 'HOU', '3', 'In-game violence', \"Ripping off opponent's helmet\", '2013', 'http://www.nfl.com/news/story/0ap1000000233139/article/houston-texans-de-antonio-smiths-suspension-appeal-denied'], ['V. Amoia', 'NO', '3', 'PEDs', '', '1989', 'http://www.nytimes.com/1989/08/30/sports/two-suspended-jets-are-out-of-a-job.html'], ['J. Brandom', 'ARI', '3', 'PEDs', '', '1990', 'http://articles.latimes.com/1990-08-14/sports/sp-693_1_offensive-linemen'], ['L. Cheek', 'DAL', '3', 'PEDs', '', '1990', 'http://www.nytimes.com/1990/08/17/sports/drug-suspension-for-bax-of-bucs.html'], ['B. Hartmann', 'WAS', '3', 'PEDs', '', '2012', 'http://profootballtalk.nbcsports.com/2012/05/22/hartmann-explains-his-three-game-suspension/'], ['M. Mraz', 'LA', '3', 'PEDs', '', '1989', 'http://articles.latimes.com/1989-08-30/sports/sp-1284_1_nfl-suspends'], ['B. Riley', 'NYJ', '3', 'PEDs', '', '1989', 'http://www.nytimes.com/1989/08/30/sports/two-suspended-jets-are-out-of-a-job.html'], ['C. Benson', 'DEN', '3', 'Personal conduct', 'Misdemeanour assault', '2014', 'http://www.foxsports.com/nfl/story/Cincinnati-Bengals-RB-Cedric-Benson-suspended-three-games-092211'], ['A. Berry', 'CLE', '3', 'Personal conduct', 'DUI arrest', '2012', 'http://www.nfl.com/news/story/0ap1000000052406/article/aaron-berry-gets-3game-nfl-suspension-for-arrests'], ['J. Felton', 'CAR', '3', 'Personal conduct', 'Reckless driving', '2013', 'http://www.nfl.com/news/story/0ap1000000234517/article/minnesota-vikings-jerome-felton-suspended-3-games'], ['C. Haggans', 'WAS', '3', 'Personal conduct', 'DUI arrest', '2013', 'http://www.mercurynews.com/49ers/ci_21575932/san-francisco-49ers-linebacker-clark-haggans-suspended?source=rss_viewed'], ['V. Jackson', 'SD', '3', 'Personal conduct', 'DUI arrest', '2010', 'http://sports.espn.go.com/nfl/news/story?id=5345629'], ['D. Jarrett', 'CAR', '3', 'Personal conduct', 'DUI arrest', '2012', 'http://www.nfl.com/news/story/09000d5d829ad13c/article/dwayne-jarrett-announces-retirement-from-football'], ['M. Jones', 'JAX', '3', 'Personal conduct', 'Arrest, cocaine possession', '2009', 'http://sports.espn.go.com/nfl/news/story?id=4207106'], ['M. Lynch', 'BUF', '3', 'Personal conduct', 'Misdemeanour gun charge', '2009', 'http://sports.espn.go.com/nfl/news/story?id=4054396'], ['M. Pittman', 'TB', '3', 'Personal conduct', 'Domestic violence', '2004', 'http://sports.espn.go.com/nfl/news/story?id=1826233'], ['D. Washington', 'KC', '3', 'Personal conduct', 'DUI, marijuana-related', '2012', 'http://www.nfl.com/news/story/09000d5d82ab54ab/article/kansas-city-chiefs-donald-washington-charged-with-dui'], ['D.J. Williams', 'DEN', '3', 'Personal conduct', 'DUI arrest', '2012', 'http://espn.go.com/nfl/story/_/id/8466699/denver-broncos-linebacker-dj-williams-suspended-3-more-games'], ['L. Irvin', 'LA', '3', 'Substance abuse', 'Marijuana-related', '1989', 'http://articles.latimes.com/1989-08-30/sports/sp-1280_1_leroy-irvin'], ['J. Simpson', 'IND', '3', 'Substance abuse', 'Marijuana-related', '2012', 'http://espn.go.com/nfl/story/_/id/7849039/free-agent-receiver-jerome-simpson-suspended-three-games-league-source-says'], ['C. Martin', 'GB', '2', 'In-game violence', 'Illegal hit', '1986', 'http://espn.go.com/blog/nflnation/tag/_/name/frank-filchock'], ['N. Suh', 'DET', '2', 'In-game violence', 'Stomping on player', '2011', 'http://espn.go.com/nfl/story/_/id/7293935/ndamukong-suh-detroit-lions-suspended-two-games-pay'], ['W. Smith', 'NO', '2', 'PEDs', '', '2012', 'http://www.nfl.com/news/story/09000d5d821ea898/article/nfl-suspends-vikes-williams-saints-smith-in-starcaps-case'], ['K. Williams', 'MIN', '2', 'PEDs', '', '2011', 'http://espn.go.com/nfl/story/_/id/6922853/nfl-suspends-minnesota-vikings-kevin-williams-three-others-two-games'], ['P. Williams', 'MIN', '2', 'PEDs', '', '2011', 'http://espn.go.com/nfl/story/_/id/6922853/nfl-suspends-minnesota-vikings-kevin-williams-three-others-two-games'], ['S. Brandon', 'DEN', '2', 'Personal conduct', 'Domestic violence', '2007', 'http://www.denverpost.com/broncos/ci_6362668'], ['J. Bridges', 'ARI', '2', 'Personal conduct', 'Arrest, misdemeanour assault for pointing gun at stripper', '2012', 'http://www.newsobserver.com/2012/11/14/2482573/guard-jeremy-bridges-to-get-2nd.html'], ['F. Evans', 'MIN', '2', 'Personal conduct', 'Marijuana-related', '2012', 'http://www.nfl.com/news/story/09000d5d80496e88/article/vikings-evans-gets-twogame-suspension-per-nfl-conduct-policy'], ['L. Hill', 'SEA', '2', 'Personal conduct', 'Domestic violence', '2013', 'http://www.nfl.com/news/story/0ap1000000132752/article/seattle-seahawks-leroy-hill-arrested-on-assault-charges'], ['M. Leshoure', 'DET', '2', 'Personal conduct', 'Arrest, Marijuana-related', '2012', 'http://www.nfl.com/news/story/09000d5d829cc3b8/article/mikel-leshoure-suspended-two-games-by-nfl'], ['B. McDonald', 'FREE', '2', 'Personal conduct', '', '2013', 'http://www.usatoday.com/story/sports/nfl/2013/09/10/nfl-suspends-tom-zbikowski-brandon-mcdonald/2795979/'], ['B. Underwood', 'GB', '2', 'Personal conduct', 'Domestic violence', '2011', 'http://www.nationalfootballpost.com/Report-NFL-suspends-Brandon-Underwood-for-2-games.html'], ['M. Vick', 'ATL', '2', 'Personal conduct', 'Dogfighting', '2007', 'http://espn.go.com/blog/nflnation/tag/_/name/frank-filchock'], ['C. Williams', 'BAL', '2', 'Personal conduct', 'Domestic violence', '2010', 'http://sports.espn.go.com/nfl/news/story?id=5401102'], ['J. Babineaux', 'SEA', '2', 'Substance abuse', '', '2008', 'http://seattletimes.com/html/seahawks/2008148770_webhawk31.html'], ['J. Gordon', 'CLE', '2', 'Substance abuse', '', '2013', 'http://www.nfl.com/news/story/0ap1000000210218/article/josh-gordon-suspended-two-cleveland-browns-games'], ['D. Goldson', 'DEN', '1', 'In-game violence', 'Head-butt', '2013', 'http://www.nfl.com/news/story/0ap2000000284209/article/bucs-dashon-goldson-has-onegame-suspension-upheld'], ['M. Griffin', 'TEN', '1', 'In-game violence', 'Illegal hit', '2013', 'http://www.nfl.com/news/story/0ap2000000287948/article/titans-michael-griffin-suspended-1-game-for-illegal-hit'], ['J. Harrison', 'PIT', '1', 'In-game violence', 'Helmet-to-helmet hit', '2011', 'http://espn.go.com/nfl/story/_/id/7348112/pittsburgh-steelers-james-harrison-banned-1-game-hit-cleveland-browns-colt-mccoy'], ['J. Mays', 'DEN', '1', 'In-game violence', 'Helmet-to-helmet hit', '2012', 'http://www.nfl.com/news/story/0ap1000000066219/article/joe-mays-suspended-one-game-for-hit-on-matt-schaub'], ['B. Meriweather', 'WAS', '1', 'In-game violence', 'Helmet-to-helmet hit', '2013', 'http://www.nfl.com/news/story/0ap2000000268595/article/brandon-meriweathers-suspension-reduced-to-1-game'], ['E. Walden', 'IND', '1', 'In-game violence', 'Head-butt', '2013', 'http://www.nfl.com/news/story/0ap2000000284117/article/erik-walden-has-onegame-ban-for-headbutt-upheld'], ['J. Babineaux', 'ATL', '1', 'Personal conduct', 'Accused of battery and resisting arrest', '2010', 'http://usatoday30.usatoday.com/sports/football/nfl/falcons/2010-08-03-jonathan-babineaux_N.htm'], ['C. Benson', 'PIT', '1', 'Personal conduct', 'Misdemeanour assault', '2014', 'http://espn.go.com/nfl/story/_/id/7119178/suspension-cincinnati-bengals-cedric-benson-reduced-1-game-3'], ['R. Bernard', 'SEA', '1', 'Personal conduct', 'Assault', '2008', 'http://seattletimes.com/html/seahawks/2008148770_webhawk31.html'], ['M. Boley', 'NYG', '1', 'Personal conduct', 'Domestic violence', '2009', 'http://sports.espn.go.com/nfl/news/story?id=4311313'], ['K. Britt', 'TEN', '1', 'Personal conduct', 'DUI arrest', '2012', 'http://www.nfl.com/news/story/0ap1000000056660/article/kenny-britt-of-titans-suspended-one-game-by-nfl'], ['D. Carswell', 'DEN', '1', 'Personal conduct', 'Domestic violence', '2003', 'http://a.espncdn.com/nfl/news/2003/0703/1576427.html'], ['D. Dobbs', 'SF', '1', 'Personal conduct', 'DUI arrest, possession of marijuana', '2013', 'http://espn.go.com/nfl/trainingcamp13/story/_/id/9568430/demarcus-dobbs-san-francisco-49ers-suspended-week-1'], ['B. Hopkins', 'TEN', '1', 'Personal conduct', 'Domestic violence', '2005', 'http://sports.espn.go.com/nfl/columns/story?columnist=pasquarelli_len&id=2138940'], ['L. Johnson', 'KC', '1', 'Personal conduct', \"Simple assault for spitting drink in a woman's face\", '2008', 'http://sports.espn.go.com/nfl/news/story?id=3675871'], ['R. Manning', 'CHI', '1', 'Personal conduct', 'Felony arrest charges', '2006', 'http://sports.espn.go.com/nfl/news/story?id=2672378'], ['B. Marshall', 'DEN', '1', 'Personal conduct', 'Domestic violence', '2012', 'http://www.nfl.com/news/story/09000d5d827969b7/article/report-brandon-marshall-accused-of-hitting-woman-outside-club'], ['T. McDaniel', 'TB', '1', 'Personal conduct', 'Domestic violence', '2010', 'http://sports.espn.go.com/nfl/news/story?id=5622330'], ['Q. Ojinnaka', 'ATL', '1', 'Personal conduct', 'Domestic violence', '2010', 'http://sports.espn.go.com/nfl/news/story?id=5249193'], ['M. Purify', 'CIN', '1', 'Personal conduct', 'Disorderly conduct', '2010', 'http://espn.go.com/blog/afcnorth/post/_/id/16670/bengals-wr-purify-suspended-one-game'], ['D. Rhodes', 'CAR', '1', 'Personal conduct', 'Reckless driving', '2007', 'http://sports.espn.go.com/nfl/news/story?id=2925395'], ['V. Riley', 'KC', '1', 'Personal conduct', 'Domestic violence', '2002', 'http://a.espncdn.com/nfl/news/2003/0703/1576427.html'], ['D. Rodgers', 'MIA', '1', 'Personal conduct', 'Domestic violence', '2003', 'http://articles.sun-sentinel.com/2002-07-19/sports/0207190115_1_derrick-rodgers-kareff-rodgers-william-peguero'], ['A. Talib', 'TB', '1', 'Personal conduct', 'Simple battery, resisting arrest', '2009', 'http://www.denverpost.com/broncos/ci_25352579/broncos-cornerback-aqib-talib-comes-denver-plenty-baggage'], ['F. Washington', 'OAK', '1', 'Personal conduct', 'Domestic violence', '2008', 'http://espn.go.com/blog/baltimore-ravens/post/_/id/10593/what-punishment-should-ray-rice-expect'], ['P. Zukauskas', 'CLE', '1', 'Personal conduct', 'DUI (acquitted)', '2004', 'http://www.usatoday.com/sports/nfl/arrests/'], ['N. Bradham', 'BUF', '1', 'Substance abuse', 'Marijuana-related', '2014', 'http://www.nfl.com/news/story/0ap2000000371523/article/bills-lb-nigel-bradham-suspended-for-opening-game'], ['N. Collins', 'CHI', '1', 'Substance abuse', 'Marijuana-related', '2012', 'http://www.nfl.com/news/story/09000d5d82aaddb5/article/chicago-bears-dt-nate-collins-suspended-one-game-by-nfl'], ['T. Hali', 'KC', '1', 'Substance abuse', '', '2012', 'http://espn.go.com/nfl/trainingcamp12/story/_/id/8284849/kansas-city-chiefs-tamba-hali-suspended-one-game-nfl'], ['I. Pead', 'STL', '1', 'Substance abuse', 'Marijuana-related', '2013', 'http://www.nfl.com/news/story/0ap1000000208343/article/isaiah-pead-suspended-for-substance-abuse-violation'], ['D. Reed', 'BAL', '1', 'Substance abuse', 'Marijuana-related', '2011', 'http://www.nfl.com/news/story/09000d5d821eb87b/article/ravens-david-reed-suspended-for-substanceabuse-violation'], ['L. Wilson', 'NO', '1', 'Substance abuse', 'Marijuana-related', '2012', 'http://profootballtalk.nbcsports.com/2012/07/06/saints-linebacker-lawrence-wilson-suspended-fined-by-league/'], ['D. Scott', 'MIN', '3', 'Personal conduct', 'Child endangerment', '2008', 'http://sports.espn.go.com/nfl/news/story?id=3487505']]\n"
     ]
    },
    {
     "ename": "TypeError",
     "evalue": "unhashable type: 'list'",
     "output_type": "error",
     "traceback": [
      "\u001b[1;31m---------------------------------------------------------------------------\u001b[0m",
      "\u001b[1;31mTypeError\u001b[0m                                 Traceback (most recent call last)",
      "Cell \u001b[1;32mIn[13], line 12\u001b[0m\n\u001b[0;32m     10\u001b[0m \u001b[38;5;28;01mfor\u001b[39;00m row \u001b[38;5;129;01min\u001b[39;00m nfl_suspensions:\n\u001b[0;32m     11\u001b[0m     row_year \u001b[38;5;241m=\u001b[39m nfl_suspensions[\u001b[38;5;241m5\u001b[39m]\n\u001b[1;32m---> 12\u001b[0m     \u001b[38;5;28;01mif\u001b[39;00m row_year  \u001b[38;5;129;01min\u001b[39;00m year:\n\u001b[0;32m     13\u001b[0m         years[row_year] \u001b[38;5;241m+\u001b[39m\u001b[38;5;241m=\u001b[39m \u001b[38;5;241m1\u001b[39m\n\u001b[0;32m     14\u001b[0m     \u001b[38;5;28;01melse\u001b[39;00m: \n",
      "\u001b[1;31mTypeError\u001b[0m: unhashable type: 'list'"
     ]
    }
   ],
   "source": [
    "import  csv\n",
    "f =  open(\"nfl_suspensions_data.csv\")\n",
    "nfl_suspensions = csv.reader(f)\n",
    "nfl_suspensions = list(nfl_suspensions)\n",
    "#print(nfl_suspensions)\n",
    "nfl_suspensions = nfl_suspensions[1:] \n",
    "print(nfl_suspensions[1:])\n",
    "year_colum = nfl_suspensions[5]\n",
    "years = {}\n",
    "for row in nfl_suspensions:\n",
    "    row_year = nfl_suspensions[5]\n",
    "    if row_year  in year:\n",
    "        years[row_year] += 1\n",
    "    else: \n",
    "         years[row_year] = 1\n",
    "\n",
    "print(years)\n"
   ]
  },
  {
   "cell_type": "code",
   "execution_count": null,
   "id": "0ae6d32f-17fc-4fab-8b35-fb79d675eef3",
   "metadata": {},
   "outputs": [],
   "source": []
  }
 ],
 "metadata": {
  "kernelspec": {
   "display_name": "Python 3 (ipykernel)",
   "language": "python",
   "name": "python3"
  },
  "language_info": {
   "codemirror_mode": {
    "name": "ipython",
    "version": 3
   },
   "file_extension": ".py",
   "mimetype": "text/x-python",
   "name": "python",
   "nbconvert_exporter": "python",
   "pygments_lexer": "ipython3",
   "version": "3.11.7"
  }
 },
 "nbformat": 4,
 "nbformat_minor": 5
}
